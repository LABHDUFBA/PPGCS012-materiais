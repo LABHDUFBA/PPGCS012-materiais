{
 "cells": [
  {
   "cell_type": "markdown",
   "metadata": {},
   "source": [
    "# Semana 11\n",
    "21/10/2021"
   ]
  },
  {
   "cell_type": "markdown",
   "metadata": {},
   "source": [
    "O exercício a seguir pretende servir como reforço e prática no tratamento básico de dataframes com Pandas.\n",
    "\n",
    "É importantte dominar bem o básico de leitura e análise dos dados de cada coluna, assim como entender como selecionar e manipular os dados."
   ]
  },
  {
   "cell_type": "markdown",
   "metadata": {},
   "source": [
    "## Base de dados do Tráfico de Africanos Escravizados"
   ]
  },
  {
   "cell_type": "markdown",
   "metadata": {},
   "source": [
    "Esse dataset foi baixado da [Base de dados Comércio Transatlântico de Escravos](https://www.slavevoyages.org/voyage/database), parte do projeto [Slave Voyages](https://www.slavevoyages.org).\n",
    "\n",
    "Possuiu dados de mais de trinta e seis mil viagens de navios negreiros entre 1514 e 1866.\n",
    "\n",
    "Para esse dataset, selecionei apenas algumas colunas, pois a base de dados original possui mais de uma dezena de colunas.\n",
    "\n",
    "Como vcs vão perceber, esse dataset possuiu variados tipos de dados. Em muitas dessas colunas, o valor é `NaN`, portanto, é importante tratar as colunas que serão analisadas."
   ]
  },
  {
   "cell_type": "markdown",
   "metadata": {},
   "source": [
    "### Objetivos:\n",
    "\n",
    "1. Importar o Pandas\n",
    "2. Ler o CSV (`CSVs/slave_trade_database.csv`) e criar um dataframe\n",
    "3. Analisar a estrutura do dataframe (quantidades de linhas, colunas, nomes das colunas, tipos de dados\n",
    "4. Renomear as colunas: substitua os espaços por `_`\n",
    "5. Calcular as bandeiras mais frequentes\n",
    "6. Crie um novo dataframe apenas com as viagens cujo navio possui 'Brazil' na bandeira\n",
    "7. Contar os navios com a bandeira 'Brazil' que mais repetiram viagens\n",
    "8. Criar um dataframe apenas com navios com porcentagem de mortalidade maior que 10%"
   ]
  }
 ],
 "metadata": {
  "interpreter": {
   "hash": "916dbcbb3f70747c44a77c7bcd40155683ae19c65e1c03b4aa3499c5328201f1"
  },
  "kernelspec": {
   "display_name": "Python 3.9.5 64-bit",
   "name": "python3"
  },
  "language_info": {
   "name": "python",
   "version": "3.9.5"
  },
  "orig_nbformat": 4
 },
 "nbformat": 4,
 "nbformat_minor": 2
}
