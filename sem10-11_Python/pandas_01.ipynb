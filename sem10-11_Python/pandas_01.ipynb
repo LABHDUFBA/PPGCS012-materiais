{
 "cells": [
  {
   "cell_type": "markdown",
   "metadata": {},
   "source": [
    "# Pandas"
   ]
  },
  {
   "cell_type": "markdown",
   "metadata": {},
   "source": [
    "Nessa aula, vamos ver o básico do Pandas, uma biblioteca poderosa para trabalhar com dados tabulares, como CSV.\n",
    "\n",
    "Vamos ver:\n",
    "* Importar Pandas\n",
    "* Ler um CSV\n",
    "* Explorar e filtrar dados\n",
    "* Escrever um CSV"
   ]
  },
  {
   "cell_type": "markdown",
   "metadata": {},
   "source": [
    "## Importar Pandas"
   ]
  },
  {
   "cell_type": "code",
   "execution_count": 1,
   "metadata": {},
   "outputs": [],
   "source": [
    "import pandas as pd"
   ]
  },
  {
   "cell_type": "markdown",
   "metadata": {},
   "source": [
    "Para ler um arquivo CSV, usaremos a função `pd.read_csv ()` e inseriremos o nome do caminho de arquivo desejado."
   ]
  },
  {
   "cell_type": "code",
   "execution_count": 3,
   "metadata": {},
   "outputs": [],
   "source": [
    "quotes_df = pd.read_csv('CSVs/quotes_aula_final.csv')"
   ]
  },
  {
   "cell_type": "markdown",
   "metadata": {},
   "source": [
    "Isso cria um [objeto DataFrame](https://pandas.pydata.org/pandas-docs/stable/user_guide/dsintro.html#dataframe) Pandas - geralmente abreviado como * df *, por exemplo, *quotes_df*. Um DataFrame se parece e age muito como uma planilha. Mas tem poderes e funções especiais.\n",
    "\n",
    "Ao ler o arquivo CSV, também especificamos a `encoding` e o` delimiter`. O `delimiter` especifica o caractere que separa ou \"delimita\" as colunas em nosso conjunto de dados. Para arquivos CSV, o delimitador geralmente será uma vírgula. (CSV é a abreviação de *Valores separados por vírgula*.) Às vezes, no entanto, o delimitador de um arquivo CSV pode ser uma tabulação (`\\ t`) ou, mais raramente, outro caractere.\n",
    "\n",
    "## Mostrar dados\n",
    "\n",
    "Podemos exibir um DataFrame em um notebook Jupyter simplesmente executando uma célula com o nome da variável do DataFrame."
   ]
  },
  {
   "cell_type": "code",
   "execution_count": 4,
   "metadata": {},
   "outputs": [
    {
     "data": {
      "text/html": [
       "<div>\n",
       "<style scoped>\n",
       "    .dataframe tbody tr th:only-of-type {\n",
       "        vertical-align: middle;\n",
       "    }\n",
       "\n",
       "    .dataframe tbody tr th {\n",
       "        vertical-align: top;\n",
       "    }\n",
       "\n",
       "    .dataframe thead th {\n",
       "        text-align: right;\n",
       "    }\n",
       "</style>\n",
       "<table border=\"1\" class=\"dataframe\">\n",
       "  <thead>\n",
       "    <tr style=\"text-align: right;\">\n",
       "      <th></th>\n",
       "      <th>Unnamed: 0</th>\n",
       "      <th>Autor</th>\n",
       "      <th>Texto</th>\n",
       "      <th>Tags</th>\n",
       "    </tr>\n",
       "  </thead>\n",
       "  <tbody>\n",
       "    <tr>\n",
       "      <th>0</th>\n",
       "      <td>0</td>\n",
       "      <td>Albert Einstein</td>\n",
       "      <td>“The world as we have created it is a process ...</td>\n",
       "      <td>change,deep-thoughts,thinking,world</td>\n",
       "    </tr>\n",
       "    <tr>\n",
       "      <th>1</th>\n",
       "      <td>1</td>\n",
       "      <td>J.K. Rowling</td>\n",
       "      <td>“It is our choices, Harry, that show what we t...</td>\n",
       "      <td>abilities,choices</td>\n",
       "    </tr>\n",
       "    <tr>\n",
       "      <th>2</th>\n",
       "      <td>2</td>\n",
       "      <td>Albert Einstein</td>\n",
       "      <td>“There are only two ways to live your life. On...</td>\n",
       "      <td>inspirational,life,live,miracle,miracles</td>\n",
       "    </tr>\n",
       "    <tr>\n",
       "      <th>3</th>\n",
       "      <td>3</td>\n",
       "      <td>Jane Austen</td>\n",
       "      <td>“The person, be it gentleman or lady, who has ...</td>\n",
       "      <td>aliteracy,books,classic,humor</td>\n",
       "    </tr>\n",
       "    <tr>\n",
       "      <th>4</th>\n",
       "      <td>4</td>\n",
       "      <td>Marilyn Monroe</td>\n",
       "      <td>“Imperfection is beauty, madness is genius and...</td>\n",
       "      <td>be-yourself,inspirational</td>\n",
       "    </tr>\n",
       "    <tr>\n",
       "      <th>...</th>\n",
       "      <td>...</td>\n",
       "      <td>...</td>\n",
       "      <td>...</td>\n",
       "      <td>...</td>\n",
       "    </tr>\n",
       "    <tr>\n",
       "      <th>95</th>\n",
       "      <td>95</td>\n",
       "      <td>Harper Lee</td>\n",
       "      <td>“You never really understand a person until yo...</td>\n",
       "      <td>better-life-empathy</td>\n",
       "    </tr>\n",
       "    <tr>\n",
       "      <th>96</th>\n",
       "      <td>96</td>\n",
       "      <td>Madeleine L'Engle</td>\n",
       "      <td>“You have to write the book that wants to be w...</td>\n",
       "      <td>books,children,difficult,grown-ups,write,write...</td>\n",
       "    </tr>\n",
       "    <tr>\n",
       "      <th>97</th>\n",
       "      <td>97</td>\n",
       "      <td>Mark Twain</td>\n",
       "      <td>“Never tell the truth to people who are not wo...</td>\n",
       "      <td>truth</td>\n",
       "    </tr>\n",
       "    <tr>\n",
       "      <th>98</th>\n",
       "      <td>98</td>\n",
       "      <td>Dr. Seuss</td>\n",
       "      <td>“A person's a person, no matter how small.”</td>\n",
       "      <td>inspirational</td>\n",
       "    </tr>\n",
       "    <tr>\n",
       "      <th>99</th>\n",
       "      <td>99</td>\n",
       "      <td>George R.R. Martin</td>\n",
       "      <td>“... a mind needs books as a sword needs a whe...</td>\n",
       "      <td>books,mind</td>\n",
       "    </tr>\n",
       "  </tbody>\n",
       "</table>\n",
       "<p>100 rows × 4 columns</p>\n",
       "</div>"
      ],
      "text/plain": [
       "    Unnamed: 0               Autor  \\\n",
       "0            0     Albert Einstein   \n",
       "1            1        J.K. Rowling   \n",
       "2            2     Albert Einstein   \n",
       "3            3         Jane Austen   \n",
       "4            4      Marilyn Monroe   \n",
       "..         ...                 ...   \n",
       "95          95          Harper Lee   \n",
       "96          96   Madeleine L'Engle   \n",
       "97          97          Mark Twain   \n",
       "98          98           Dr. Seuss   \n",
       "99          99  George R.R. Martin   \n",
       "\n",
       "                                                Texto  \\\n",
       "0   “The world as we have created it is a process ...   \n",
       "1   “It is our choices, Harry, that show what we t...   \n",
       "2   “There are only two ways to live your life. On...   \n",
       "3   “The person, be it gentleman or lady, who has ...   \n",
       "4   “Imperfection is beauty, madness is genius and...   \n",
       "..                                                ...   \n",
       "95  “You never really understand a person until yo...   \n",
       "96  “You have to write the book that wants to be w...   \n",
       "97  “Never tell the truth to people who are not wo...   \n",
       "98        “A person's a person, no matter how small.”   \n",
       "99  “... a mind needs books as a sword needs a whe...   \n",
       "\n",
       "                                                 Tags  \n",
       "0                 change,deep-thoughts,thinking,world  \n",
       "1                                   abilities,choices  \n",
       "2            inspirational,life,live,miracle,miracles  \n",
       "3                       aliteracy,books,classic,humor  \n",
       "4                           be-yourself,inspirational  \n",
       "..                                                ...  \n",
       "95                                better-life-empathy  \n",
       "96  books,children,difficult,grown-ups,write,write...  \n",
       "97                                              truth  \n",
       "98                                      inspirational  \n",
       "99                                         books,mind  \n",
       "\n",
       "[100 rows x 4 columns]"
      ]
     },
     "execution_count": 4,
     "metadata": {},
     "output_type": "execute_result"
    }
   ],
   "source": [
    "quotes_df"
   ]
  },
  {
   "cell_type": "markdown",
   "metadata": {},
   "source": [
    "* Index\n",
    "  * Os números crescentes na coluna da extrema esquerda do DataFrame são chamados de *Index*. Você pode selecionar linhas com base no índice.\n",
    "  * Por padrão, o Index é uma sequência de números começando com zero. No entanto, você pode alterar o index para outra coisa, como uma das colunas em seu conjunto de dados. "
   ]
  },
  {
   "cell_type": "code",
   "execution_count": 6,
   "metadata": {},
   "outputs": [],
   "source": [
    "# index_col=0 -> coluna 0 é o index\n",
    "quotes_df = pd.read_csv('CSVs/quotes_aula_final.csv' , sep=',', index_col=0) "
   ]
  },
  {
   "cell_type": "code",
   "execution_count": 7,
   "metadata": {},
   "outputs": [
    {
     "data": {
      "text/html": [
       "<div>\n",
       "<style scoped>\n",
       "    .dataframe tbody tr th:only-of-type {\n",
       "        vertical-align: middle;\n",
       "    }\n",
       "\n",
       "    .dataframe tbody tr th {\n",
       "        vertical-align: top;\n",
       "    }\n",
       "\n",
       "    .dataframe thead th {\n",
       "        text-align: right;\n",
       "    }\n",
       "</style>\n",
       "<table border=\"1\" class=\"dataframe\">\n",
       "  <thead>\n",
       "    <tr style=\"text-align: right;\">\n",
       "      <th></th>\n",
       "      <th>Autor</th>\n",
       "      <th>Texto</th>\n",
       "      <th>Tags</th>\n",
       "    </tr>\n",
       "  </thead>\n",
       "  <tbody>\n",
       "    <tr>\n",
       "      <th>0</th>\n",
       "      <td>Albert Einstein</td>\n",
       "      <td>“The world as we have created it is a process ...</td>\n",
       "      <td>change,deep-thoughts,thinking,world</td>\n",
       "    </tr>\n",
       "    <tr>\n",
       "      <th>1</th>\n",
       "      <td>J.K. Rowling</td>\n",
       "      <td>“It is our choices, Harry, that show what we t...</td>\n",
       "      <td>abilities,choices</td>\n",
       "    </tr>\n",
       "    <tr>\n",
       "      <th>2</th>\n",
       "      <td>Albert Einstein</td>\n",
       "      <td>“There are only two ways to live your life. On...</td>\n",
       "      <td>inspirational,life,live,miracle,miracles</td>\n",
       "    </tr>\n",
       "    <tr>\n",
       "      <th>3</th>\n",
       "      <td>Jane Austen</td>\n",
       "      <td>“The person, be it gentleman or lady, who has ...</td>\n",
       "      <td>aliteracy,books,classic,humor</td>\n",
       "    </tr>\n",
       "    <tr>\n",
       "      <th>4</th>\n",
       "      <td>Marilyn Monroe</td>\n",
       "      <td>“Imperfection is beauty, madness is genius and...</td>\n",
       "      <td>be-yourself,inspirational</td>\n",
       "    </tr>\n",
       "    <tr>\n",
       "      <th>...</th>\n",
       "      <td>...</td>\n",
       "      <td>...</td>\n",
       "      <td>...</td>\n",
       "    </tr>\n",
       "    <tr>\n",
       "      <th>95</th>\n",
       "      <td>Harper Lee</td>\n",
       "      <td>“You never really understand a person until yo...</td>\n",
       "      <td>better-life-empathy</td>\n",
       "    </tr>\n",
       "    <tr>\n",
       "      <th>96</th>\n",
       "      <td>Madeleine L'Engle</td>\n",
       "      <td>“You have to write the book that wants to be w...</td>\n",
       "      <td>books,children,difficult,grown-ups,write,write...</td>\n",
       "    </tr>\n",
       "    <tr>\n",
       "      <th>97</th>\n",
       "      <td>Mark Twain</td>\n",
       "      <td>“Never tell the truth to people who are not wo...</td>\n",
       "      <td>truth</td>\n",
       "    </tr>\n",
       "    <tr>\n",
       "      <th>98</th>\n",
       "      <td>Dr. Seuss</td>\n",
       "      <td>“A person's a person, no matter how small.”</td>\n",
       "      <td>inspirational</td>\n",
       "    </tr>\n",
       "    <tr>\n",
       "      <th>99</th>\n",
       "      <td>George R.R. Martin</td>\n",
       "      <td>“... a mind needs books as a sword needs a whe...</td>\n",
       "      <td>books,mind</td>\n",
       "    </tr>\n",
       "  </tbody>\n",
       "</table>\n",
       "<p>100 rows × 3 columns</p>\n",
       "</div>"
      ],
      "text/plain": [
       "                 Autor                                              Texto  \\\n",
       "0      Albert Einstein  “The world as we have created it is a process ...   \n",
       "1         J.K. Rowling  “It is our choices, Harry, that show what we t...   \n",
       "2      Albert Einstein  “There are only two ways to live your life. On...   \n",
       "3          Jane Austen  “The person, be it gentleman or lady, who has ...   \n",
       "4       Marilyn Monroe  “Imperfection is beauty, madness is genius and...   \n",
       "..                 ...                                                ...   \n",
       "95          Harper Lee  “You never really understand a person until yo...   \n",
       "96   Madeleine L'Engle  “You have to write the book that wants to be w...   \n",
       "97          Mark Twain  “Never tell the truth to people who are not wo...   \n",
       "98           Dr. Seuss        “A person's a person, no matter how small.”   \n",
       "99  George R.R. Martin  “... a mind needs books as a sword needs a whe...   \n",
       "\n",
       "                                                 Tags  \n",
       "0                 change,deep-thoughts,thinking,world  \n",
       "1                                   abilities,choices  \n",
       "2            inspirational,life,live,miracle,miracles  \n",
       "3                       aliteracy,books,classic,humor  \n",
       "4                           be-yourself,inspirational  \n",
       "..                                                ...  \n",
       "95                                better-life-empathy  \n",
       "96  books,children,difficult,grown-ups,write,write...  \n",
       "97                                              truth  \n",
       "98                                      inspirational  \n",
       "99                                         books,mind  \n",
       "\n",
       "[100 rows x 3 columns]"
      ]
     },
     "execution_count": 7,
     "metadata": {},
     "output_type": "execute_result"
    }
   ],
   "source": [
    "quotes_df"
   ]
  },
  {
   "cell_type": "markdown",
   "metadata": {},
   "source": [
    "### Exibir as primeiras *n* linhas\n",
    "\n",
    "Para examinar as primeiras n linhas em um DataFrame, podemos usar um método chamado `.head()`. "
   ]
  },
  {
   "cell_type": "code",
   "execution_count": 8,
   "metadata": {},
   "outputs": [
    {
     "data": {
      "text/html": [
       "<div>\n",
       "<style scoped>\n",
       "    .dataframe tbody tr th:only-of-type {\n",
       "        vertical-align: middle;\n",
       "    }\n",
       "\n",
       "    .dataframe tbody tr th {\n",
       "        vertical-align: top;\n",
       "    }\n",
       "\n",
       "    .dataframe thead th {\n",
       "        text-align: right;\n",
       "    }\n",
       "</style>\n",
       "<table border=\"1\" class=\"dataframe\">\n",
       "  <thead>\n",
       "    <tr style=\"text-align: right;\">\n",
       "      <th></th>\n",
       "      <th>Autor</th>\n",
       "      <th>Texto</th>\n",
       "      <th>Tags</th>\n",
       "    </tr>\n",
       "  </thead>\n",
       "  <tbody>\n",
       "    <tr>\n",
       "      <th>0</th>\n",
       "      <td>Albert Einstein</td>\n",
       "      <td>“The world as we have created it is a process ...</td>\n",
       "      <td>change,deep-thoughts,thinking,world</td>\n",
       "    </tr>\n",
       "    <tr>\n",
       "      <th>1</th>\n",
       "      <td>J.K. Rowling</td>\n",
       "      <td>“It is our choices, Harry, that show what we t...</td>\n",
       "      <td>abilities,choices</td>\n",
       "    </tr>\n",
       "    <tr>\n",
       "      <th>2</th>\n",
       "      <td>Albert Einstein</td>\n",
       "      <td>“There are only two ways to live your life. On...</td>\n",
       "      <td>inspirational,life,live,miracle,miracles</td>\n",
       "    </tr>\n",
       "    <tr>\n",
       "      <th>3</th>\n",
       "      <td>Jane Austen</td>\n",
       "      <td>“The person, be it gentleman or lady, who has ...</td>\n",
       "      <td>aliteracy,books,classic,humor</td>\n",
       "    </tr>\n",
       "    <tr>\n",
       "      <th>4</th>\n",
       "      <td>Marilyn Monroe</td>\n",
       "      <td>“Imperfection is beauty, madness is genius and...</td>\n",
       "      <td>be-yourself,inspirational</td>\n",
       "    </tr>\n",
       "  </tbody>\n",
       "</table>\n",
       "</div>"
      ],
      "text/plain": [
       "             Autor                                              Texto  \\\n",
       "0  Albert Einstein  “The world as we have created it is a process ...   \n",
       "1     J.K. Rowling  “It is our choices, Harry, that show what we t...   \n",
       "2  Albert Einstein  “There are only two ways to live your life. On...   \n",
       "3      Jane Austen  “The person, be it gentleman or lady, who has ...   \n",
       "4   Marilyn Monroe  “Imperfection is beauty, madness is genius and...   \n",
       "\n",
       "                                       Tags  \n",
       "0       change,deep-thoughts,thinking,world  \n",
       "1                         abilities,choices  \n",
       "2  inspirational,life,live,miracle,miracles  \n",
       "3             aliteracy,books,classic,humor  \n",
       "4                 be-yourself,inspirational  "
      ]
     },
     "execution_count": 8,
     "metadata": {},
     "output_type": "execute_result"
    }
   ],
   "source": [
    "quotes_df.head()"
   ]
  },
  {
   "cell_type": "code",
   "execution_count": 9,
   "metadata": {},
   "outputs": [
    {
     "data": {
      "text/html": [
       "<div>\n",
       "<style scoped>\n",
       "    .dataframe tbody tr th:only-of-type {\n",
       "        vertical-align: middle;\n",
       "    }\n",
       "\n",
       "    .dataframe tbody tr th {\n",
       "        vertical-align: top;\n",
       "    }\n",
       "\n",
       "    .dataframe thead th {\n",
       "        text-align: right;\n",
       "    }\n",
       "</style>\n",
       "<table border=\"1\" class=\"dataframe\">\n",
       "  <thead>\n",
       "    <tr style=\"text-align: right;\">\n",
       "      <th></th>\n",
       "      <th>Autor</th>\n",
       "      <th>Texto</th>\n",
       "      <th>Tags</th>\n",
       "    </tr>\n",
       "  </thead>\n",
       "  <tbody>\n",
       "    <tr>\n",
       "      <th>0</th>\n",
       "      <td>Albert Einstein</td>\n",
       "      <td>“The world as we have created it is a process ...</td>\n",
       "      <td>change,deep-thoughts,thinking,world</td>\n",
       "    </tr>\n",
       "    <tr>\n",
       "      <th>1</th>\n",
       "      <td>J.K. Rowling</td>\n",
       "      <td>“It is our choices, Harry, that show what we t...</td>\n",
       "      <td>abilities,choices</td>\n",
       "    </tr>\n",
       "    <tr>\n",
       "      <th>2</th>\n",
       "      <td>Albert Einstein</td>\n",
       "      <td>“There are only two ways to live your life. On...</td>\n",
       "      <td>inspirational,life,live,miracle,miracles</td>\n",
       "    </tr>\n",
       "    <tr>\n",
       "      <th>3</th>\n",
       "      <td>Jane Austen</td>\n",
       "      <td>“The person, be it gentleman or lady, who has ...</td>\n",
       "      <td>aliteracy,books,classic,humor</td>\n",
       "    </tr>\n",
       "    <tr>\n",
       "      <th>4</th>\n",
       "      <td>Marilyn Monroe</td>\n",
       "      <td>“Imperfection is beauty, madness is genius and...</td>\n",
       "      <td>be-yourself,inspirational</td>\n",
       "    </tr>\n",
       "    <tr>\n",
       "      <th>5</th>\n",
       "      <td>Albert Einstein</td>\n",
       "      <td>“Try not to become a man of success. Rather be...</td>\n",
       "      <td>adulthood,success,value</td>\n",
       "    </tr>\n",
       "    <tr>\n",
       "      <th>6</th>\n",
       "      <td>André Gide</td>\n",
       "      <td>“It is better to be hated for what you are tha...</td>\n",
       "      <td>life,love</td>\n",
       "    </tr>\n",
       "    <tr>\n",
       "      <th>7</th>\n",
       "      <td>Thomas A. Edison</td>\n",
       "      <td>“I have not failed. I've just found 10,000 way...</td>\n",
       "      <td>edison,failure,inspirational,paraphrased</td>\n",
       "    </tr>\n",
       "    <tr>\n",
       "      <th>8</th>\n",
       "      <td>Eleanor Roosevelt</td>\n",
       "      <td>“A woman is like a tea bag; you never know how...</td>\n",
       "      <td>misattributed-eleanor-roosevelt</td>\n",
       "    </tr>\n",
       "    <tr>\n",
       "      <th>9</th>\n",
       "      <td>Steve Martin</td>\n",
       "      <td>“A day without sunshine is like, you know, nig...</td>\n",
       "      <td>humor,obvious,simile</td>\n",
       "    </tr>\n",
       "  </tbody>\n",
       "</table>\n",
       "</div>"
      ],
      "text/plain": [
       "               Autor                                              Texto  \\\n",
       "0    Albert Einstein  “The world as we have created it is a process ...   \n",
       "1       J.K. Rowling  “It is our choices, Harry, that show what we t...   \n",
       "2    Albert Einstein  “There are only two ways to live your life. On...   \n",
       "3        Jane Austen  “The person, be it gentleman or lady, who has ...   \n",
       "4     Marilyn Monroe  “Imperfection is beauty, madness is genius and...   \n",
       "5    Albert Einstein  “Try not to become a man of success. Rather be...   \n",
       "6         André Gide  “It is better to be hated for what you are tha...   \n",
       "7   Thomas A. Edison  “I have not failed. I've just found 10,000 way...   \n",
       "8  Eleanor Roosevelt  “A woman is like a tea bag; you never know how...   \n",
       "9       Steve Martin  “A day without sunshine is like, you know, nig...   \n",
       "\n",
       "                                       Tags  \n",
       "0       change,deep-thoughts,thinking,world  \n",
       "1                         abilities,choices  \n",
       "2  inspirational,life,live,miracle,miracles  \n",
       "3             aliteracy,books,classic,humor  \n",
       "4                 be-yourself,inspirational  \n",
       "5                   adulthood,success,value  \n",
       "6                                 life,love  \n",
       "7  edison,failure,inspirational,paraphrased  \n",
       "8           misattributed-eleanor-roosevelt  \n",
       "9                      humor,obvious,simile  "
      ]
     },
     "execution_count": 9,
     "metadata": {},
     "output_type": "execute_result"
    }
   ],
   "source": [
    "quotes_df.head(10)"
   ]
  },
  {
   "cell_type": "markdown",
   "metadata": {},
   "source": [
    "## Ver as últimas *n* linhas"
   ]
  },
  {
   "cell_type": "code",
   "execution_count": 10,
   "metadata": {},
   "outputs": [
    {
     "data": {
      "text/html": [
       "<div>\n",
       "<style scoped>\n",
       "    .dataframe tbody tr th:only-of-type {\n",
       "        vertical-align: middle;\n",
       "    }\n",
       "\n",
       "    .dataframe tbody tr th {\n",
       "        vertical-align: top;\n",
       "    }\n",
       "\n",
       "    .dataframe thead th {\n",
       "        text-align: right;\n",
       "    }\n",
       "</style>\n",
       "<table border=\"1\" class=\"dataframe\">\n",
       "  <thead>\n",
       "    <tr style=\"text-align: right;\">\n",
       "      <th></th>\n",
       "      <th>Autor</th>\n",
       "      <th>Texto</th>\n",
       "      <th>Tags</th>\n",
       "    </tr>\n",
       "  </thead>\n",
       "  <tbody>\n",
       "    <tr>\n",
       "      <th>95</th>\n",
       "      <td>Harper Lee</td>\n",
       "      <td>“You never really understand a person until yo...</td>\n",
       "      <td>better-life-empathy</td>\n",
       "    </tr>\n",
       "    <tr>\n",
       "      <th>96</th>\n",
       "      <td>Madeleine L'Engle</td>\n",
       "      <td>“You have to write the book that wants to be w...</td>\n",
       "      <td>books,children,difficult,grown-ups,write,write...</td>\n",
       "    </tr>\n",
       "    <tr>\n",
       "      <th>97</th>\n",
       "      <td>Mark Twain</td>\n",
       "      <td>“Never tell the truth to people who are not wo...</td>\n",
       "      <td>truth</td>\n",
       "    </tr>\n",
       "    <tr>\n",
       "      <th>98</th>\n",
       "      <td>Dr. Seuss</td>\n",
       "      <td>“A person's a person, no matter how small.”</td>\n",
       "      <td>inspirational</td>\n",
       "    </tr>\n",
       "    <tr>\n",
       "      <th>99</th>\n",
       "      <td>George R.R. Martin</td>\n",
       "      <td>“... a mind needs books as a sword needs a whe...</td>\n",
       "      <td>books,mind</td>\n",
       "    </tr>\n",
       "  </tbody>\n",
       "</table>\n",
       "</div>"
      ],
      "text/plain": [
       "                 Autor                                              Texto  \\\n",
       "95          Harper Lee  “You never really understand a person until yo...   \n",
       "96   Madeleine L'Engle  “You have to write the book that wants to be w...   \n",
       "97          Mark Twain  “Never tell the truth to people who are not wo...   \n",
       "98           Dr. Seuss        “A person's a person, no matter how small.”   \n",
       "99  George R.R. Martin  “... a mind needs books as a sword needs a whe...   \n",
       "\n",
       "                                                 Tags  \n",
       "95                                better-life-empathy  \n",
       "96  books,children,difficult,grown-ups,write,write...  \n",
       "97                                              truth  \n",
       "98                                      inspirational  \n",
       "99                                         books,mind  "
      ]
     },
     "execution_count": 10,
     "metadata": {},
     "output_type": "execute_result"
    }
   ],
   "source": [
    "quotes_df.tail()"
   ]
  },
  {
   "cell_type": "markdown",
   "metadata": {},
   "source": [
    "Para obter informações importantes sobre todas as colunas no DataFrame, podemos usar `.info()`."
   ]
  },
  {
   "cell_type": "code",
   "execution_count": 11,
   "metadata": {},
   "outputs": [
    {
     "name": "stdout",
     "output_type": "stream",
     "text": [
      "<class 'pandas.core.frame.DataFrame'>\n",
      "Int64Index: 100 entries, 0 to 99\n",
      "Data columns (total 3 columns):\n",
      " #   Column  Non-Null Count  Dtype \n",
      "---  ------  --------------  ----- \n",
      " 0   Autor   100 non-null    object\n",
      " 1   Texto   100 non-null    object\n",
      " 2   Tags    97 non-null     object\n",
      "dtypes: object(3)\n",
      "memory usage: 3.1+ KB\n"
     ]
    }
   ],
   "source": [
    "quotes_df.info()"
   ]
  },
  {
   "cell_type": "markdown",
   "metadata": {},
   "source": [
    "Este relatório nos dirá quantos valores não nulos ou não em branco estão em cada coluna, bem como qual *tipo* de dados está em cada coluna.\n",
    "\n",
    "| **Pandas Data Type** |  **Explicação**                                                                                   |\n",
    "|:-------------:|:---------------------------------------------------------------------------------------------------:|\n",
    "| `object`         | string                                                                               |\n",
    "| `float64`         | float                                               |\n",
    "| `int64`       | integer                                                        |\n",
    "| `datetime64`       |  date time              "
   ]
  },
  {
   "cell_type": "code",
   "execution_count": 12,
   "metadata": {},
   "outputs": [
    {
     "data": {
      "text/plain": [
       "(100, 3)"
      ]
     },
     "execution_count": 12,
     "metadata": {},
     "output_type": "execute_result"
    }
   ],
   "source": [
    "quotes_df.shape"
   ]
  },
  {
   "cell_type": "markdown",
   "metadata": {},
   "source": [
    "## Analisar as colunas"
   ]
  },
  {
   "cell_type": "code",
   "execution_count": 13,
   "metadata": {},
   "outputs": [
    {
     "data": {
      "text/plain": [
       "Index(['Autor', 'Texto', 'Tags'], dtype='object')"
      ]
     },
     "execution_count": 13,
     "metadata": {},
     "output_type": "execute_result"
    }
   ],
   "source": [
    "quotes_df.columns"
   ]
  },
  {
   "cell_type": "code",
   "execution_count": 14,
   "metadata": {},
   "outputs": [
    {
     "data": {
      "text/plain": [
       "Autor    object\n",
       "Texto    object\n",
       "Tags     object\n",
       "dtype: object"
      ]
     },
     "execution_count": 14,
     "metadata": {},
     "output_type": "execute_result"
    }
   ],
   "source": [
    "# tipo dos dados das colunas\n",
    "quotes_df.dtypes"
   ]
  },
  {
   "cell_type": "markdown",
   "metadata": {},
   "source": [
    "## Selecionar uma coluna\n",
    "\n",
    "Para selecionar uma coluna do DataFrame, digitaremos o nome do DataFrame seguido por colchetes e um nome de coluna entre aspas."
   ]
  },
  {
   "cell_type": "code",
   "execution_count": 15,
   "metadata": {},
   "outputs": [
    {
     "data": {
      "text/plain": [
       "0        Albert Einstein\n",
       "1           J.K. Rowling\n",
       "2        Albert Einstein\n",
       "3            Jane Austen\n",
       "4         Marilyn Monroe\n",
       "             ...        \n",
       "95            Harper Lee\n",
       "96     Madeleine L'Engle\n",
       "97            Mark Twain\n",
       "98             Dr. Seuss\n",
       "99    George R.R. Martin\n",
       "Name: Autor, Length: 100, dtype: object"
      ]
     },
     "execution_count": 15,
     "metadata": {},
     "output_type": "execute_result"
    }
   ],
   "source": [
    "quotes_df['Autor']"
   ]
  },
  {
   "cell_type": "markdown",
   "metadata": {},
   "source": [
    "Tecnicamente, uma única coluna em um DataFrame é um objeto [*Series*](https://pandas.pydata.org/pandas-docs/stable/user_guide/dsintro.html#dsintro)."
   ]
  },
  {
   "cell_type": "code",
   "execution_count": 16,
   "metadata": {},
   "outputs": [
    {
     "data": {
      "text/plain": [
       "pandas.core.series.Series"
      ]
     },
     "execution_count": 16,
     "metadata": {},
     "output_type": "execute_result"
    }
   ],
   "source": [
    "type(quotes_df['Autor'])"
   ]
  },
  {
   "cell_type": "markdown",
   "metadata": {},
   "source": [
    "Um objeto Series é exibido de maneira diferente de um objeto DataFrame. Para selecionar uma coluna como DataFrame e não como objeto Series, usaremos dois colchetes."
   ]
  },
  {
   "cell_type": "code",
   "execution_count": 17,
   "metadata": {},
   "outputs": [
    {
     "data": {
      "text/html": [
       "<div>\n",
       "<style scoped>\n",
       "    .dataframe tbody tr th:only-of-type {\n",
       "        vertical-align: middle;\n",
       "    }\n",
       "\n",
       "    .dataframe tbody tr th {\n",
       "        vertical-align: top;\n",
       "    }\n",
       "\n",
       "    .dataframe thead th {\n",
       "        text-align: right;\n",
       "    }\n",
       "</style>\n",
       "<table border=\"1\" class=\"dataframe\">\n",
       "  <thead>\n",
       "    <tr style=\"text-align: right;\">\n",
       "      <th></th>\n",
       "      <th>Autor</th>\n",
       "    </tr>\n",
       "  </thead>\n",
       "  <tbody>\n",
       "    <tr>\n",
       "      <th>0</th>\n",
       "      <td>Albert Einstein</td>\n",
       "    </tr>\n",
       "    <tr>\n",
       "      <th>1</th>\n",
       "      <td>J.K. Rowling</td>\n",
       "    </tr>\n",
       "    <tr>\n",
       "      <th>2</th>\n",
       "      <td>Albert Einstein</td>\n",
       "    </tr>\n",
       "    <tr>\n",
       "      <th>3</th>\n",
       "      <td>Jane Austen</td>\n",
       "    </tr>\n",
       "    <tr>\n",
       "      <th>4</th>\n",
       "      <td>Marilyn Monroe</td>\n",
       "    </tr>\n",
       "    <tr>\n",
       "      <th>...</th>\n",
       "      <td>...</td>\n",
       "    </tr>\n",
       "    <tr>\n",
       "      <th>95</th>\n",
       "      <td>Harper Lee</td>\n",
       "    </tr>\n",
       "    <tr>\n",
       "      <th>96</th>\n",
       "      <td>Madeleine L'Engle</td>\n",
       "    </tr>\n",
       "    <tr>\n",
       "      <th>97</th>\n",
       "      <td>Mark Twain</td>\n",
       "    </tr>\n",
       "    <tr>\n",
       "      <th>98</th>\n",
       "      <td>Dr. Seuss</td>\n",
       "    </tr>\n",
       "    <tr>\n",
       "      <th>99</th>\n",
       "      <td>George R.R. Martin</td>\n",
       "    </tr>\n",
       "  </tbody>\n",
       "</table>\n",
       "<p>100 rows × 1 columns</p>\n",
       "</div>"
      ],
      "text/plain": [
       "                 Autor\n",
       "0      Albert Einstein\n",
       "1         J.K. Rowling\n",
       "2      Albert Einstein\n",
       "3          Jane Austen\n",
       "4       Marilyn Monroe\n",
       "..                 ...\n",
       "95          Harper Lee\n",
       "96   Madeleine L'Engle\n",
       "97          Mark Twain\n",
       "98           Dr. Seuss\n",
       "99  George R.R. Martin\n",
       "\n",
       "[100 rows x 1 columns]"
      ]
     },
     "execution_count": 17,
     "metadata": {},
     "output_type": "execute_result"
    }
   ],
   "source": [
    "quotes_df[['Autor']]"
   ]
  },
  {
   "cell_type": "code",
   "execution_count": 18,
   "metadata": {},
   "outputs": [
    {
     "data": {
      "text/plain": [
       "pandas.core.frame.DataFrame"
      ]
     },
     "execution_count": 18,
     "metadata": {},
     "output_type": "execute_result"
    }
   ],
   "source": [
    "type(quotes_df[['Autor']])"
   ]
  },
  {
   "cell_type": "markdown",
   "metadata": {},
   "source": [
    "Usando dois colchetes, também podemos selecionar várias colunas ao mesmo tempo."
   ]
  },
  {
   "cell_type": "code",
   "execution_count": 19,
   "metadata": {},
   "outputs": [
    {
     "data": {
      "text/html": [
       "<div>\n",
       "<style scoped>\n",
       "    .dataframe tbody tr th:only-of-type {\n",
       "        vertical-align: middle;\n",
       "    }\n",
       "\n",
       "    .dataframe tbody tr th {\n",
       "        vertical-align: top;\n",
       "    }\n",
       "\n",
       "    .dataframe thead th {\n",
       "        text-align: right;\n",
       "    }\n",
       "</style>\n",
       "<table border=\"1\" class=\"dataframe\">\n",
       "  <thead>\n",
       "    <tr style=\"text-align: right;\">\n",
       "      <th></th>\n",
       "      <th>Autor</th>\n",
       "      <th>Tags</th>\n",
       "    </tr>\n",
       "  </thead>\n",
       "  <tbody>\n",
       "    <tr>\n",
       "      <th>0</th>\n",
       "      <td>Albert Einstein</td>\n",
       "      <td>change,deep-thoughts,thinking,world</td>\n",
       "    </tr>\n",
       "    <tr>\n",
       "      <th>1</th>\n",
       "      <td>J.K. Rowling</td>\n",
       "      <td>abilities,choices</td>\n",
       "    </tr>\n",
       "    <tr>\n",
       "      <th>2</th>\n",
       "      <td>Albert Einstein</td>\n",
       "      <td>inspirational,life,live,miracle,miracles</td>\n",
       "    </tr>\n",
       "    <tr>\n",
       "      <th>3</th>\n",
       "      <td>Jane Austen</td>\n",
       "      <td>aliteracy,books,classic,humor</td>\n",
       "    </tr>\n",
       "    <tr>\n",
       "      <th>4</th>\n",
       "      <td>Marilyn Monroe</td>\n",
       "      <td>be-yourself,inspirational</td>\n",
       "    </tr>\n",
       "    <tr>\n",
       "      <th>...</th>\n",
       "      <td>...</td>\n",
       "      <td>...</td>\n",
       "    </tr>\n",
       "    <tr>\n",
       "      <th>95</th>\n",
       "      <td>Harper Lee</td>\n",
       "      <td>better-life-empathy</td>\n",
       "    </tr>\n",
       "    <tr>\n",
       "      <th>96</th>\n",
       "      <td>Madeleine L'Engle</td>\n",
       "      <td>books,children,difficult,grown-ups,write,write...</td>\n",
       "    </tr>\n",
       "    <tr>\n",
       "      <th>97</th>\n",
       "      <td>Mark Twain</td>\n",
       "      <td>truth</td>\n",
       "    </tr>\n",
       "    <tr>\n",
       "      <th>98</th>\n",
       "      <td>Dr. Seuss</td>\n",
       "      <td>inspirational</td>\n",
       "    </tr>\n",
       "    <tr>\n",
       "      <th>99</th>\n",
       "      <td>George R.R. Martin</td>\n",
       "      <td>books,mind</td>\n",
       "    </tr>\n",
       "  </tbody>\n",
       "</table>\n",
       "<p>100 rows × 2 columns</p>\n",
       "</div>"
      ],
      "text/plain": [
       "                 Autor                                               Tags\n",
       "0      Albert Einstein                change,deep-thoughts,thinking,world\n",
       "1         J.K. Rowling                                  abilities,choices\n",
       "2      Albert Einstein           inspirational,life,live,miracle,miracles\n",
       "3          Jane Austen                      aliteracy,books,classic,humor\n",
       "4       Marilyn Monroe                          be-yourself,inspirational\n",
       "..                 ...                                                ...\n",
       "95          Harper Lee                                better-life-empathy\n",
       "96   Madeleine L'Engle  books,children,difficult,grown-ups,write,write...\n",
       "97          Mark Twain                                              truth\n",
       "98           Dr. Seuss                                      inspirational\n",
       "99  George R.R. Martin                                         books,mind\n",
       "\n",
       "[100 rows x 2 columns]"
      ]
     },
     "execution_count": 19,
     "metadata": {},
     "output_type": "execute_result"
    }
   ],
   "source": [
    "quotes_df[['Autor','Tags']]"
   ]
  },
  {
   "cell_type": "markdown",
   "metadata": {},
   "source": [
    "E se colocarmos apenas um colchete?"
   ]
  },
  {
   "cell_type": "code",
   "execution_count": 20,
   "metadata": {},
   "outputs": [
    {
     "ename": "KeyError",
     "evalue": "('Autor', 'Tags')",
     "output_type": "error",
     "traceback": [
      "\u001b[0;31m---------------------------------------------------------------------------\u001b[0m",
      "\u001b[0;31mKeyError\u001b[0m                                  Traceback (most recent call last)",
      "\u001b[0;32m~/.local/lib/python3.9/site-packages/pandas/core/indexes/base.py\u001b[0m in \u001b[0;36mget_loc\u001b[0;34m(self, key, method, tolerance)\u001b[0m\n\u001b[1;32m   3360\u001b[0m             \u001b[0;32mtry\u001b[0m\u001b[0;34m:\u001b[0m\u001b[0;34m\u001b[0m\u001b[0;34m\u001b[0m\u001b[0m\n\u001b[0;32m-> 3361\u001b[0;31m                 \u001b[0;32mreturn\u001b[0m \u001b[0mself\u001b[0m\u001b[0;34m.\u001b[0m\u001b[0m_engine\u001b[0m\u001b[0;34m.\u001b[0m\u001b[0mget_loc\u001b[0m\u001b[0;34m(\u001b[0m\u001b[0mcasted_key\u001b[0m\u001b[0;34m)\u001b[0m\u001b[0;34m\u001b[0m\u001b[0;34m\u001b[0m\u001b[0m\n\u001b[0m\u001b[1;32m   3362\u001b[0m             \u001b[0;32mexcept\u001b[0m \u001b[0mKeyError\u001b[0m \u001b[0;32mas\u001b[0m \u001b[0merr\u001b[0m\u001b[0;34m:\u001b[0m\u001b[0;34m\u001b[0m\u001b[0;34m\u001b[0m\u001b[0m\n",
      "\u001b[0;32m~/.local/lib/python3.9/site-packages/pandas/_libs/index.pyx\u001b[0m in \u001b[0;36mpandas._libs.index.IndexEngine.get_loc\u001b[0;34m()\u001b[0m\n",
      "\u001b[0;32m~/.local/lib/python3.9/site-packages/pandas/_libs/index.pyx\u001b[0m in \u001b[0;36mpandas._libs.index.IndexEngine.get_loc\u001b[0;34m()\u001b[0m\n",
      "\u001b[0;32mpandas/_libs/hashtable_class_helper.pxi\u001b[0m in \u001b[0;36mpandas._libs.hashtable.PyObjectHashTable.get_item\u001b[0;34m()\u001b[0m\n",
      "\u001b[0;32mpandas/_libs/hashtable_class_helper.pxi\u001b[0m in \u001b[0;36mpandas._libs.hashtable.PyObjectHashTable.get_item\u001b[0;34m()\u001b[0m\n",
      "\u001b[0;31mKeyError\u001b[0m: ('Autor', 'Tags')",
      "\nThe above exception was the direct cause of the following exception:\n",
      "\u001b[0;31mKeyError\u001b[0m                                  Traceback (most recent call last)",
      "\u001b[0;32m/tmp/ipykernel_192275/904026425.py\u001b[0m in \u001b[0;36m<module>\u001b[0;34m\u001b[0m\n\u001b[0;32m----> 1\u001b[0;31m \u001b[0mquotes_df\u001b[0m\u001b[0;34m[\u001b[0m\u001b[0;34m'Autor'\u001b[0m\u001b[0;34m,\u001b[0m\u001b[0;34m'Tags'\u001b[0m\u001b[0;34m]\u001b[0m\u001b[0;34m\u001b[0m\u001b[0;34m\u001b[0m\u001b[0m\n\u001b[0m",
      "\u001b[0;32m~/.local/lib/python3.9/site-packages/pandas/core/frame.py\u001b[0m in \u001b[0;36m__getitem__\u001b[0;34m(self, key)\u001b[0m\n\u001b[1;32m   3453\u001b[0m             \u001b[0;32mif\u001b[0m \u001b[0mself\u001b[0m\u001b[0;34m.\u001b[0m\u001b[0mcolumns\u001b[0m\u001b[0;34m.\u001b[0m\u001b[0mnlevels\u001b[0m \u001b[0;34m>\u001b[0m \u001b[0;36m1\u001b[0m\u001b[0;34m:\u001b[0m\u001b[0;34m\u001b[0m\u001b[0;34m\u001b[0m\u001b[0m\n\u001b[1;32m   3454\u001b[0m                 \u001b[0;32mreturn\u001b[0m \u001b[0mself\u001b[0m\u001b[0;34m.\u001b[0m\u001b[0m_getitem_multilevel\u001b[0m\u001b[0;34m(\u001b[0m\u001b[0mkey\u001b[0m\u001b[0;34m)\u001b[0m\u001b[0;34m\u001b[0m\u001b[0;34m\u001b[0m\u001b[0m\n\u001b[0;32m-> 3455\u001b[0;31m             \u001b[0mindexer\u001b[0m \u001b[0;34m=\u001b[0m \u001b[0mself\u001b[0m\u001b[0;34m.\u001b[0m\u001b[0mcolumns\u001b[0m\u001b[0;34m.\u001b[0m\u001b[0mget_loc\u001b[0m\u001b[0;34m(\u001b[0m\u001b[0mkey\u001b[0m\u001b[0;34m)\u001b[0m\u001b[0;34m\u001b[0m\u001b[0;34m\u001b[0m\u001b[0m\n\u001b[0m\u001b[1;32m   3456\u001b[0m             \u001b[0;32mif\u001b[0m \u001b[0mis_integer\u001b[0m\u001b[0;34m(\u001b[0m\u001b[0mindexer\u001b[0m\u001b[0;34m)\u001b[0m\u001b[0;34m:\u001b[0m\u001b[0;34m\u001b[0m\u001b[0;34m\u001b[0m\u001b[0m\n\u001b[1;32m   3457\u001b[0m                 \u001b[0mindexer\u001b[0m \u001b[0;34m=\u001b[0m \u001b[0;34m[\u001b[0m\u001b[0mindexer\u001b[0m\u001b[0;34m]\u001b[0m\u001b[0;34m\u001b[0m\u001b[0;34m\u001b[0m\u001b[0m\n",
      "\u001b[0;32m~/.local/lib/python3.9/site-packages/pandas/core/indexes/base.py\u001b[0m in \u001b[0;36mget_loc\u001b[0;34m(self, key, method, tolerance)\u001b[0m\n\u001b[1;32m   3361\u001b[0m                 \u001b[0;32mreturn\u001b[0m \u001b[0mself\u001b[0m\u001b[0;34m.\u001b[0m\u001b[0m_engine\u001b[0m\u001b[0;34m.\u001b[0m\u001b[0mget_loc\u001b[0m\u001b[0;34m(\u001b[0m\u001b[0mcasted_key\u001b[0m\u001b[0;34m)\u001b[0m\u001b[0;34m\u001b[0m\u001b[0;34m\u001b[0m\u001b[0m\n\u001b[1;32m   3362\u001b[0m             \u001b[0;32mexcept\u001b[0m \u001b[0mKeyError\u001b[0m \u001b[0;32mas\u001b[0m \u001b[0merr\u001b[0m\u001b[0;34m:\u001b[0m\u001b[0;34m\u001b[0m\u001b[0;34m\u001b[0m\u001b[0m\n\u001b[0;32m-> 3363\u001b[0;31m                 \u001b[0;32mraise\u001b[0m \u001b[0mKeyError\u001b[0m\u001b[0;34m(\u001b[0m\u001b[0mkey\u001b[0m\u001b[0;34m)\u001b[0m \u001b[0;32mfrom\u001b[0m \u001b[0merr\u001b[0m\u001b[0;34m\u001b[0m\u001b[0;34m\u001b[0m\u001b[0m\n\u001b[0m\u001b[1;32m   3364\u001b[0m \u001b[0;34m\u001b[0m\u001b[0m\n\u001b[1;32m   3365\u001b[0m         \u001b[0;32mif\u001b[0m \u001b[0mis_scalar\u001b[0m\u001b[0;34m(\u001b[0m\u001b[0mkey\u001b[0m\u001b[0;34m)\u001b[0m \u001b[0;32mand\u001b[0m \u001b[0misna\u001b[0m\u001b[0;34m(\u001b[0m\u001b[0mkey\u001b[0m\u001b[0;34m)\u001b[0m \u001b[0;32mand\u001b[0m \u001b[0;32mnot\u001b[0m \u001b[0mself\u001b[0m\u001b[0;34m.\u001b[0m\u001b[0mhasnans\u001b[0m\u001b[0;34m:\u001b[0m\u001b[0;34m\u001b[0m\u001b[0;34m\u001b[0m\u001b[0m\n",
      "\u001b[0;31mKeyError\u001b[0m: ('Autor', 'Tags')"
     ]
    }
   ],
   "source": [
    "quotes_df['Autor','Tags']\n"
   ]
  },
  {
   "cell_type": "code",
   "execution_count": 23,
   "metadata": {},
   "outputs": [],
   "source": [
    "# renomear colunas\n",
    "quotes_df.rename(columns={'Autor':'AUTOR', 'Tags':'TAGS'}, inplace=True)"
   ]
  },
  {
   "cell_type": "code",
   "execution_count": 24,
   "metadata": {},
   "outputs": [
    {
     "data": {
      "text/html": [
       "<div>\n",
       "<style scoped>\n",
       "    .dataframe tbody tr th:only-of-type {\n",
       "        vertical-align: middle;\n",
       "    }\n",
       "\n",
       "    .dataframe tbody tr th {\n",
       "        vertical-align: top;\n",
       "    }\n",
       "\n",
       "    .dataframe thead th {\n",
       "        text-align: right;\n",
       "    }\n",
       "</style>\n",
       "<table border=\"1\" class=\"dataframe\">\n",
       "  <thead>\n",
       "    <tr style=\"text-align: right;\">\n",
       "      <th></th>\n",
       "      <th>AUTOR</th>\n",
       "      <th>Texto</th>\n",
       "      <th>TAGS</th>\n",
       "    </tr>\n",
       "  </thead>\n",
       "  <tbody>\n",
       "    <tr>\n",
       "      <th>0</th>\n",
       "      <td>Albert Einstein</td>\n",
       "      <td>“The world as we have created it is a process ...</td>\n",
       "      <td>change,deep-thoughts,thinking,world</td>\n",
       "    </tr>\n",
       "    <tr>\n",
       "      <th>1</th>\n",
       "      <td>J.K. Rowling</td>\n",
       "      <td>“It is our choices, Harry, that show what we t...</td>\n",
       "      <td>abilities,choices</td>\n",
       "    </tr>\n",
       "  </tbody>\n",
       "</table>\n",
       "</div>"
      ],
      "text/plain": [
       "             AUTOR                                              Texto  \\\n",
       "0  Albert Einstein  “The world as we have created it is a process ...   \n",
       "1     J.K. Rowling  “It is our choices, Harry, that show what we t...   \n",
       "\n",
       "                                  TAGS  \n",
       "0  change,deep-thoughts,thinking,world  \n",
       "1                    abilities,choices  "
      ]
     },
     "execution_count": 24,
     "metadata": {},
     "output_type": "execute_result"
    }
   ],
   "source": [
    "quotes_df.head(2)"
   ]
  },
  {
   "cell_type": "markdown",
   "metadata": {},
   "source": [
    "### Substituir strings nas linhas de uma coluna"
   ]
  },
  {
   "cell_type": "code",
   "execution_count": 25,
   "metadata": {},
   "outputs": [],
   "source": [
    "quotes_df['TAGS'] = quotes_df['TAGS'].str.replace(',', ' - ')"
   ]
  },
  {
   "cell_type": "code",
   "execution_count": 26,
   "metadata": {},
   "outputs": [
    {
     "data": {
      "text/html": [
       "<div>\n",
       "<style scoped>\n",
       "    .dataframe tbody tr th:only-of-type {\n",
       "        vertical-align: middle;\n",
       "    }\n",
       "\n",
       "    .dataframe tbody tr th {\n",
       "        vertical-align: top;\n",
       "    }\n",
       "\n",
       "    .dataframe thead th {\n",
       "        text-align: right;\n",
       "    }\n",
       "</style>\n",
       "<table border=\"1\" class=\"dataframe\">\n",
       "  <thead>\n",
       "    <tr style=\"text-align: right;\">\n",
       "      <th></th>\n",
       "      <th>AUTOR</th>\n",
       "      <th>Texto</th>\n",
       "      <th>TAGS</th>\n",
       "    </tr>\n",
       "  </thead>\n",
       "  <tbody>\n",
       "    <tr>\n",
       "      <th>0</th>\n",
       "      <td>Albert Einstein</td>\n",
       "      <td>“The world as we have created it is a process ...</td>\n",
       "      <td>change - deep-thoughts - thinking - world</td>\n",
       "    </tr>\n",
       "    <tr>\n",
       "      <th>1</th>\n",
       "      <td>J.K. Rowling</td>\n",
       "      <td>“It is our choices, Harry, that show what we t...</td>\n",
       "      <td>abilities - choices</td>\n",
       "    </tr>\n",
       "  </tbody>\n",
       "</table>\n",
       "</div>"
      ],
      "text/plain": [
       "             AUTOR                                              Texto  \\\n",
       "0  Albert Einstein  “The world as we have created it is a process ...   \n",
       "1     J.K. Rowling  “It is our choices, Harry, that show what we t...   \n",
       "\n",
       "                                        TAGS  \n",
       "0  change - deep-thoughts - thinking - world  \n",
       "1                        abilities - choices  "
      ]
     },
     "execution_count": 26,
     "metadata": {},
     "output_type": "execute_result"
    }
   ],
   "source": [
    "quotes_df.head(2)"
   ]
  },
  {
   "cell_type": "markdown",
   "metadata": {},
   "source": [
    "## Contar valores"
   ]
  },
  {
   "cell_type": "markdown",
   "metadata": {},
   "source": [
    "Para contar o número de valores *únicos* em uma coluna, podemos usar o método `.value_counts()`."
   ]
  },
  {
   "cell_type": "code",
   "execution_count": 28,
   "metadata": {},
   "outputs": [
    {
     "data": {
      "text/plain": [
       "Albert Einstein           10\n",
       "J.K. Rowling               9\n",
       "Marilyn Monroe             7\n",
       "Dr. Seuss                  6\n",
       "Mark Twain                 6\n",
       "C.S. Lewis                 5\n",
       "Jane Austen                5\n",
       "Bob Marley                 3\n",
       "Eleanor Roosevelt          2\n",
       "Charles Bukowski           2\n",
       "Suzanne Collins            2\n",
       "George R.R. Martin         2\n",
       "Ralph Waldo Emerson        2\n",
       "Mother Teresa              2\n",
       "Ernest Hemingway           2\n",
       "J.D. Salinger              1\n",
       "George Bernard Shaw        1\n",
       "J.R.R. Tolkien             1\n",
       "Alfred Tennyson            1\n",
       "Terry Pratchett            1\n",
       "John Lennon                1\n",
       "George Carlin              1\n",
       "W.C. Fields                1\n",
       "Ayn Rand                   1\n",
       "Jimi Hendrix               1\n",
       "J.M. Barrie                1\n",
       "E.E. Cummings              1\n",
       "Khaled Hosseini            1\n",
       "Harper Lee                 1\n",
       "Helen Keller               1\n",
       "Haruki Murakami            1\n",
       "Stephenie Meyer            1\n",
       "Garrison Keillor           1\n",
       "Thomas A. Edison           1\n",
       "Douglas Adams              1\n",
       "Elie Wiesel                1\n",
       "Friedrich Nietzsche        1\n",
       "André Gide                 1\n",
       "Allen Saunders             1\n",
       "Pablo Neruda               1\n",
       "Jim Henson                 1\n",
       "Alexandre Dumas fils       1\n",
       "Charles M. Schulz          1\n",
       "William Nicholson          1\n",
       "Jorge Luis Borges          1\n",
       "George Eliot               1\n",
       "Martin Luther King Jr.     1\n",
       "James Baldwin              1\n",
       "Steve Martin               1\n",
       "Madeleine L'Engle          1\n",
       "Name: AUTOR, dtype: int64"
      ]
     },
     "execution_count": 28,
     "metadata": {},
     "output_type": "execute_result"
    }
   ],
   "source": [
    "quotes_df['AUTOR'].value_counts()"
   ]
  },
  {
   "cell_type": "code",
   "execution_count": 29,
   "metadata": {},
   "outputs": [
    {
     "data": {
      "text/plain": [
       "pandas.core.series.Series"
      ]
     },
     "execution_count": 29,
     "metadata": {},
     "output_type": "execute_result"
    }
   ],
   "source": [
    "type(quotes_df['AUTOR'].value_counts())"
   ]
  },
  {
   "cell_type": "markdown",
   "metadata": {},
   "source": [
    "## Filtrar/Subconjunto de Dados"
   ]
  },
  {
   "cell_type": "markdown",
   "metadata": {},
   "source": [
    "Podemos filtrar um DataFrame Pandas para selecionar apenas alguns valores. Filtrar dados por determinados valores é semelhante a selecionar colunas.\n",
    "\n",
    "Digitamos o nome do DataFrame seguido por colchetes e então, em vez de inserir um nome de coluna, inserimos uma condição Verdadeiro/Falso. Por exemplo, para selecionar apenas linhas que contenham o valor \"Albert Einstein\", inserimos a condição `quotes_df ['Autor'] == 'Albert Einstein'`"
   ]
  },
  {
   "cell_type": "code",
   "execution_count": 32,
   "metadata": {},
   "outputs": [
    {
     "data": {
      "text/html": [
       "<div>\n",
       "<style scoped>\n",
       "    .dataframe tbody tr th:only-of-type {\n",
       "        vertical-align: middle;\n",
       "    }\n",
       "\n",
       "    .dataframe tbody tr th {\n",
       "        vertical-align: top;\n",
       "    }\n",
       "\n",
       "    .dataframe thead th {\n",
       "        text-align: right;\n",
       "    }\n",
       "</style>\n",
       "<table border=\"1\" class=\"dataframe\">\n",
       "  <thead>\n",
       "    <tr style=\"text-align: right;\">\n",
       "      <th></th>\n",
       "      <th>AUTOR</th>\n",
       "      <th>Texto</th>\n",
       "      <th>TAGS</th>\n",
       "    </tr>\n",
       "  </thead>\n",
       "  <tbody>\n",
       "  </tbody>\n",
       "</table>\n",
       "</div>"
      ],
      "text/plain": [
       "Empty DataFrame\n",
       "Columns: [AUTOR, Texto, TAGS]\n",
       "Index: []"
      ]
     },
     "execution_count": 32,
     "metadata": {},
     "output_type": "execute_result"
    }
   ],
   "source": [
    "quotes_df[quotes_df['AUTOR'] == 'Albert Einstein']"
   ]
  },
  {
   "cell_type": "code",
   "execution_count": 33,
   "metadata": {},
   "outputs": [
    {
     "ename": "ValueError",
     "evalue": "Cannot mask with non-boolean array containing NA / NaN values",
     "output_type": "error",
     "traceback": [
      "\u001b[0;31m---------------------------------------------------------------------------\u001b[0m",
      "\u001b[0;31mValueError\u001b[0m                                Traceback (most recent call last)",
      "\u001b[0;32m/tmp/ipykernel_192275/3555013141.py\u001b[0m in \u001b[0;36m<module>\u001b[0;34m\u001b[0m\n\u001b[1;32m      1\u001b[0m \u001b[0;31m# filtrar coluna que contenha algum valor usando contains\u001b[0m\u001b[0;34m\u001b[0m\u001b[0;34m\u001b[0m\u001b[0;34m\u001b[0m\u001b[0m\n\u001b[0;32m----> 2\u001b[0;31m \u001b[0mquotes_df\u001b[0m\u001b[0;34m[\u001b[0m\u001b[0mquotes_df\u001b[0m\u001b[0;34m[\u001b[0m\u001b[0;34m'TAGS'\u001b[0m\u001b[0;34m]\u001b[0m\u001b[0;34m.\u001b[0m\u001b[0mstr\u001b[0m\u001b[0;34m.\u001b[0m\u001b[0mcontains\u001b[0m\u001b[0;34m(\u001b[0m\u001b[0;34m'life'\u001b[0m\u001b[0;34m)\u001b[0m\u001b[0;34m]\u001b[0m\u001b[0;34m\u001b[0m\u001b[0;34m\u001b[0m\u001b[0m\n\u001b[0m",
      "\u001b[0;32m~/.local/lib/python3.9/site-packages/pandas/core/frame.py\u001b[0m in \u001b[0;36m__getitem__\u001b[0;34m(self, key)\u001b[0m\n\u001b[1;32m   3443\u001b[0m \u001b[0;34m\u001b[0m\u001b[0m\n\u001b[1;32m   3444\u001b[0m         \u001b[0;31m# Do we have a (boolean) 1d indexer?\u001b[0m\u001b[0;34m\u001b[0m\u001b[0;34m\u001b[0m\u001b[0;34m\u001b[0m\u001b[0m\n\u001b[0;32m-> 3445\u001b[0;31m         \u001b[0;32mif\u001b[0m \u001b[0mcom\u001b[0m\u001b[0;34m.\u001b[0m\u001b[0mis_bool_indexer\u001b[0m\u001b[0;34m(\u001b[0m\u001b[0mkey\u001b[0m\u001b[0;34m)\u001b[0m\u001b[0;34m:\u001b[0m\u001b[0;34m\u001b[0m\u001b[0;34m\u001b[0m\u001b[0m\n\u001b[0m\u001b[1;32m   3446\u001b[0m             \u001b[0;32mreturn\u001b[0m \u001b[0mself\u001b[0m\u001b[0;34m.\u001b[0m\u001b[0m_getitem_bool_array\u001b[0m\u001b[0;34m(\u001b[0m\u001b[0mkey\u001b[0m\u001b[0;34m)\u001b[0m\u001b[0;34m\u001b[0m\u001b[0;34m\u001b[0m\u001b[0m\n\u001b[1;32m   3447\u001b[0m \u001b[0;34m\u001b[0m\u001b[0m\n",
      "\u001b[0;32m~/.local/lib/python3.9/site-packages/pandas/core/common.py\u001b[0m in \u001b[0;36mis_bool_indexer\u001b[0;34m(key)\u001b[0m\n\u001b[1;32m    137\u001b[0m                     \u001b[0;31m# Don't raise on e.g. [\"A\", \"B\", np.nan], see\u001b[0m\u001b[0;34m\u001b[0m\u001b[0;34m\u001b[0m\u001b[0;34m\u001b[0m\u001b[0m\n\u001b[1;32m    138\u001b[0m                     \u001b[0;31m#  test_loc_getitem_list_of_labels_categoricalindex_with_na\u001b[0m\u001b[0;34m\u001b[0m\u001b[0;34m\u001b[0m\u001b[0;34m\u001b[0m\u001b[0m\n\u001b[0;32m--> 139\u001b[0;31m                     \u001b[0;32mraise\u001b[0m \u001b[0mValueError\u001b[0m\u001b[0;34m(\u001b[0m\u001b[0mna_msg\u001b[0m\u001b[0;34m)\u001b[0m\u001b[0;34m\u001b[0m\u001b[0;34m\u001b[0m\u001b[0m\n\u001b[0m\u001b[1;32m    140\u001b[0m                 \u001b[0;32mreturn\u001b[0m \u001b[0;32mFalse\u001b[0m\u001b[0;34m\u001b[0m\u001b[0;34m\u001b[0m\u001b[0m\n\u001b[1;32m    141\u001b[0m             \u001b[0;32mreturn\u001b[0m \u001b[0;32mTrue\u001b[0m\u001b[0;34m\u001b[0m\u001b[0;34m\u001b[0m\u001b[0m\n",
      "\u001b[0;31mValueError\u001b[0m: Cannot mask with non-boolean array containing NA / NaN values"
     ]
    }
   ],
   "source": [
    "# filtrar coluna que contenha algum valor usando contains\n",
    "quotes_df[quotes_df['TAGS'].str.contains('life')]"
   ]
  },
  {
   "cell_type": "code",
   "execution_count": 34,
   "metadata": {},
   "outputs": [],
   "source": [
    "# if the value is NA, then replace it with the value of the column\n",
    "quotes_df['TAGS'].fillna('SEM TAGS', inplace=True)"
   ]
  },
  {
   "cell_type": "code",
   "execution_count": 35,
   "metadata": {},
   "outputs": [
    {
     "data": {
      "text/html": [
       "<div>\n",
       "<style scoped>\n",
       "    .dataframe tbody tr th:only-of-type {\n",
       "        vertical-align: middle;\n",
       "    }\n",
       "\n",
       "    .dataframe tbody tr th {\n",
       "        vertical-align: top;\n",
       "    }\n",
       "\n",
       "    .dataframe thead th {\n",
       "        text-align: right;\n",
       "    }\n",
       "</style>\n",
       "<table border=\"1\" class=\"dataframe\">\n",
       "  <thead>\n",
       "    <tr style=\"text-align: right;\">\n",
       "      <th></th>\n",
       "      <th>AUTOR</th>\n",
       "      <th>Texto</th>\n",
       "      <th>TAGS</th>\n",
       "    </tr>\n",
       "  </thead>\n",
       "  <tbody>\n",
       "    <tr>\n",
       "      <th>2</th>\n",
       "      <td>Albert Einstein</td>\n",
       "      <td>“There are only two ways to live your life. On...</td>\n",
       "      <td>inspirational - life - live - miracle - miracles</td>\n",
       "    </tr>\n",
       "    <tr>\n",
       "      <th>6</th>\n",
       "      <td>André Gide</td>\n",
       "      <td>“It is better to be hated for what you are tha...</td>\n",
       "      <td>life - love</td>\n",
       "    </tr>\n",
       "    <tr>\n",
       "      <th>10</th>\n",
       "      <td>Marilyn Monroe</td>\n",
       "      <td>“This life is what you make it. No matter what...</td>\n",
       "      <td>friends - heartbreak - inspirational - life - ...</td>\n",
       "    </tr>\n",
       "    <tr>\n",
       "      <th>15</th>\n",
       "      <td>Douglas Adams</td>\n",
       "      <td>“I may not have gone where I intended to go, b...</td>\n",
       "      <td>life - navigation</td>\n",
       "    </tr>\n",
       "    <tr>\n",
       "      <th>18</th>\n",
       "      <td>Mark Twain</td>\n",
       "      <td>“Good friends, good books, and a sleepy consci...</td>\n",
       "      <td>books - contentment - friends - friendship - life</td>\n",
       "    </tr>\n",
       "    <tr>\n",
       "      <th>19</th>\n",
       "      <td>Allen Saunders</td>\n",
       "      <td>“Life is what happens to us while we are makin...</td>\n",
       "      <td>fate - life - misattributed-john-lennon - plan...</td>\n",
       "    </tr>\n",
       "    <tr>\n",
       "      <th>25</th>\n",
       "      <td>Dr. Seuss</td>\n",
       "      <td>“Today you are You, that is truer than true. T...</td>\n",
       "      <td>comedy - life - yourself</td>\n",
       "    </tr>\n",
       "    <tr>\n",
       "      <th>44</th>\n",
       "      <td>Albert Einstein</td>\n",
       "      <td>“Life is like riding a bicycle. To keep your b...</td>\n",
       "      <td>life - simile</td>\n",
       "    </tr>\n",
       "    <tr>\n",
       "      <th>59</th>\n",
       "      <td>George Bernard Shaw</td>\n",
       "      <td>“Life isn't about finding yourself. Life is ab...</td>\n",
       "      <td>inspirational - life - yourself</td>\n",
       "    </tr>\n",
       "    <tr>\n",
       "      <th>67</th>\n",
       "      <td>Ralph Waldo Emerson</td>\n",
       "      <td>“Finish each day and be done with it. You have...</td>\n",
       "      <td>life - regrets</td>\n",
       "    </tr>\n",
       "    <tr>\n",
       "      <th>87</th>\n",
       "      <td>Mark Twain</td>\n",
       "      <td>“The fear of death follows from the fear of li...</td>\n",
       "      <td>death - life</td>\n",
       "    </tr>\n",
       "    <tr>\n",
       "      <th>91</th>\n",
       "      <td>Jimi Hendrix</td>\n",
       "      <td>“I'm the one that's got to die when it's time ...</td>\n",
       "      <td>death - life</td>\n",
       "    </tr>\n",
       "    <tr>\n",
       "      <th>94</th>\n",
       "      <td>Khaled Hosseini</td>\n",
       "      <td>“But better to get hurt by the truth than comf...</td>\n",
       "      <td>life</td>\n",
       "    </tr>\n",
       "    <tr>\n",
       "      <th>95</th>\n",
       "      <td>Harper Lee</td>\n",
       "      <td>“You never really understand a person until yo...</td>\n",
       "      <td>better-life-empathy</td>\n",
       "    </tr>\n",
       "  </tbody>\n",
       "</table>\n",
       "</div>"
      ],
      "text/plain": [
       "                  AUTOR                                              Texto  \\\n",
       "2       Albert Einstein  “There are only two ways to live your life. On...   \n",
       "6            André Gide  “It is better to be hated for what you are tha...   \n",
       "10       Marilyn Monroe  “This life is what you make it. No matter what...   \n",
       "15        Douglas Adams  “I may not have gone where I intended to go, b...   \n",
       "18           Mark Twain  “Good friends, good books, and a sleepy consci...   \n",
       "19       Allen Saunders  “Life is what happens to us while we are makin...   \n",
       "25            Dr. Seuss  “Today you are You, that is truer than true. T...   \n",
       "44      Albert Einstein  “Life is like riding a bicycle. To keep your b...   \n",
       "59  George Bernard Shaw  “Life isn't about finding yourself. Life is ab...   \n",
       "67  Ralph Waldo Emerson  “Finish each day and be done with it. You have...   \n",
       "87           Mark Twain  “The fear of death follows from the fear of li...   \n",
       "91         Jimi Hendrix  “I'm the one that's got to die when it's time ...   \n",
       "94      Khaled Hosseini  “But better to get hurt by the truth than comf...   \n",
       "95           Harper Lee  “You never really understand a person until yo...   \n",
       "\n",
       "                                                 TAGS  \n",
       "2    inspirational - life - live - miracle - miracles  \n",
       "6                                         life - love  \n",
       "10  friends - heartbreak - inspirational - life - ...  \n",
       "15                                  life - navigation  \n",
       "18  books - contentment - friends - friendship - life  \n",
       "19  fate - life - misattributed-john-lennon - plan...  \n",
       "25                           comedy - life - yourself  \n",
       "44                                      life - simile  \n",
       "59                    inspirational - life - yourself  \n",
       "67                                     life - regrets  \n",
       "87                                       death - life  \n",
       "91                                       death - life  \n",
       "94                                               life  \n",
       "95                                better-life-empathy  "
      ]
     },
     "execution_count": 35,
     "metadata": {},
     "output_type": "execute_result"
    }
   ],
   "source": [
    "quotes_df[quotes_df['TAGS'].str.contains('life')]"
   ]
  },
  {
   "cell_type": "markdown",
   "metadata": {},
   "source": [
    "E se colocarmos apenas o que queremos filtrar?"
   ]
  },
  {
   "cell_type": "code",
   "execution_count": 38,
   "metadata": {},
   "outputs": [
    {
     "data": {
      "text/html": [
       "<div>\n",
       "<style scoped>\n",
       "    .dataframe tbody tr th:only-of-type {\n",
       "        vertical-align: middle;\n",
       "    }\n",
       "\n",
       "    .dataframe tbody tr th {\n",
       "        vertical-align: top;\n",
       "    }\n",
       "\n",
       "    .dataframe thead th {\n",
       "        text-align: right;\n",
       "    }\n",
       "</style>\n",
       "<table border=\"1\" class=\"dataframe\">\n",
       "  <thead>\n",
       "    <tr style=\"text-align: right;\">\n",
       "      <th></th>\n",
       "      <th>AUTOR</th>\n",
       "      <th>Texto</th>\n",
       "      <th>TAGS</th>\n",
       "    </tr>\n",
       "  </thead>\n",
       "  <tbody>\n",
       "    <tr>\n",
       "      <th>0</th>\n",
       "      <td>Albert Einstein</td>\n",
       "      <td>“The world as we have created it is a process ...</td>\n",
       "      <td>change - deep-thoughts - thinking - world</td>\n",
       "    </tr>\n",
       "    <tr>\n",
       "      <th>2</th>\n",
       "      <td>Albert Einstein</td>\n",
       "      <td>“There are only two ways to live your life. On...</td>\n",
       "      <td>inspirational - life - live - miracle - miracles</td>\n",
       "    </tr>\n",
       "    <tr>\n",
       "      <th>5</th>\n",
       "      <td>Albert Einstein</td>\n",
       "      <td>“Try not to become a man of success. Rather be...</td>\n",
       "      <td>adulthood - success - value</td>\n",
       "    </tr>\n",
       "    <tr>\n",
       "      <th>12</th>\n",
       "      <td>Albert Einstein</td>\n",
       "      <td>“If you can't explain it to a six year old, yo...</td>\n",
       "      <td>simplicity - understand</td>\n",
       "    </tr>\n",
       "    <tr>\n",
       "      <th>26</th>\n",
       "      <td>Albert Einstein</td>\n",
       "      <td>“If you want your children to be intelligent, ...</td>\n",
       "      <td>children - fairy-tales</td>\n",
       "    </tr>\n",
       "    <tr>\n",
       "      <th>28</th>\n",
       "      <td>Albert Einstein</td>\n",
       "      <td>“Logic will get you from A to Z; imagination w...</td>\n",
       "      <td>imagination</td>\n",
       "    </tr>\n",
       "    <tr>\n",
       "      <th>37</th>\n",
       "      <td>Albert Einstein</td>\n",
       "      <td>“Any fool can know. The point is to understand.”</td>\n",
       "      <td>knowledge - learning - understanding - wisdom</td>\n",
       "    </tr>\n",
       "    <tr>\n",
       "      <th>44</th>\n",
       "      <td>Albert Einstein</td>\n",
       "      <td>“Life is like riding a bicycle. To keep your b...</td>\n",
       "      <td>life - simile</td>\n",
       "    </tr>\n",
       "    <tr>\n",
       "      <th>53</th>\n",
       "      <td>Albert Einstein</td>\n",
       "      <td>“If I were not a physicist, I would probably b...</td>\n",
       "      <td>music</td>\n",
       "    </tr>\n",
       "    <tr>\n",
       "      <th>80</th>\n",
       "      <td>Albert Einstein</td>\n",
       "      <td>“Anyone who has never made a mistake has never...</td>\n",
       "      <td>mistakes</td>\n",
       "    </tr>\n",
       "  </tbody>\n",
       "</table>\n",
       "</div>"
      ],
      "text/plain": [
       "              AUTOR                                              Texto  \\\n",
       "0   Albert Einstein  “The world as we have created it is a process ...   \n",
       "2   Albert Einstein  “There are only two ways to live your life. On...   \n",
       "5   Albert Einstein  “Try not to become a man of success. Rather be...   \n",
       "12  Albert Einstein  “If you can't explain it to a six year old, yo...   \n",
       "26  Albert Einstein  “If you want your children to be intelligent, ...   \n",
       "28  Albert Einstein  “Logic will get you from A to Z; imagination w...   \n",
       "37  Albert Einstein   “Any fool can know. The point is to understand.”   \n",
       "44  Albert Einstein  “Life is like riding a bicycle. To keep your b...   \n",
       "53  Albert Einstein  “If I were not a physicist, I would probably b...   \n",
       "80  Albert Einstein  “Anyone who has never made a mistake has never...   \n",
       "\n",
       "                                                TAGS  \n",
       "0          change - deep-thoughts - thinking - world  \n",
       "2   inspirational - life - live - miracle - miracles  \n",
       "5                        adulthood - success - value  \n",
       "12                           simplicity - understand  \n",
       "26                            children - fairy-tales  \n",
       "28                                       imagination  \n",
       "37     knowledge - learning - understanding - wisdom  \n",
       "44                                     life - simile  \n",
       "53                                             music  \n",
       "80                                          mistakes  "
      ]
     },
     "execution_count": 38,
     "metadata": {},
     "output_type": "execute_result"
    }
   ],
   "source": [
    "quotes_df[quotes_df['AUTOR'] == 'Albert Einstein']"
   ]
  },
  {
   "cell_type": "code",
   "execution_count": 37,
   "metadata": {},
   "outputs": [
    {
     "data": {
      "text/plain": [
       "0      True\n",
       "1     False\n",
       "2      True\n",
       "3     False\n",
       "4     False\n",
       "      ...  \n",
       "95    False\n",
       "96    False\n",
       "97    False\n",
       "98    False\n",
       "99    False\n",
       "Name: AUTOR, Length: 100, dtype: bool"
      ]
     },
     "execution_count": 37,
     "metadata": {},
     "output_type": "execute_result"
    }
   ],
   "source": [
    "quotes_df['AUTOR'] == 'Albert Einstein'"
   ]
  },
  {
   "cell_type": "markdown",
   "metadata": {},
   "source": [
    "Filtrar DataFrames às vezes pode ser confuso e difícil de manejar (à medida que as condições dentro das condições se acumulam). Pode ser útil criar uma variável separada para um filtro, como a seguir."
   ]
  },
  {
   "cell_type": "code",
   "execution_count": 39,
   "metadata": {},
   "outputs": [],
   "source": [
    "einstein_filter = quotes_df['AUTOR'] == 'Albert Einstein'\n",
    "monroe_fiilter = quotes_df['AUTOR'] == 'Marilyn Monroe'"
   ]
  },
  {
   "cell_type": "code",
   "execution_count": 41,
   "metadata": {},
   "outputs": [
    {
     "data": {
      "text/html": [
       "<div>\n",
       "<style scoped>\n",
       "    .dataframe tbody tr th:only-of-type {\n",
       "        vertical-align: middle;\n",
       "    }\n",
       "\n",
       "    .dataframe tbody tr th {\n",
       "        vertical-align: top;\n",
       "    }\n",
       "\n",
       "    .dataframe thead th {\n",
       "        text-align: right;\n",
       "    }\n",
       "</style>\n",
       "<table border=\"1\" class=\"dataframe\">\n",
       "  <thead>\n",
       "    <tr style=\"text-align: right;\">\n",
       "      <th></th>\n",
       "      <th>AUTOR</th>\n",
       "      <th>Texto</th>\n",
       "      <th>TAGS</th>\n",
       "    </tr>\n",
       "  </thead>\n",
       "  <tbody>\n",
       "    <tr>\n",
       "      <th>4</th>\n",
       "      <td>Marilyn Monroe</td>\n",
       "      <td>“Imperfection is beauty, madness is genius and...</td>\n",
       "      <td>be-yourself - inspirational</td>\n",
       "    </tr>\n",
       "    <tr>\n",
       "      <th>10</th>\n",
       "      <td>Marilyn Monroe</td>\n",
       "      <td>“This life is what you make it. No matter what...</td>\n",
       "      <td>friends - heartbreak - inspirational - life - ...</td>\n",
       "    </tr>\n",
       "    <tr>\n",
       "      <th>42</th>\n",
       "      <td>Marilyn Monroe</td>\n",
       "      <td>“You believe lies so you eventually learn to t...</td>\n",
       "      <td>SEM TAGS</td>\n",
       "    </tr>\n",
       "    <tr>\n",
       "      <th>43</th>\n",
       "      <td>Marilyn Monroe</td>\n",
       "      <td>“If you can make a woman laugh, you can make h...</td>\n",
       "      <td>girls - love</td>\n",
       "    </tr>\n",
       "    <tr>\n",
       "      <th>45</th>\n",
       "      <td>Marilyn Monroe</td>\n",
       "      <td>“The real lover is the man who can thrill you ...</td>\n",
       "      <td>love</td>\n",
       "    </tr>\n",
       "    <tr>\n",
       "      <th>46</th>\n",
       "      <td>Marilyn Monroe</td>\n",
       "      <td>“A wise girl kisses but doesn't love, listens ...</td>\n",
       "      <td>attributed-no-source</td>\n",
       "    </tr>\n",
       "    <tr>\n",
       "      <th>52</th>\n",
       "      <td>Marilyn Monroe</td>\n",
       "      <td>“I am good, but not an angel. I do sin, but I ...</td>\n",
       "      <td>attributed-no-source</td>\n",
       "    </tr>\n",
       "  </tbody>\n",
       "</table>\n",
       "</div>"
      ],
      "text/plain": [
       "             AUTOR                                              Texto  \\\n",
       "4   Marilyn Monroe  “Imperfection is beauty, madness is genius and...   \n",
       "10  Marilyn Monroe  “This life is what you make it. No matter what...   \n",
       "42  Marilyn Monroe  “You believe lies so you eventually learn to t...   \n",
       "43  Marilyn Monroe  “If you can make a woman laugh, you can make h...   \n",
       "45  Marilyn Monroe  “The real lover is the man who can thrill you ...   \n",
       "46  Marilyn Monroe  “A wise girl kisses but doesn't love, listens ...   \n",
       "52  Marilyn Monroe  “I am good, but not an angel. I do sin, but I ...   \n",
       "\n",
       "                                                 TAGS  \n",
       "4                         be-yourself - inspirational  \n",
       "10  friends - heartbreak - inspirational - life - ...  \n",
       "42                                           SEM TAGS  \n",
       "43                                       girls - love  \n",
       "45                                               love  \n",
       "46                               attributed-no-source  \n",
       "52                               attributed-no-source  "
      ]
     },
     "execution_count": 41,
     "metadata": {},
     "output_type": "execute_result"
    }
   ],
   "source": [
    "quotes_df[monroe_fiilter]"
   ]
  },
  {
   "cell_type": "code",
   "execution_count": 42,
   "metadata": {},
   "outputs": [],
   "source": [
    "einstein_df = quotes_df[einstein_filter]\n",
    "monroe_df = quotes_df[monroe_fiilter]"
   ]
  },
  {
   "cell_type": "markdown",
   "metadata": {},
   "source": [
    "## Salvar como CSV"
   ]
  },
  {
   "cell_type": "code",
   "execution_count": 47,
   "metadata": {},
   "outputs": [],
   "source": [
    "einstein_df.to_csv(\"CSVs/einstein.csv\", encoding='utf-8', index=True)\n",
    "monroe_df.to_csv(\"CSVs/monroe.csv\", encoding='utf-8', index=False)"
   ]
  }
 ],
 "metadata": {
  "interpreter": {
   "hash": "916dbcbb3f70747c44a77c7bcd40155683ae19c65e1c03b4aa3499c5328201f1"
  },
  "kernelspec": {
   "display_name": "Python 3.9.5 64-bit",
   "name": "python3"
  },
  "language_info": {
   "codemirror_mode": {
    "name": "ipython",
    "version": 3
   },
   "file_extension": ".py",
   "mimetype": "text/x-python",
   "name": "python",
   "nbconvert_exporter": "python",
   "pygments_lexer": "ipython3",
   "version": "3.9.5"
  },
  "orig_nbformat": 4
 },
 "nbformat": 4,
 "nbformat_minor": 2
}
