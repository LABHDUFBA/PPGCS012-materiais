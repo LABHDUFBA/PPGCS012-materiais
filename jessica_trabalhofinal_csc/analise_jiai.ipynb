{
 "cells": [
  {
   "cell_type": "markdown",
   "metadata": {},
   "source": [
    "# Análise exploratória de dados com Pandas, Plotly e spaCy\n",
    "\n",
    "\n",
    "- Objetivo: Obter uma visão geral do acervo do periódico **Africa: Journal of the International African Institute** e de sua contribuição para os estudos africanos no recorte temporal de 1920 a 1960. A partir dessa análise inicial, poderemos identificar os autores que mais publicaram, em quais idiomas e quais os espaços geográficos estavam sendo mencionados nos trabalhos. \n",
    "\n",
    "- A análise utiliza metadados coletados da base bibliográfica do [JSTOR](https://www.jstor.org), a partir da ferramenta [Constellate](https://constellate.org). "
   ]
  },
  {
   "cell_type": "markdown",
   "metadata": {},
   "source": [
    "## Módulos e Bibliotecas utilizadas:\n",
    "- [Pandas](https://pandas.pydata.org/docs/)\n",
    "- [Plotly Express](https://plotly.com/python/plotly-express/)\n",
    "- [spaCy](https://spacy.io)"
   ]
  },
  {
   "cell_type": "code",
   "execution_count": 45,
   "metadata": {},
   "outputs": [],
   "source": [
    "# Importa as bibliotecas e módulos a serem utilizadas na análise exploratória de dados\n",
    "\n",
    "import pandas as pd \n",
    "import plotly.express as px\n",
    "import spacy"
   ]
  },
  {
   "cell_type": "markdown",
   "metadata": {},
   "source": [
    "## Importação do dataset e visão geral dos dados"
   ]
  },
  {
   "cell_type": "code",
   "execution_count": 46,
   "metadata": {},
   "outputs": [],
   "source": [
    "# Importa o dataset criado com o Constellate.org para um Dataframe Python\n",
    "\n",
    "df = pd.read_csv('csv/metadata.csv')"
   ]
  },
  {
   "cell_type": "code",
   "execution_count": 47,
   "metadata": {},
   "outputs": [
    {
     "name": "stdout",
     "output_type": "stream",
     "text": [
      "<class 'pandas.core.frame.DataFrame'>\n",
      "RangeIndex: 2555 entries, 0 to 2554\n",
      "Data columns (total 22 columns):\n",
      " #   Column              Non-Null Count  Dtype  \n",
      "---  ------              --------------  -----  \n",
      " 0   id                  2555 non-null   object \n",
      " 1   title               2555 non-null   object \n",
      " 2   isPartOf            2555 non-null   object \n",
      " 3   publicationYear     2555 non-null   int64  \n",
      " 4   doi                 0 non-null      float64\n",
      " 5   docType             2555 non-null   object \n",
      " 6   docSubType          2555 non-null   object \n",
      " 7   provider            2555 non-null   object \n",
      " 8   collection          0 non-null      float64\n",
      " 9   datePublished       2555 non-null   object \n",
      " 10  issueNumber         2555 non-null   int64  \n",
      " 11  volumeNumber        2555 non-null   int64  \n",
      " 12  url                 2555 non-null   object \n",
      " 13  creator             1956 non-null   object \n",
      " 14  publisher           2555 non-null   object \n",
      " 15  language            2555 non-null   object \n",
      " 16  pageStart           2438 non-null   object \n",
      " 17  pageEnd             2438 non-null   object \n",
      " 18  placeOfPublication  0 non-null      float64\n",
      " 19  wordCount           2555 non-null   int64  \n",
      " 20  pageCount           2555 non-null   int64  \n",
      " 21  outputFormat        2555 non-null   object \n",
      "dtypes: float64(3), int64(5), object(14)\n",
      "memory usage: 439.3+ KB\n"
     ]
    }
   ],
   "source": [
    "# Exibe as informações gerais do dataframe, como quantidade e nome das colunas, o número de\n",
    "# valores não-nulos, e os tipos de dados de cada coluna. \n",
    "\n",
    "df.info()"
   ]
  },
  {
   "cell_type": "code",
   "execution_count": 48,
   "metadata": {},
   "outputs": [
    {
     "data": {
      "text/html": [
       "<div>\n",
       "<style scoped>\n",
       "    .dataframe tbody tr th:only-of-type {\n",
       "        vertical-align: middle;\n",
       "    }\n",
       "\n",
       "    .dataframe tbody tr th {\n",
       "        vertical-align: top;\n",
       "    }\n",
       "\n",
       "    .dataframe thead th {\n",
       "        text-align: right;\n",
       "    }\n",
       "</style>\n",
       "<table border=\"1\" class=\"dataframe\">\n",
       "  <thead>\n",
       "    <tr style=\"text-align: right;\">\n",
       "      <th></th>\n",
       "      <th>id</th>\n",
       "      <th>title</th>\n",
       "      <th>isPartOf</th>\n",
       "      <th>publicationYear</th>\n",
       "      <th>doi</th>\n",
       "      <th>docType</th>\n",
       "      <th>docSubType</th>\n",
       "      <th>provider</th>\n",
       "      <th>collection</th>\n",
       "      <th>datePublished</th>\n",
       "      <th>...</th>\n",
       "      <th>url</th>\n",
       "      <th>creator</th>\n",
       "      <th>publisher</th>\n",
       "      <th>language</th>\n",
       "      <th>pageStart</th>\n",
       "      <th>pageEnd</th>\n",
       "      <th>placeOfPublication</th>\n",
       "      <th>wordCount</th>\n",
       "      <th>pageCount</th>\n",
       "      <th>outputFormat</th>\n",
       "    </tr>\n",
       "  </thead>\n",
       "  <tbody>\n",
       "    <tr>\n",
       "      <th>0</th>\n",
       "      <td>http://www.jstor.org/stable/1156397</td>\n",
       "      <td>Review Article</td>\n",
       "      <td>Africa: Journal of the International African I...</td>\n",
       "      <td>1943</td>\n",
       "      <td>NaN</td>\n",
       "      <td>article</td>\n",
       "      <td>book-review</td>\n",
       "      <td>jstor</td>\n",
       "      <td>NaN</td>\n",
       "      <td>1943-04-01</td>\n",
       "      <td>...</td>\n",
       "      <td>http://www.jstor.org/stable/1156397</td>\n",
       "      <td>E. O. Ashton</td>\n",
       "      <td>Cambridge University Press</td>\n",
       "      <td>eng</td>\n",
       "      <td>102</td>\n",
       "      <td>102</td>\n",
       "      <td>NaN</td>\n",
       "      <td>690</td>\n",
       "      <td>1</td>\n",
       "      <td>unigram; bigram; trigram</td>\n",
       "    </tr>\n",
       "    <tr>\n",
       "      <th>1</th>\n",
       "      <td>http://www.jstor.org/stable/3180594</td>\n",
       "      <td>INZUIKIƷI</td>\n",
       "      <td>Africa: Journal of the International African I...</td>\n",
       "      <td>1935</td>\n",
       "      <td>NaN</td>\n",
       "      <td>article</td>\n",
       "      <td>research-article</td>\n",
       "      <td>jstor</td>\n",
       "      <td>NaN</td>\n",
       "      <td>1935-10-01</td>\n",
       "      <td>...</td>\n",
       "      <td>http://www.jstor.org/stable/3180594</td>\n",
       "      <td>Edwin W. Smith</td>\n",
       "      <td>Cambridge University Press</td>\n",
       "      <td>eng</td>\n",
       "      <td>473</td>\n",
       "      <td>480</td>\n",
       "      <td>NaN</td>\n",
       "      <td>3505</td>\n",
       "      <td>8</td>\n",
       "      <td>unigram; bigram; trigram</td>\n",
       "    </tr>\n",
       "    <tr>\n",
       "      <th>2</th>\n",
       "      <td>http://www.jstor.org/stable/1155333</td>\n",
       "      <td>Review Article</td>\n",
       "      <td>Africa: Journal of the International African I...</td>\n",
       "      <td>1932</td>\n",
       "      <td>NaN</td>\n",
       "      <td>article</td>\n",
       "      <td>book-review</td>\n",
       "      <td>jstor</td>\n",
       "      <td>NaN</td>\n",
       "      <td>1932-01-01</td>\n",
       "      <td>...</td>\n",
       "      <td>http://www.jstor.org/stable/1155333</td>\n",
       "      <td>A. Werner</td>\n",
       "      <td>Cambridge University Press</td>\n",
       "      <td>eng</td>\n",
       "      <td>95</td>\n",
       "      <td>97</td>\n",
       "      <td>NaN</td>\n",
       "      <td>1429</td>\n",
       "      <td>3</td>\n",
       "      <td>unigram; bigram; trigram</td>\n",
       "    </tr>\n",
       "    <tr>\n",
       "      <th>3</th>\n",
       "      <td>http://www.jstor.org/stable/1155810</td>\n",
       "      <td>Review Article</td>\n",
       "      <td>Africa: Journal of the International African I...</td>\n",
       "      <td>1930</td>\n",
       "      <td>NaN</td>\n",
       "      <td>article</td>\n",
       "      <td>book-review</td>\n",
       "      <td>jstor</td>\n",
       "      <td>NaN</td>\n",
       "      <td>1930-04-01</td>\n",
       "      <td>...</td>\n",
       "      <td>http://www.jstor.org/stable/1155810</td>\n",
       "      <td>Henri Labouret</td>\n",
       "      <td>Cambridge University Press</td>\n",
       "      <td>fre</td>\n",
       "      <td>247</td>\n",
       "      <td>248</td>\n",
       "      <td>NaN</td>\n",
       "      <td>909</td>\n",
       "      <td>2</td>\n",
       "      <td>unigram; bigram; trigram</td>\n",
       "    </tr>\n",
       "    <tr>\n",
       "      <th>4</th>\n",
       "      <td>http://www.jstor.org/stable/1156777</td>\n",
       "      <td>Review Article</td>\n",
       "      <td>Africa: Journal of the International African I...</td>\n",
       "      <td>1956</td>\n",
       "      <td>NaN</td>\n",
       "      <td>article</td>\n",
       "      <td>book-review</td>\n",
       "      <td>jstor</td>\n",
       "      <td>NaN</td>\n",
       "      <td>1956-01-01</td>\n",
       "      <td>...</td>\n",
       "      <td>http://www.jstor.org/stable/1156777</td>\n",
       "      <td>Jan Vansina</td>\n",
       "      <td>Cambridge University Press</td>\n",
       "      <td>fre</td>\n",
       "      <td>91</td>\n",
       "      <td>92</td>\n",
       "      <td>NaN</td>\n",
       "      <td>1450</td>\n",
       "      <td>2</td>\n",
       "      <td>unigram; bigram; trigram</td>\n",
       "    </tr>\n",
       "  </tbody>\n",
       "</table>\n",
       "<p>5 rows × 22 columns</p>\n",
       "</div>"
      ],
      "text/plain": [
       "                                    id           title  \\\n",
       "0  http://www.jstor.org/stable/1156397  Review Article   \n",
       "1  http://www.jstor.org/stable/3180594       INZUIKIƷI   \n",
       "2  http://www.jstor.org/stable/1155333  Review Article   \n",
       "3  http://www.jstor.org/stable/1155810  Review Article   \n",
       "4  http://www.jstor.org/stable/1156777  Review Article   \n",
       "\n",
       "                                            isPartOf  publicationYear  doi  \\\n",
       "0  Africa: Journal of the International African I...             1943  NaN   \n",
       "1  Africa: Journal of the International African I...             1935  NaN   \n",
       "2  Africa: Journal of the International African I...             1932  NaN   \n",
       "3  Africa: Journal of the International African I...             1930  NaN   \n",
       "4  Africa: Journal of the International African I...             1956  NaN   \n",
       "\n",
       "   docType        docSubType provider  collection datePublished  ...  \\\n",
       "0  article       book-review    jstor         NaN    1943-04-01  ...   \n",
       "1  article  research-article    jstor         NaN    1935-10-01  ...   \n",
       "2  article       book-review    jstor         NaN    1932-01-01  ...   \n",
       "3  article       book-review    jstor         NaN    1930-04-01  ...   \n",
       "4  article       book-review    jstor         NaN    1956-01-01  ...   \n",
       "\n",
       "                                   url         creator  \\\n",
       "0  http://www.jstor.org/stable/1156397    E. O. Ashton   \n",
       "1  http://www.jstor.org/stable/3180594  Edwin W. Smith   \n",
       "2  http://www.jstor.org/stable/1155333       A. Werner   \n",
       "3  http://www.jstor.org/stable/1155810  Henri Labouret   \n",
       "4  http://www.jstor.org/stable/1156777     Jan Vansina   \n",
       "\n",
       "                    publisher language pageStart pageEnd placeOfPublication  \\\n",
       "0  Cambridge University Press      eng       102     102                NaN   \n",
       "1  Cambridge University Press      eng       473     480                NaN   \n",
       "2  Cambridge University Press      eng        95      97                NaN   \n",
       "3  Cambridge University Press      fre       247     248                NaN   \n",
       "4  Cambridge University Press      fre        91      92                NaN   \n",
       "\n",
       "  wordCount  pageCount              outputFormat  \n",
       "0       690          1  unigram; bigram; trigram  \n",
       "1      3505          8  unigram; bigram; trigram  \n",
       "2      1429          3  unigram; bigram; trigram  \n",
       "3       909          2  unigram; bigram; trigram  \n",
       "4      1450          2  unigram; bigram; trigram  \n",
       "\n",
       "[5 rows x 22 columns]"
      ]
     },
     "execution_count": 48,
     "metadata": {},
     "output_type": "execute_result"
    }
   ],
   "source": [
    "# Exibe os primeiros cinco resultados do dataframe. \n",
    "# Esse passo é importante para termos uma visão geral dos dados que possuímos. \n",
    "\n",
    "df.head(5)"
   ]
  },
  {
   "cell_type": "code",
   "execution_count": 49,
   "metadata": {},
   "outputs": [
    {
     "data": {
      "text/plain": [
       "Index(['id', 'title', 'isPartOf', 'publicationYear', 'doi', 'docType',\n",
       "       'docSubType', 'provider', 'collection', 'datePublished', 'issueNumber',\n",
       "       'volumeNumber', 'url', 'creator', 'publisher', 'language', 'pageStart',\n",
       "       'pageEnd', 'placeOfPublication', 'wordCount', 'pageCount',\n",
       "       'outputFormat'],\n",
       "      dtype='object')"
      ]
     },
     "execution_count": 49,
     "metadata": {},
     "output_type": "execute_result"
    }
   ],
   "source": [
    "# Exibe uma lista das colunas do dataframe\n",
    "\n",
    "df.columns"
   ]
  },
  {
   "cell_type": "markdown",
   "metadata": {},
   "source": [
    "\n",
    "## Limpeza de dados\n",
    "\n",
    "- Nesta etapa, iremos tratar os dados. Renomearemos e excluiremos os elementos necessários, para que o dataset apenas inclua os dados que pretenderemos trabalhar. \n"
   ]
  },
  {
   "cell_type": "code",
   "execution_count": 50,
   "metadata": {},
   "outputs": [],
   "source": [
    "# Exclui as colunas não necessárias e/ou duplicadas\n",
    "\n",
    "df = df.drop(['isPartOf', 'doi','provider', 'collection', 'pageStart', 'pageEnd', \\\n",
    "'placeOfPublication', 'url', 'outputFormat'], axis=1)"
   ]
  },
  {
   "cell_type": "code",
   "execution_count": 51,
   "metadata": {},
   "outputs": [],
   "source": [
    "# Renomeia nomes de colunas\n",
    "\n",
    "df.rename(columns={'publicationYear': 'year','datePublished':'date', 'creator': 'author'},\\\n",
    "    inplace=True)"
   ]
  },
  {
   "cell_type": "markdown",
   "metadata": {},
   "source": [
    "\n",
    "\n",
    "- Iremos selecionar as linhas de dados que serão úteis à nossa análise. Nesta etapa, apenas iremos trabalhar com as categorias de artigos originais ('research-article') e resenhas de livros(book-review). Artigos de miscelânea e notícias não serão úteis à nossa análise atual. \n",
    "\n"
   ]
  },
  {
   "cell_type": "code",
   "execution_count": 52,
   "metadata": {},
   "outputs": [
    {
     "data": {
      "text/plain": [
       "book-review         1200\n",
       "research-article     719\n",
       "misc                 595\n",
       "news                  41\n",
       "Name: docSubType, dtype: int64"
      ]
     },
     "execution_count": 52,
     "metadata": {},
     "output_type": "execute_result"
    }
   ],
   "source": [
    "# Conta os valores dos subtipos de textos publicados \n",
    "\n",
    "df['docSubType'].value_counts()"
   ]
  },
  {
   "cell_type": "code",
   "execution_count": 53,
   "metadata": {},
   "outputs": [],
   "source": [
    "# Cria um dataset apenas de artigos originais\n",
    "\n",
    "articles = df[df['docSubType'] == 'research-article']"
   ]
  },
  {
   "cell_type": "code",
   "execution_count": 54,
   "metadata": {},
   "outputs": [
    {
     "name": "stdout",
     "output_type": "stream",
     "text": [
      "<class 'pandas.core.frame.DataFrame'>\n",
      "Int64Index: 719 entries, 1 to 2554\n",
      "Data columns (total 13 columns):\n",
      " #   Column        Non-Null Count  Dtype \n",
      "---  ------        --------------  ----- \n",
      " 0   id            719 non-null    object\n",
      " 1   title         719 non-null    object\n",
      " 2   year          719 non-null    int64 \n",
      " 3   docType       719 non-null    object\n",
      " 4   docSubType    719 non-null    object\n",
      " 5   date          719 non-null    object\n",
      " 6   issueNumber   719 non-null    int64 \n",
      " 7   volumeNumber  719 non-null    int64 \n",
      " 8   author        707 non-null    object\n",
      " 9   publisher     719 non-null    object\n",
      " 10  language      719 non-null    object\n",
      " 11  wordCount     719 non-null    int64 \n",
      " 12  pageCount     719 non-null    int64 \n",
      "dtypes: int64(5), object(8)\n",
      "memory usage: 78.6+ KB\n"
     ]
    }
   ],
   "source": [
    "# Exibe as informações gerais do dataset criado\n",
    "\n",
    "articles.info()"
   ]
  },
  {
   "cell_type": "code",
   "execution_count": 55,
   "metadata": {},
   "outputs": [],
   "source": [
    "# Cria um dataset com a contagem de artigos por autor\n",
    "\n",
    "authors = articles['author'].value_counts()\\\n",
    "    .reset_index(name='total')\\\n",
    "    .rename(columns={'index':'author'})\\\n",
    "    .sort_values(by='total', ascending=False)"
   ]
  },
  {
   "cell_type": "code",
   "execution_count": 56,
   "metadata": {},
   "outputs": [
    {
     "data": {
      "text/html": [
       "<div>\n",
       "<style scoped>\n",
       "    .dataframe tbody tr th:only-of-type {\n",
       "        vertical-align: middle;\n",
       "    }\n",
       "\n",
       "    .dataframe tbody tr th {\n",
       "        vertical-align: top;\n",
       "    }\n",
       "\n",
       "    .dataframe thead th {\n",
       "        text-align: right;\n",
       "    }\n",
       "</style>\n",
       "<table border=\"1\" class=\"dataframe\">\n",
       "  <thead>\n",
       "    <tr style=\"text-align: right;\">\n",
       "      <th></th>\n",
       "      <th>author</th>\n",
       "      <th>total</th>\n",
       "    </tr>\n",
       "  </thead>\n",
       "  <tbody>\n",
       "    <tr>\n",
       "      <th>0</th>\n",
       "      <td>E. E. Evans-Pritchard</td>\n",
       "      <td>19</td>\n",
       "    </tr>\n",
       "    <tr>\n",
       "      <th>1</th>\n",
       "      <td>Henri Labouret</td>\n",
       "      <td>8</td>\n",
       "    </tr>\n",
       "    <tr>\n",
       "      <th>2</th>\n",
       "      <td>M. D. W. Jeffreys</td>\n",
       "      <td>7</td>\n",
       "    </tr>\n",
       "    <tr>\n",
       "      <th>3</th>\n",
       "      <td>S. F. Nadel</td>\n",
       "      <td>7</td>\n",
       "    </tr>\n",
       "    <tr>\n",
       "      <th>4</th>\n",
       "      <td>L. P. Mair</td>\n",
       "      <td>6</td>\n",
       "    </tr>\n",
       "    <tr>\n",
       "      <th>...</th>\n",
       "      <td>...</td>\n",
       "      <td>...</td>\n",
       "    </tr>\n",
       "    <tr>\n",
       "      <th>242</th>\n",
       "      <td>Jean Comhaire</td>\n",
       "      <td>1</td>\n",
       "    </tr>\n",
       "    <tr>\n",
       "      <th>241</th>\n",
       "      <td>D. Zahan; Solange De Ganay</td>\n",
       "      <td>1</td>\n",
       "    </tr>\n",
       "    <tr>\n",
       "      <th>240</th>\n",
       "      <td>Thérèse Rivière</td>\n",
       "      <td>1</td>\n",
       "    </tr>\n",
       "    <tr>\n",
       "      <th>239</th>\n",
       "      <td>F. J. Pedler</td>\n",
       "      <td>1</td>\n",
       "    </tr>\n",
       "    <tr>\n",
       "      <th>486</th>\n",
       "      <td>Paul Bohannan</td>\n",
       "      <td>1</td>\n",
       "    </tr>\n",
       "  </tbody>\n",
       "</table>\n",
       "<p>487 rows × 2 columns</p>\n",
       "</div>"
      ],
      "text/plain": [
       "                         author  total\n",
       "0         E. E. Evans-Pritchard     19\n",
       "1                Henri Labouret      8\n",
       "2             M. D. W. Jeffreys      7\n",
       "3                   S. F. Nadel      7\n",
       "4                    L. P. Mair      6\n",
       "..                          ...    ...\n",
       "242               Jean Comhaire      1\n",
       "241  D. Zahan; Solange De Ganay      1\n",
       "240             Thérèse Rivière      1\n",
       "239                F. J. Pedler      1\n",
       "486               Paul Bohannan      1\n",
       "\n",
       "[487 rows x 2 columns]"
      ]
     },
     "execution_count": 56,
     "metadata": {},
     "output_type": "execute_result"
    }
   ],
   "source": [
    "# Exibe o dataset criado\n",
    "\n",
    "authors"
   ]
  },
  {
   "cell_type": "code",
   "execution_count": 57,
   "metadata": {},
   "outputs": [],
   "source": [
    "# Cria um gráfico com o número de publicações por autor\n",
    "\n",
    "fig = px.bar(authors.head(35), x='author', y='total')"
   ]
  },
  {
   "cell_type": "code",
   "execution_count": 58,
   "metadata": {},
   "outputs": [
    {
     "data": {
      "application/vnd.plotly.v1+json": {
       "config": {
        "plotlyServerURL": "https://plot.ly"
       },
       "data": [
        {
         "alignmentgroup": "True",
         "hoverlabel": {
          "namelength": 0
         },
         "hovertemplate": "<b>%{x}</b><br>Número de publicações originais por autor: %{y}",
         "legendgroup": "",
         "marker": {
          "color": "#636efa"
         },
         "name": "",
         "offsetgroup": "",
         "orientation": "v",
         "showlegend": false,
         "textposition": "auto",
         "type": "bar",
         "x": [
          "E. E. Evans-Pritchard",
          "Henri Labouret",
          "M. D. W. Jeffreys",
          "S. F. Nadel",
          "L. P. Mair",
          "D. Westermann",
          "Wolf Leslau",
          "David Tait",
          "I. Schapera",
          "C. K. Meek",
          "M. G. Smith",
          "Godfrey Lienhardt",
          "Diedrich Westermann",
          "J. H. M. Beattie",
          "T. Cullen Young",
          "C. M. N. White",
          "M. G. Marwick",
          "Edward Ullendorff",
          "G. I. Jones",
          "C. M. Doke",
          "Melville J. Herskovits",
          "Richard Thurnwald",
          "Lorna Marshall",
          "Godfrey Wilson",
          "J. G. Peristiany",
          "R. M. East",
          "Mary Douglas",
          "Lyndon Harries",
          "B. Holas",
          "W. Bryant Mumford",
          "Monica Hunter",
          "A. R. Radcliffe-Brown",
          "Raymond Firth",
          "G. Hulstaert",
          "James W. C. Dougall"
         ],
         "xaxis": "x",
         "y": [
          19,
          8,
          7,
          7,
          6,
          6,
          5,
          5,
          5,
          4,
          4,
          4,
          4,
          4,
          4,
          4,
          4,
          4,
          4,
          4,
          4,
          4,
          4,
          3,
          3,
          3,
          3,
          3,
          3,
          3,
          3,
          3,
          3,
          3,
          3
         ],
         "yaxis": "y"
        }
       ],
       "layout": {
        "barmode": "relative",
        "legend": {
         "tracegroupgap": 0
        },
        "margin": {
         "t": 60
        },
        "template": {
         "data": {
          "bar": [
           {
            "error_x": {
             "color": "#f2f5fa"
            },
            "error_y": {
             "color": "#f2f5fa"
            },
            "marker": {
             "line": {
              "color": "rgb(17,17,17)",
              "width": 0.5
             }
            },
            "type": "bar"
           }
          ],
          "barpolar": [
           {
            "marker": {
             "line": {
              "color": "rgb(17,17,17)",
              "width": 0.5
             }
            },
            "type": "barpolar"
           }
          ],
          "carpet": [
           {
            "aaxis": {
             "endlinecolor": "#A2B1C6",
             "gridcolor": "#506784",
             "linecolor": "#506784",
             "minorgridcolor": "#506784",
             "startlinecolor": "#A2B1C6"
            },
            "baxis": {
             "endlinecolor": "#A2B1C6",
             "gridcolor": "#506784",
             "linecolor": "#506784",
             "minorgridcolor": "#506784",
             "startlinecolor": "#A2B1C6"
            },
            "type": "carpet"
           }
          ],
          "choropleth": [
           {
            "colorbar": {
             "outlinewidth": 0,
             "ticks": ""
            },
            "type": "choropleth"
           }
          ],
          "contour": [
           {
            "colorbar": {
             "outlinewidth": 0,
             "ticks": ""
            },
            "colorscale": [
             [
              0,
              "#0d0887"
             ],
             [
              0.1111111111111111,
              "#46039f"
             ],
             [
              0.2222222222222222,
              "#7201a8"
             ],
             [
              0.3333333333333333,
              "#9c179e"
             ],
             [
              0.4444444444444444,
              "#bd3786"
             ],
             [
              0.5555555555555556,
              "#d8576b"
             ],
             [
              0.6666666666666666,
              "#ed7953"
             ],
             [
              0.7777777777777778,
              "#fb9f3a"
             ],
             [
              0.8888888888888888,
              "#fdca26"
             ],
             [
              1,
              "#f0f921"
             ]
            ],
            "type": "contour"
           }
          ],
          "contourcarpet": [
           {
            "colorbar": {
             "outlinewidth": 0,
             "ticks": ""
            },
            "type": "contourcarpet"
           }
          ],
          "heatmap": [
           {
            "colorbar": {
             "outlinewidth": 0,
             "ticks": ""
            },
            "colorscale": [
             [
              0,
              "#0d0887"
             ],
             [
              0.1111111111111111,
              "#46039f"
             ],
             [
              0.2222222222222222,
              "#7201a8"
             ],
             [
              0.3333333333333333,
              "#9c179e"
             ],
             [
              0.4444444444444444,
              "#bd3786"
             ],
             [
              0.5555555555555556,
              "#d8576b"
             ],
             [
              0.6666666666666666,
              "#ed7953"
             ],
             [
              0.7777777777777778,
              "#fb9f3a"
             ],
             [
              0.8888888888888888,
              "#fdca26"
             ],
             [
              1,
              "#f0f921"
             ]
            ],
            "type": "heatmap"
           }
          ],
          "heatmapgl": [
           {
            "colorbar": {
             "outlinewidth": 0,
             "ticks": ""
            },
            "colorscale": [
             [
              0,
              "#0d0887"
             ],
             [
              0.1111111111111111,
              "#46039f"
             ],
             [
              0.2222222222222222,
              "#7201a8"
             ],
             [
              0.3333333333333333,
              "#9c179e"
             ],
             [
              0.4444444444444444,
              "#bd3786"
             ],
             [
              0.5555555555555556,
              "#d8576b"
             ],
             [
              0.6666666666666666,
              "#ed7953"
             ],
             [
              0.7777777777777778,
              "#fb9f3a"
             ],
             [
              0.8888888888888888,
              "#fdca26"
             ],
             [
              1,
              "#f0f921"
             ]
            ],
            "type": "heatmapgl"
           }
          ],
          "histogram": [
           {
            "marker": {
             "colorbar": {
              "outlinewidth": 0,
              "ticks": ""
             }
            },
            "type": "histogram"
           }
          ],
          "histogram2d": [
           {
            "colorbar": {
             "outlinewidth": 0,
             "ticks": ""
            },
            "colorscale": [
             [
              0,
              "#0d0887"
             ],
             [
              0.1111111111111111,
              "#46039f"
             ],
             [
              0.2222222222222222,
              "#7201a8"
             ],
             [
              0.3333333333333333,
              "#9c179e"
             ],
             [
              0.4444444444444444,
              "#bd3786"
             ],
             [
              0.5555555555555556,
              "#d8576b"
             ],
             [
              0.6666666666666666,
              "#ed7953"
             ],
             [
              0.7777777777777778,
              "#fb9f3a"
             ],
             [
              0.8888888888888888,
              "#fdca26"
             ],
             [
              1,
              "#f0f921"
             ]
            ],
            "type": "histogram2d"
           }
          ],
          "histogram2dcontour": [
           {
            "colorbar": {
             "outlinewidth": 0,
             "ticks": ""
            },
            "colorscale": [
             [
              0,
              "#0d0887"
             ],
             [
              0.1111111111111111,
              "#46039f"
             ],
             [
              0.2222222222222222,
              "#7201a8"
             ],
             [
              0.3333333333333333,
              "#9c179e"
             ],
             [
              0.4444444444444444,
              "#bd3786"
             ],
             [
              0.5555555555555556,
              "#d8576b"
             ],
             [
              0.6666666666666666,
              "#ed7953"
             ],
             [
              0.7777777777777778,
              "#fb9f3a"
             ],
             [
              0.8888888888888888,
              "#fdca26"
             ],
             [
              1,
              "#f0f921"
             ]
            ],
            "type": "histogram2dcontour"
           }
          ],
          "mesh3d": [
           {
            "colorbar": {
             "outlinewidth": 0,
             "ticks": ""
            },
            "type": "mesh3d"
           }
          ],
          "parcoords": [
           {
            "line": {
             "colorbar": {
              "outlinewidth": 0,
              "ticks": ""
             }
            },
            "type": "parcoords"
           }
          ],
          "pie": [
           {
            "automargin": true,
            "type": "pie"
           }
          ],
          "scatter": [
           {
            "marker": {
             "line": {
              "color": "#283442"
             }
            },
            "type": "scatter"
           }
          ],
          "scatter3d": [
           {
            "line": {
             "colorbar": {
              "outlinewidth": 0,
              "ticks": ""
             }
            },
            "marker": {
             "colorbar": {
              "outlinewidth": 0,
              "ticks": ""
             }
            },
            "type": "scatter3d"
           }
          ],
          "scattercarpet": [
           {
            "marker": {
             "colorbar": {
              "outlinewidth": 0,
              "ticks": ""
             }
            },
            "type": "scattercarpet"
           }
          ],
          "scattergeo": [
           {
            "marker": {
             "colorbar": {
              "outlinewidth": 0,
              "ticks": ""
             }
            },
            "type": "scattergeo"
           }
          ],
          "scattergl": [
           {
            "marker": {
             "line": {
              "color": "#283442"
             }
            },
            "type": "scattergl"
           }
          ],
          "scattermapbox": [
           {
            "marker": {
             "colorbar": {
              "outlinewidth": 0,
              "ticks": ""
             }
            },
            "type": "scattermapbox"
           }
          ],
          "scatterpolar": [
           {
            "marker": {
             "colorbar": {
              "outlinewidth": 0,
              "ticks": ""
             }
            },
            "type": "scatterpolar"
           }
          ],
          "scatterpolargl": [
           {
            "marker": {
             "colorbar": {
              "outlinewidth": 0,
              "ticks": ""
             }
            },
            "type": "scatterpolargl"
           }
          ],
          "scatterternary": [
           {
            "marker": {
             "colorbar": {
              "outlinewidth": 0,
              "ticks": ""
             }
            },
            "type": "scatterternary"
           }
          ],
          "surface": [
           {
            "colorbar": {
             "outlinewidth": 0,
             "ticks": ""
            },
            "colorscale": [
             [
              0,
              "#0d0887"
             ],
             [
              0.1111111111111111,
              "#46039f"
             ],
             [
              0.2222222222222222,
              "#7201a8"
             ],
             [
              0.3333333333333333,
              "#9c179e"
             ],
             [
              0.4444444444444444,
              "#bd3786"
             ],
             [
              0.5555555555555556,
              "#d8576b"
             ],
             [
              0.6666666666666666,
              "#ed7953"
             ],
             [
              0.7777777777777778,
              "#fb9f3a"
             ],
             [
              0.8888888888888888,
              "#fdca26"
             ],
             [
              1,
              "#f0f921"
             ]
            ],
            "type": "surface"
           }
          ],
          "table": [
           {
            "cells": {
             "fill": {
              "color": "#506784"
             },
             "line": {
              "color": "rgb(17,17,17)"
             }
            },
            "header": {
             "fill": {
              "color": "#2a3f5f"
             },
             "line": {
              "color": "rgb(17,17,17)"
             }
            },
            "type": "table"
           }
          ]
         },
         "layout": {
          "annotationdefaults": {
           "arrowcolor": "#f2f5fa",
           "arrowhead": 0,
           "arrowwidth": 1
          },
          "coloraxis": {
           "colorbar": {
            "outlinewidth": 0,
            "ticks": ""
           }
          },
          "colorscale": {
           "diverging": [
            [
             0,
             "#8e0152"
            ],
            [
             0.1,
             "#c51b7d"
            ],
            [
             0.2,
             "#de77ae"
            ],
            [
             0.3,
             "#f1b6da"
            ],
            [
             0.4,
             "#fde0ef"
            ],
            [
             0.5,
             "#f7f7f7"
            ],
            [
             0.6,
             "#e6f5d0"
            ],
            [
             0.7,
             "#b8e186"
            ],
            [
             0.8,
             "#7fbc41"
            ],
            [
             0.9,
             "#4d9221"
            ],
            [
             1,
             "#276419"
            ]
           ],
           "sequential": [
            [
             0,
             "#0d0887"
            ],
            [
             0.1111111111111111,
             "#46039f"
            ],
            [
             0.2222222222222222,
             "#7201a8"
            ],
            [
             0.3333333333333333,
             "#9c179e"
            ],
            [
             0.4444444444444444,
             "#bd3786"
            ],
            [
             0.5555555555555556,
             "#d8576b"
            ],
            [
             0.6666666666666666,
             "#ed7953"
            ],
            [
             0.7777777777777778,
             "#fb9f3a"
            ],
            [
             0.8888888888888888,
             "#fdca26"
            ],
            [
             1,
             "#f0f921"
            ]
           ],
           "sequentialminus": [
            [
             0,
             "#0d0887"
            ],
            [
             0.1111111111111111,
             "#46039f"
            ],
            [
             0.2222222222222222,
             "#7201a8"
            ],
            [
             0.3333333333333333,
             "#9c179e"
            ],
            [
             0.4444444444444444,
             "#bd3786"
            ],
            [
             0.5555555555555556,
             "#d8576b"
            ],
            [
             0.6666666666666666,
             "#ed7953"
            ],
            [
             0.7777777777777778,
             "#fb9f3a"
            ],
            [
             0.8888888888888888,
             "#fdca26"
            ],
            [
             1,
             "#f0f921"
            ]
           ]
          },
          "colorway": [
           "#636efa",
           "#EF553B",
           "#00cc96",
           "#ab63fa",
           "#FFA15A",
           "#19d3f3",
           "#FF6692",
           "#B6E880",
           "#FF97FF",
           "#FECB52"
          ],
          "font": {
           "color": "#f2f5fa"
          },
          "geo": {
           "bgcolor": "rgb(17,17,17)",
           "lakecolor": "rgb(17,17,17)",
           "landcolor": "rgb(17,17,17)",
           "showlakes": true,
           "showland": true,
           "subunitcolor": "#506784"
          },
          "hoverlabel": {
           "align": "left"
          },
          "hovermode": "closest",
          "mapbox": {
           "style": "dark"
          },
          "paper_bgcolor": "rgb(17,17,17)",
          "plot_bgcolor": "rgb(17,17,17)",
          "polar": {
           "angularaxis": {
            "gridcolor": "#506784",
            "linecolor": "#506784",
            "ticks": ""
           },
           "bgcolor": "rgb(17,17,17)",
           "radialaxis": {
            "gridcolor": "#506784",
            "linecolor": "#506784",
            "ticks": ""
           }
          },
          "scene": {
           "xaxis": {
            "backgroundcolor": "rgb(17,17,17)",
            "gridcolor": "#506784",
            "gridwidth": 2,
            "linecolor": "#506784",
            "showbackground": true,
            "ticks": "",
            "zerolinecolor": "#C8D4E3"
           },
           "yaxis": {
            "backgroundcolor": "rgb(17,17,17)",
            "gridcolor": "#506784",
            "gridwidth": 2,
            "linecolor": "#506784",
            "showbackground": true,
            "ticks": "",
            "zerolinecolor": "#C8D4E3"
           },
           "zaxis": {
            "backgroundcolor": "rgb(17,17,17)",
            "gridcolor": "#506784",
            "gridwidth": 2,
            "linecolor": "#506784",
            "showbackground": true,
            "ticks": "",
            "zerolinecolor": "#C8D4E3"
           }
          },
          "shapedefaults": {
           "line": {
            "color": "#f2f5fa"
           }
          },
          "sliderdefaults": {
           "bgcolor": "#C8D4E3",
           "bordercolor": "rgb(17,17,17)",
           "borderwidth": 1,
           "tickwidth": 0
          },
          "ternary": {
           "aaxis": {
            "gridcolor": "#506784",
            "linecolor": "#506784",
            "ticks": ""
           },
           "baxis": {
            "gridcolor": "#506784",
            "linecolor": "#506784",
            "ticks": ""
           },
           "bgcolor": "rgb(17,17,17)",
           "caxis": {
            "gridcolor": "#506784",
            "linecolor": "#506784",
            "ticks": ""
           }
          },
          "title": {
           "x": 0.05
          },
          "updatemenudefaults": {
           "bgcolor": "#506784",
           "borderwidth": 0
          },
          "xaxis": {
           "automargin": true,
           "gridcolor": "#283442",
           "linecolor": "#506784",
           "ticks": "",
           "title": {
            "standoff": 15
           },
           "zerolinecolor": "#283442",
           "zerolinewidth": 2
          },
          "yaxis": {
           "automargin": true,
           "gridcolor": "#283442",
           "linecolor": "#506784",
           "ticks": "",
           "title": {
            "standoff": 15
           },
           "zerolinecolor": "#283442",
           "zerolinewidth": 2
          }
         }
        },
        "title": {
         "text": "<b>Número de publicações originais por autor</b>"
        },
        "xaxis": {
         "anchor": "y",
         "domain": [
          0,
          1
         ],
         "title": {
          "text": "Autores"
         }
        },
        "yaxis": {
         "anchor": "x",
         "domain": [
          0,
          1
         ],
         "title": {
          "text": "Total de artigos"
         }
        }
       }
      }
     },
     "metadata": {},
     "output_type": "display_data"
    }
   ],
   "source": [
    "# Configura o layout do gráfico\n",
    "\n",
    "fig.update_layout(\n",
    "    title='<b>Número de publicações originais por autor</b>',\n",
    "    xaxis_title='Autores',\n",
    "    yaxis_title='Total de artigos',\n",
    "    template = 'plotly_dark'\n",
    ")\n",
    "\n",
    "# Configura o traçado\n",
    "\n",
    "fig.update_traces(\n",
    "    hovertemplate='<b>%{x}</b><br>Número de publicações originais por autor: %{y}'\n",
    ")\n",
    "# Exibe o Gráfico\n",
    "\n",
    "fig.show()\n"
   ]
  },
  {
   "cell_type": "code",
   "execution_count": 59,
   "metadata": {},
   "outputs": [],
   "source": [
    "# Cria um dataframe com a contagem dos artigos por idioma de publicação\n",
    "\n",
    "idiomas_df = articles['language'].value_counts()\\\n",
    "    .reset_index(name='total')\\\n",
    "    .rename(columns={'index':'idioma'})\\\n",
    "    .sort_values(by='total', ascending=False)"
   ]
  },
  {
   "cell_type": "code",
   "execution_count": 60,
   "metadata": {},
   "outputs": [],
   "source": [
    "# Substitui as abreviações pelos nomes dos idiomas em português\n",
    "\n",
    "idiomas_df['idioma'] = idiomas_df['idioma'].replace({'eng': 'Inglês', 'ger': 'Alemão', 'fre': 'Francês',\\\n",
    "    'swa': 'Suaíli', 'ibo': 'Igbo'})"
   ]
  },
  {
   "cell_type": "code",
   "execution_count": 61,
   "metadata": {},
   "outputs": [
    {
     "data": {
      "text/html": [
       "<div>\n",
       "<style scoped>\n",
       "    .dataframe tbody tr th:only-of-type {\n",
       "        vertical-align: middle;\n",
       "    }\n",
       "\n",
       "    .dataframe tbody tr th {\n",
       "        vertical-align: top;\n",
       "    }\n",
       "\n",
       "    .dataframe thead th {\n",
       "        text-align: right;\n",
       "    }\n",
       "</style>\n",
       "<table border=\"1\" class=\"dataframe\">\n",
       "  <thead>\n",
       "    <tr style=\"text-align: right;\">\n",
       "      <th></th>\n",
       "      <th>idioma</th>\n",
       "      <th>total</th>\n",
       "    </tr>\n",
       "  </thead>\n",
       "  <tbody>\n",
       "    <tr>\n",
       "      <th>0</th>\n",
       "      <td>Inglês</td>\n",
       "      <td>568</td>\n",
       "    </tr>\n",
       "    <tr>\n",
       "      <th>1</th>\n",
       "      <td>Francês</td>\n",
       "      <td>114</td>\n",
       "    </tr>\n",
       "    <tr>\n",
       "      <th>2</th>\n",
       "      <td>Alemão</td>\n",
       "      <td>34</td>\n",
       "    </tr>\n",
       "    <tr>\n",
       "      <th>3</th>\n",
       "      <td>Suaíli</td>\n",
       "      <td>2</td>\n",
       "    </tr>\n",
       "    <tr>\n",
       "      <th>4</th>\n",
       "      <td>Igbo</td>\n",
       "      <td>1</td>\n",
       "    </tr>\n",
       "  </tbody>\n",
       "</table>\n",
       "</div>"
      ],
      "text/plain": [
       "    idioma  total\n",
       "0   Inglês    568\n",
       "1  Francês    114\n",
       "2   Alemão     34\n",
       "3   Suaíli      2\n",
       "4     Igbo      1"
      ]
     },
     "execution_count": 61,
     "metadata": {},
     "output_type": "execute_result"
    }
   ],
   "source": [
    "# Exibe o dataframe\n",
    "\n",
    "idiomas_df"
   ]
  },
  {
   "cell_type": "code",
   "execution_count": 62,
   "metadata": {},
   "outputs": [],
   "source": [
    "# Cria um gráfico com a contagem dos artigos por idioma de publicação\n",
    "\n",
    "fig2 = px.line(idiomas_df, x= 'idioma', y='total')\n"
   ]
  },
  {
   "cell_type": "code",
   "execution_count": 63,
   "metadata": {},
   "outputs": [
    {
     "data": {
      "application/vnd.plotly.v1+json": {
       "config": {
        "plotlyServerURL": "https://plot.ly"
       },
       "data": [
        {
         "hoverlabel": {
          "namelength": 0
         },
         "hovertemplate": "<b>%{x}</b><br>Número de publicações: %{y}",
         "legendgroup": "",
         "line": {
          "color": "#636efa",
          "dash": "solid"
         },
         "mode": "markers+lines",
         "name": "",
         "showlegend": false,
         "type": "scatter",
         "x": [
          "Inglês",
          "Francês",
          "Alemão",
          "Suaíli",
          "Igbo"
         ],
         "xaxis": "x",
         "y": [
          568,
          114,
          34,
          2,
          1
         ],
         "yaxis": "y"
        }
       ],
       "layout": {
        "legend": {
         "tracegroupgap": 0
        },
        "margin": {
         "t": 60
        },
        "template": {
         "data": {
          "bar": [
           {
            "error_x": {
             "color": "#f2f5fa"
            },
            "error_y": {
             "color": "#f2f5fa"
            },
            "marker": {
             "line": {
              "color": "rgb(17,17,17)",
              "width": 0.5
             }
            },
            "type": "bar"
           }
          ],
          "barpolar": [
           {
            "marker": {
             "line": {
              "color": "rgb(17,17,17)",
              "width": 0.5
             }
            },
            "type": "barpolar"
           }
          ],
          "carpet": [
           {
            "aaxis": {
             "endlinecolor": "#A2B1C6",
             "gridcolor": "#506784",
             "linecolor": "#506784",
             "minorgridcolor": "#506784",
             "startlinecolor": "#A2B1C6"
            },
            "baxis": {
             "endlinecolor": "#A2B1C6",
             "gridcolor": "#506784",
             "linecolor": "#506784",
             "minorgridcolor": "#506784",
             "startlinecolor": "#A2B1C6"
            },
            "type": "carpet"
           }
          ],
          "choropleth": [
           {
            "colorbar": {
             "outlinewidth": 0,
             "ticks": ""
            },
            "type": "choropleth"
           }
          ],
          "contour": [
           {
            "colorbar": {
             "outlinewidth": 0,
             "ticks": ""
            },
            "colorscale": [
             [
              0,
              "#0d0887"
             ],
             [
              0.1111111111111111,
              "#46039f"
             ],
             [
              0.2222222222222222,
              "#7201a8"
             ],
             [
              0.3333333333333333,
              "#9c179e"
             ],
             [
              0.4444444444444444,
              "#bd3786"
             ],
             [
              0.5555555555555556,
              "#d8576b"
             ],
             [
              0.6666666666666666,
              "#ed7953"
             ],
             [
              0.7777777777777778,
              "#fb9f3a"
             ],
             [
              0.8888888888888888,
              "#fdca26"
             ],
             [
              1,
              "#f0f921"
             ]
            ],
            "type": "contour"
           }
          ],
          "contourcarpet": [
           {
            "colorbar": {
             "outlinewidth": 0,
             "ticks": ""
            },
            "type": "contourcarpet"
           }
          ],
          "heatmap": [
           {
            "colorbar": {
             "outlinewidth": 0,
             "ticks": ""
            },
            "colorscale": [
             [
              0,
              "#0d0887"
             ],
             [
              0.1111111111111111,
              "#46039f"
             ],
             [
              0.2222222222222222,
              "#7201a8"
             ],
             [
              0.3333333333333333,
              "#9c179e"
             ],
             [
              0.4444444444444444,
              "#bd3786"
             ],
             [
              0.5555555555555556,
              "#d8576b"
             ],
             [
              0.6666666666666666,
              "#ed7953"
             ],
             [
              0.7777777777777778,
              "#fb9f3a"
             ],
             [
              0.8888888888888888,
              "#fdca26"
             ],
             [
              1,
              "#f0f921"
             ]
            ],
            "type": "heatmap"
           }
          ],
          "heatmapgl": [
           {
            "colorbar": {
             "outlinewidth": 0,
             "ticks": ""
            },
            "colorscale": [
             [
              0,
              "#0d0887"
             ],
             [
              0.1111111111111111,
              "#46039f"
             ],
             [
              0.2222222222222222,
              "#7201a8"
             ],
             [
              0.3333333333333333,
              "#9c179e"
             ],
             [
              0.4444444444444444,
              "#bd3786"
             ],
             [
              0.5555555555555556,
              "#d8576b"
             ],
             [
              0.6666666666666666,
              "#ed7953"
             ],
             [
              0.7777777777777778,
              "#fb9f3a"
             ],
             [
              0.8888888888888888,
              "#fdca26"
             ],
             [
              1,
              "#f0f921"
             ]
            ],
            "type": "heatmapgl"
           }
          ],
          "histogram": [
           {
            "marker": {
             "colorbar": {
              "outlinewidth": 0,
              "ticks": ""
             }
            },
            "type": "histogram"
           }
          ],
          "histogram2d": [
           {
            "colorbar": {
             "outlinewidth": 0,
             "ticks": ""
            },
            "colorscale": [
             [
              0,
              "#0d0887"
             ],
             [
              0.1111111111111111,
              "#46039f"
             ],
             [
              0.2222222222222222,
              "#7201a8"
             ],
             [
              0.3333333333333333,
              "#9c179e"
             ],
             [
              0.4444444444444444,
              "#bd3786"
             ],
             [
              0.5555555555555556,
              "#d8576b"
             ],
             [
              0.6666666666666666,
              "#ed7953"
             ],
             [
              0.7777777777777778,
              "#fb9f3a"
             ],
             [
              0.8888888888888888,
              "#fdca26"
             ],
             [
              1,
              "#f0f921"
             ]
            ],
            "type": "histogram2d"
           }
          ],
          "histogram2dcontour": [
           {
            "colorbar": {
             "outlinewidth": 0,
             "ticks": ""
            },
            "colorscale": [
             [
              0,
              "#0d0887"
             ],
             [
              0.1111111111111111,
              "#46039f"
             ],
             [
              0.2222222222222222,
              "#7201a8"
             ],
             [
              0.3333333333333333,
              "#9c179e"
             ],
             [
              0.4444444444444444,
              "#bd3786"
             ],
             [
              0.5555555555555556,
              "#d8576b"
             ],
             [
              0.6666666666666666,
              "#ed7953"
             ],
             [
              0.7777777777777778,
              "#fb9f3a"
             ],
             [
              0.8888888888888888,
              "#fdca26"
             ],
             [
              1,
              "#f0f921"
             ]
            ],
            "type": "histogram2dcontour"
           }
          ],
          "mesh3d": [
           {
            "colorbar": {
             "outlinewidth": 0,
             "ticks": ""
            },
            "type": "mesh3d"
           }
          ],
          "parcoords": [
           {
            "line": {
             "colorbar": {
              "outlinewidth": 0,
              "ticks": ""
             }
            },
            "type": "parcoords"
           }
          ],
          "pie": [
           {
            "automargin": true,
            "type": "pie"
           }
          ],
          "scatter": [
           {
            "marker": {
             "line": {
              "color": "#283442"
             }
            },
            "type": "scatter"
           }
          ],
          "scatter3d": [
           {
            "line": {
             "colorbar": {
              "outlinewidth": 0,
              "ticks": ""
             }
            },
            "marker": {
             "colorbar": {
              "outlinewidth": 0,
              "ticks": ""
             }
            },
            "type": "scatter3d"
           }
          ],
          "scattercarpet": [
           {
            "marker": {
             "colorbar": {
              "outlinewidth": 0,
              "ticks": ""
             }
            },
            "type": "scattercarpet"
           }
          ],
          "scattergeo": [
           {
            "marker": {
             "colorbar": {
              "outlinewidth": 0,
              "ticks": ""
             }
            },
            "type": "scattergeo"
           }
          ],
          "scattergl": [
           {
            "marker": {
             "line": {
              "color": "#283442"
             }
            },
            "type": "scattergl"
           }
          ],
          "scattermapbox": [
           {
            "marker": {
             "colorbar": {
              "outlinewidth": 0,
              "ticks": ""
             }
            },
            "type": "scattermapbox"
           }
          ],
          "scatterpolar": [
           {
            "marker": {
             "colorbar": {
              "outlinewidth": 0,
              "ticks": ""
             }
            },
            "type": "scatterpolar"
           }
          ],
          "scatterpolargl": [
           {
            "marker": {
             "colorbar": {
              "outlinewidth": 0,
              "ticks": ""
             }
            },
            "type": "scatterpolargl"
           }
          ],
          "scatterternary": [
           {
            "marker": {
             "colorbar": {
              "outlinewidth": 0,
              "ticks": ""
             }
            },
            "type": "scatterternary"
           }
          ],
          "surface": [
           {
            "colorbar": {
             "outlinewidth": 0,
             "ticks": ""
            },
            "colorscale": [
             [
              0,
              "#0d0887"
             ],
             [
              0.1111111111111111,
              "#46039f"
             ],
             [
              0.2222222222222222,
              "#7201a8"
             ],
             [
              0.3333333333333333,
              "#9c179e"
             ],
             [
              0.4444444444444444,
              "#bd3786"
             ],
             [
              0.5555555555555556,
              "#d8576b"
             ],
             [
              0.6666666666666666,
              "#ed7953"
             ],
             [
              0.7777777777777778,
              "#fb9f3a"
             ],
             [
              0.8888888888888888,
              "#fdca26"
             ],
             [
              1,
              "#f0f921"
             ]
            ],
            "type": "surface"
           }
          ],
          "table": [
           {
            "cells": {
             "fill": {
              "color": "#506784"
             },
             "line": {
              "color": "rgb(17,17,17)"
             }
            },
            "header": {
             "fill": {
              "color": "#2a3f5f"
             },
             "line": {
              "color": "rgb(17,17,17)"
             }
            },
            "type": "table"
           }
          ]
         },
         "layout": {
          "annotationdefaults": {
           "arrowcolor": "#f2f5fa",
           "arrowhead": 0,
           "arrowwidth": 1
          },
          "coloraxis": {
           "colorbar": {
            "outlinewidth": 0,
            "ticks": ""
           }
          },
          "colorscale": {
           "diverging": [
            [
             0,
             "#8e0152"
            ],
            [
             0.1,
             "#c51b7d"
            ],
            [
             0.2,
             "#de77ae"
            ],
            [
             0.3,
             "#f1b6da"
            ],
            [
             0.4,
             "#fde0ef"
            ],
            [
             0.5,
             "#f7f7f7"
            ],
            [
             0.6,
             "#e6f5d0"
            ],
            [
             0.7,
             "#b8e186"
            ],
            [
             0.8,
             "#7fbc41"
            ],
            [
             0.9,
             "#4d9221"
            ],
            [
             1,
             "#276419"
            ]
           ],
           "sequential": [
            [
             0,
             "#0d0887"
            ],
            [
             0.1111111111111111,
             "#46039f"
            ],
            [
             0.2222222222222222,
             "#7201a8"
            ],
            [
             0.3333333333333333,
             "#9c179e"
            ],
            [
             0.4444444444444444,
             "#bd3786"
            ],
            [
             0.5555555555555556,
             "#d8576b"
            ],
            [
             0.6666666666666666,
             "#ed7953"
            ],
            [
             0.7777777777777778,
             "#fb9f3a"
            ],
            [
             0.8888888888888888,
             "#fdca26"
            ],
            [
             1,
             "#f0f921"
            ]
           ],
           "sequentialminus": [
            [
             0,
             "#0d0887"
            ],
            [
             0.1111111111111111,
             "#46039f"
            ],
            [
             0.2222222222222222,
             "#7201a8"
            ],
            [
             0.3333333333333333,
             "#9c179e"
            ],
            [
             0.4444444444444444,
             "#bd3786"
            ],
            [
             0.5555555555555556,
             "#d8576b"
            ],
            [
             0.6666666666666666,
             "#ed7953"
            ],
            [
             0.7777777777777778,
             "#fb9f3a"
            ],
            [
             0.8888888888888888,
             "#fdca26"
            ],
            [
             1,
             "#f0f921"
            ]
           ]
          },
          "colorway": [
           "#636efa",
           "#EF553B",
           "#00cc96",
           "#ab63fa",
           "#FFA15A",
           "#19d3f3",
           "#FF6692",
           "#B6E880",
           "#FF97FF",
           "#FECB52"
          ],
          "font": {
           "color": "#f2f5fa"
          },
          "geo": {
           "bgcolor": "rgb(17,17,17)",
           "lakecolor": "rgb(17,17,17)",
           "landcolor": "rgb(17,17,17)",
           "showlakes": true,
           "showland": true,
           "subunitcolor": "#506784"
          },
          "hoverlabel": {
           "align": "left"
          },
          "hovermode": "closest",
          "mapbox": {
           "style": "dark"
          },
          "paper_bgcolor": "rgb(17,17,17)",
          "plot_bgcolor": "rgb(17,17,17)",
          "polar": {
           "angularaxis": {
            "gridcolor": "#506784",
            "linecolor": "#506784",
            "ticks": ""
           },
           "bgcolor": "rgb(17,17,17)",
           "radialaxis": {
            "gridcolor": "#506784",
            "linecolor": "#506784",
            "ticks": ""
           }
          },
          "scene": {
           "xaxis": {
            "backgroundcolor": "rgb(17,17,17)",
            "gridcolor": "#506784",
            "gridwidth": 2,
            "linecolor": "#506784",
            "showbackground": true,
            "ticks": "",
            "zerolinecolor": "#C8D4E3"
           },
           "yaxis": {
            "backgroundcolor": "rgb(17,17,17)",
            "gridcolor": "#506784",
            "gridwidth": 2,
            "linecolor": "#506784",
            "showbackground": true,
            "ticks": "",
            "zerolinecolor": "#C8D4E3"
           },
           "zaxis": {
            "backgroundcolor": "rgb(17,17,17)",
            "gridcolor": "#506784",
            "gridwidth": 2,
            "linecolor": "#506784",
            "showbackground": true,
            "ticks": "",
            "zerolinecolor": "#C8D4E3"
           }
          },
          "shapedefaults": {
           "line": {
            "color": "#f2f5fa"
           }
          },
          "sliderdefaults": {
           "bgcolor": "#C8D4E3",
           "bordercolor": "rgb(17,17,17)",
           "borderwidth": 1,
           "tickwidth": 0
          },
          "ternary": {
           "aaxis": {
            "gridcolor": "#506784",
            "linecolor": "#506784",
            "ticks": ""
           },
           "baxis": {
            "gridcolor": "#506784",
            "linecolor": "#506784",
            "ticks": ""
           },
           "bgcolor": "rgb(17,17,17)",
           "caxis": {
            "gridcolor": "#506784",
            "linecolor": "#506784",
            "ticks": ""
           }
          },
          "title": {
           "x": 0.05
          },
          "updatemenudefaults": {
           "bgcolor": "#506784",
           "borderwidth": 0
          },
          "xaxis": {
           "automargin": true,
           "gridcolor": "#283442",
           "linecolor": "#506784",
           "ticks": "",
           "title": {
            "standoff": 15
           },
           "zerolinecolor": "#283442",
           "zerolinewidth": 2
          },
          "yaxis": {
           "automargin": true,
           "gridcolor": "#283442",
           "linecolor": "#506784",
           "ticks": "",
           "title": {
            "standoff": 15
           },
           "zerolinecolor": "#283442",
           "zerolinewidth": 2
          }
         }
        },
        "title": {
         "text": "<b>Número de publicações originais por idioma</b>"
        },
        "xaxis": {
         "anchor": "y",
         "domain": [
          0,
          1
         ],
         "title": {
          "text": "Idioma"
         }
        },
        "yaxis": {
         "anchor": "x",
         "domain": [
          0,
          1
         ],
         "title": {
          "text": "Total de artigos"
         }
        }
       }
      }
     },
     "metadata": {},
     "output_type": "display_data"
    }
   ],
   "source": [
    "# Configura o layout do gráfico\n",
    "\n",
    "fig2.update_layout(\n",
    "    title='<b>Número de publicações originais por idioma</b>',\n",
    "    xaxis_title='Idioma',\n",
    "    yaxis_title='Total de artigos',\n",
    "    template = 'plotly_dark'\n",
    ")\n",
    "\n",
    "# Configura o traçado do gráfico\n",
    "fig2.update_traces(\n",
    "    hovertemplate='<b>%{x}</b><br>Número de publicações: %{y}',\n",
    "    mode='markers+lines'\n",
    ")\n",
    "# Exibe o gráfico\n",
    "\n",
    "fig2.show()"
   ]
  },
  {
   "cell_type": "code",
   "execution_count": 64,
   "metadata": {},
   "outputs": [],
   "source": [
    "# Cria um dataframe com os metadados das resenhas de livros\n",
    "\n",
    "bookreview= df[df['docSubType'] == 'book-review']"
   ]
  },
  {
   "cell_type": "code",
   "execution_count": 65,
   "metadata": {},
   "outputs": [
    {
     "name": "stdout",
     "output_type": "stream",
     "text": [
      "<class 'pandas.core.frame.DataFrame'>\n",
      "Int64Index: 1200 entries, 0 to 2553\n",
      "Data columns (total 13 columns):\n",
      " #   Column        Non-Null Count  Dtype \n",
      "---  ------        --------------  ----- \n",
      " 0   id            1200 non-null   object\n",
      " 1   title         1200 non-null   object\n",
      " 2   year          1200 non-null   int64 \n",
      " 3   docType       1200 non-null   object\n",
      " 4   docSubType    1200 non-null   object\n",
      " 5   date          1200 non-null   object\n",
      " 6   issueNumber   1200 non-null   int64 \n",
      " 7   volumeNumber  1200 non-null   int64 \n",
      " 8   author        1193 non-null   object\n",
      " 9   publisher     1200 non-null   object\n",
      " 10  language      1200 non-null   object\n",
      " 11  wordCount     1200 non-null   int64 \n",
      " 12  pageCount     1200 non-null   int64 \n",
      "dtypes: int64(5), object(8)\n",
      "memory usage: 131.2+ KB\n"
     ]
    }
   ],
   "source": [
    "# Exibe as informações gerais do dataframe\n",
    "\n",
    "bookreview.info()"
   ]
  },
  {
   "cell_type": "code",
   "execution_count": 66,
   "metadata": {},
   "outputs": [],
   "source": [
    "# Cria um dataframe com a frequência de publicações de resenhas por autor\n",
    "\n",
    "authors_br = bookreview['author'].value_counts()\\\n",
    "    .reset_index(name='total')\\\n",
    "    .rename(columns={'index':'author'})\\\n",
    "    .sort_values(by='total', ascending=False)"
   ]
  },
  {
   "cell_type": "code",
   "execution_count": 67,
   "metadata": {},
   "outputs": [
    {
     "data": {
      "text/html": [
       "<div>\n",
       "<style scoped>\n",
       "    .dataframe tbody tr th:only-of-type {\n",
       "        vertical-align: middle;\n",
       "    }\n",
       "\n",
       "    .dataframe tbody tr th {\n",
       "        vertical-align: top;\n",
       "    }\n",
       "\n",
       "    .dataframe thead th {\n",
       "        text-align: right;\n",
       "    }\n",
       "</style>\n",
       "<table border=\"1\" class=\"dataframe\">\n",
       "  <thead>\n",
       "    <tr style=\"text-align: right;\">\n",
       "      <th></th>\n",
       "      <th>author</th>\n",
       "      <th>total</th>\n",
       "    </tr>\n",
       "  </thead>\n",
       "  <tbody>\n",
       "    <tr>\n",
       "      <th>0</th>\n",
       "      <td>D. Westermann</td>\n",
       "      <td>58</td>\n",
       "    </tr>\n",
       "    <tr>\n",
       "      <th>1</th>\n",
       "      <td>Henri Labouret</td>\n",
       "      <td>52</td>\n",
       "    </tr>\n",
       "    <tr>\n",
       "      <th>2</th>\n",
       "      <td>Edwin W. Smith</td>\n",
       "      <td>40</td>\n",
       "    </tr>\n",
       "    <tr>\n",
       "      <th>3</th>\n",
       "      <td>L. P. Mair</td>\n",
       "      <td>34</td>\n",
       "    </tr>\n",
       "    <tr>\n",
       "      <th>4</th>\n",
       "      <td>A. N. Tucker</td>\n",
       "      <td>22</td>\n",
       "    </tr>\n",
       "    <tr>\n",
       "      <th>...</th>\n",
       "      <td>...</td>\n",
       "      <td>...</td>\n",
       "    </tr>\n",
       "    <tr>\n",
       "      <th>282</th>\n",
       "      <td>J. F. Carrington</td>\n",
       "      <td>1</td>\n",
       "    </tr>\n",
       "    <tr>\n",
       "      <th>281</th>\n",
       "      <td>F. Lukyn Williams</td>\n",
       "      <td>1</td>\n",
       "    </tr>\n",
       "    <tr>\n",
       "      <th>280</th>\n",
       "      <td>H. G. Anderson</td>\n",
       "      <td>1</td>\n",
       "    </tr>\n",
       "    <tr>\n",
       "      <th>279</th>\n",
       "      <td>G. Tillion</td>\n",
       "      <td>1</td>\n",
       "    </tr>\n",
       "    <tr>\n",
       "      <th>477</th>\n",
       "      <td>Cherry Gertzel</td>\n",
       "      <td>1</td>\n",
       "    </tr>\n",
       "  </tbody>\n",
       "</table>\n",
       "<p>478 rows × 2 columns</p>\n",
       "</div>"
      ],
      "text/plain": [
       "                author  total\n",
       "0        D. Westermann     58\n",
       "1       Henri Labouret     52\n",
       "2       Edwin W. Smith     40\n",
       "3           L. P. Mair     34\n",
       "4         A. N. Tucker     22\n",
       "..                 ...    ...\n",
       "282   J. F. Carrington      1\n",
       "281  F. Lukyn Williams      1\n",
       "280     H. G. Anderson      1\n",
       "279         G. Tillion      1\n",
       "477     Cherry Gertzel      1\n",
       "\n",
       "[478 rows x 2 columns]"
      ]
     },
     "execution_count": 67,
     "metadata": {},
     "output_type": "execute_result"
    }
   ],
   "source": [
    "#Exibe o dataframe\n",
    "\n",
    "authors_br"
   ]
  },
  {
   "cell_type": "code",
   "execution_count": 82,
   "metadata": {},
   "outputs": [],
   "source": [
    "# Gera um gráfico a partir do dataframe criado \n",
    "\n",
    "fig3 = px.bar(authors_br.head(30), x= 'author', y='total')\n"
   ]
  },
  {
   "cell_type": "code",
   "execution_count": 83,
   "metadata": {},
   "outputs": [
    {
     "data": {
      "application/vnd.plotly.v1+json": {
       "config": {
        "plotlyServerURL": "https://plot.ly"
       },
       "data": [
        {
         "alignmentgroup": "True",
         "hoverlabel": {
          "namelength": 0
         },
         "hovertemplate": "<b>%{x}</b><br>Número de resenhas publicadas: %{y}",
         "legendgroup": "",
         "marker": {
          "color": "#636efa"
         },
         "name": "",
         "offsetgroup": "",
         "orientation": "v",
         "showlegend": false,
         "textposition": "auto",
         "type": "bar",
         "x": [
          "D. Westermann",
          "Henri Labouret",
          "Edwin W. Smith",
          "L. P. Mair",
          "A. N. Tucker",
          "G. I. Jones",
          "H. Labouret",
          "I. Schapera",
          "A. Werner",
          "E. E. Evans-Pritchard",
          "E. W. S.",
          "A. I. Richards",
          "Margaret Read",
          "Max Gluckman",
          "Charlotte Leubuscher",
          "E. Westphal",
          "Lyndon Harries",
          "M. M. Green",
          "A. R. Radcliffe-Brown",
          "R. J. Harrison Church",
          "I. M. Lewis",
          "A. Klingenheben",
          "N. De Cleene",
          "C. K. Meek",
          "S. F. Nadel",
          "Arthur Phillips",
          "Hanns Vischer",
          "Hubert Deschamps",
          "G. W. B. Huntingford",
          "V. G. Pons"
         ],
         "xaxis": "x",
         "y": [
          58,
          52,
          40,
          34,
          22,
          21,
          17,
          15,
          14,
          14,
          13,
          11,
          10,
          10,
          9,
          9,
          9,
          8,
          8,
          8,
          8,
          8,
          7,
          7,
          7,
          7,
          7,
          7,
          7,
          6
         ],
         "yaxis": "y"
        }
       ],
       "layout": {
        "barmode": "relative",
        "legend": {
         "tracegroupgap": 0
        },
        "margin": {
         "t": 60
        },
        "template": {
         "data": {
          "bar": [
           {
            "error_x": {
             "color": "#f2f5fa"
            },
            "error_y": {
             "color": "#f2f5fa"
            },
            "marker": {
             "line": {
              "color": "rgb(17,17,17)",
              "width": 0.5
             }
            },
            "type": "bar"
           }
          ],
          "barpolar": [
           {
            "marker": {
             "line": {
              "color": "rgb(17,17,17)",
              "width": 0.5
             }
            },
            "type": "barpolar"
           }
          ],
          "carpet": [
           {
            "aaxis": {
             "endlinecolor": "#A2B1C6",
             "gridcolor": "#506784",
             "linecolor": "#506784",
             "minorgridcolor": "#506784",
             "startlinecolor": "#A2B1C6"
            },
            "baxis": {
             "endlinecolor": "#A2B1C6",
             "gridcolor": "#506784",
             "linecolor": "#506784",
             "minorgridcolor": "#506784",
             "startlinecolor": "#A2B1C6"
            },
            "type": "carpet"
           }
          ],
          "choropleth": [
           {
            "colorbar": {
             "outlinewidth": 0,
             "ticks": ""
            },
            "type": "choropleth"
           }
          ],
          "contour": [
           {
            "colorbar": {
             "outlinewidth": 0,
             "ticks": ""
            },
            "colorscale": [
             [
              0,
              "#0d0887"
             ],
             [
              0.1111111111111111,
              "#46039f"
             ],
             [
              0.2222222222222222,
              "#7201a8"
             ],
             [
              0.3333333333333333,
              "#9c179e"
             ],
             [
              0.4444444444444444,
              "#bd3786"
             ],
             [
              0.5555555555555556,
              "#d8576b"
             ],
             [
              0.6666666666666666,
              "#ed7953"
             ],
             [
              0.7777777777777778,
              "#fb9f3a"
             ],
             [
              0.8888888888888888,
              "#fdca26"
             ],
             [
              1,
              "#f0f921"
             ]
            ],
            "type": "contour"
           }
          ],
          "contourcarpet": [
           {
            "colorbar": {
             "outlinewidth": 0,
             "ticks": ""
            },
            "type": "contourcarpet"
           }
          ],
          "heatmap": [
           {
            "colorbar": {
             "outlinewidth": 0,
             "ticks": ""
            },
            "colorscale": [
             [
              0,
              "#0d0887"
             ],
             [
              0.1111111111111111,
              "#46039f"
             ],
             [
              0.2222222222222222,
              "#7201a8"
             ],
             [
              0.3333333333333333,
              "#9c179e"
             ],
             [
              0.4444444444444444,
              "#bd3786"
             ],
             [
              0.5555555555555556,
              "#d8576b"
             ],
             [
              0.6666666666666666,
              "#ed7953"
             ],
             [
              0.7777777777777778,
              "#fb9f3a"
             ],
             [
              0.8888888888888888,
              "#fdca26"
             ],
             [
              1,
              "#f0f921"
             ]
            ],
            "type": "heatmap"
           }
          ],
          "heatmapgl": [
           {
            "colorbar": {
             "outlinewidth": 0,
             "ticks": ""
            },
            "colorscale": [
             [
              0,
              "#0d0887"
             ],
             [
              0.1111111111111111,
              "#46039f"
             ],
             [
              0.2222222222222222,
              "#7201a8"
             ],
             [
              0.3333333333333333,
              "#9c179e"
             ],
             [
              0.4444444444444444,
              "#bd3786"
             ],
             [
              0.5555555555555556,
              "#d8576b"
             ],
             [
              0.6666666666666666,
              "#ed7953"
             ],
             [
              0.7777777777777778,
              "#fb9f3a"
             ],
             [
              0.8888888888888888,
              "#fdca26"
             ],
             [
              1,
              "#f0f921"
             ]
            ],
            "type": "heatmapgl"
           }
          ],
          "histogram": [
           {
            "marker": {
             "colorbar": {
              "outlinewidth": 0,
              "ticks": ""
             }
            },
            "type": "histogram"
           }
          ],
          "histogram2d": [
           {
            "colorbar": {
             "outlinewidth": 0,
             "ticks": ""
            },
            "colorscale": [
             [
              0,
              "#0d0887"
             ],
             [
              0.1111111111111111,
              "#46039f"
             ],
             [
              0.2222222222222222,
              "#7201a8"
             ],
             [
              0.3333333333333333,
              "#9c179e"
             ],
             [
              0.4444444444444444,
              "#bd3786"
             ],
             [
              0.5555555555555556,
              "#d8576b"
             ],
             [
              0.6666666666666666,
              "#ed7953"
             ],
             [
              0.7777777777777778,
              "#fb9f3a"
             ],
             [
              0.8888888888888888,
              "#fdca26"
             ],
             [
              1,
              "#f0f921"
             ]
            ],
            "type": "histogram2d"
           }
          ],
          "histogram2dcontour": [
           {
            "colorbar": {
             "outlinewidth": 0,
             "ticks": ""
            },
            "colorscale": [
             [
              0,
              "#0d0887"
             ],
             [
              0.1111111111111111,
              "#46039f"
             ],
             [
              0.2222222222222222,
              "#7201a8"
             ],
             [
              0.3333333333333333,
              "#9c179e"
             ],
             [
              0.4444444444444444,
              "#bd3786"
             ],
             [
              0.5555555555555556,
              "#d8576b"
             ],
             [
              0.6666666666666666,
              "#ed7953"
             ],
             [
              0.7777777777777778,
              "#fb9f3a"
             ],
             [
              0.8888888888888888,
              "#fdca26"
             ],
             [
              1,
              "#f0f921"
             ]
            ],
            "type": "histogram2dcontour"
           }
          ],
          "mesh3d": [
           {
            "colorbar": {
             "outlinewidth": 0,
             "ticks": ""
            },
            "type": "mesh3d"
           }
          ],
          "parcoords": [
           {
            "line": {
             "colorbar": {
              "outlinewidth": 0,
              "ticks": ""
             }
            },
            "type": "parcoords"
           }
          ],
          "pie": [
           {
            "automargin": true,
            "type": "pie"
           }
          ],
          "scatter": [
           {
            "marker": {
             "line": {
              "color": "#283442"
             }
            },
            "type": "scatter"
           }
          ],
          "scatter3d": [
           {
            "line": {
             "colorbar": {
              "outlinewidth": 0,
              "ticks": ""
             }
            },
            "marker": {
             "colorbar": {
              "outlinewidth": 0,
              "ticks": ""
             }
            },
            "type": "scatter3d"
           }
          ],
          "scattercarpet": [
           {
            "marker": {
             "colorbar": {
              "outlinewidth": 0,
              "ticks": ""
             }
            },
            "type": "scattercarpet"
           }
          ],
          "scattergeo": [
           {
            "marker": {
             "colorbar": {
              "outlinewidth": 0,
              "ticks": ""
             }
            },
            "type": "scattergeo"
           }
          ],
          "scattergl": [
           {
            "marker": {
             "line": {
              "color": "#283442"
             }
            },
            "type": "scattergl"
           }
          ],
          "scattermapbox": [
           {
            "marker": {
             "colorbar": {
              "outlinewidth": 0,
              "ticks": ""
             }
            },
            "type": "scattermapbox"
           }
          ],
          "scatterpolar": [
           {
            "marker": {
             "colorbar": {
              "outlinewidth": 0,
              "ticks": ""
             }
            },
            "type": "scatterpolar"
           }
          ],
          "scatterpolargl": [
           {
            "marker": {
             "colorbar": {
              "outlinewidth": 0,
              "ticks": ""
             }
            },
            "type": "scatterpolargl"
           }
          ],
          "scatterternary": [
           {
            "marker": {
             "colorbar": {
              "outlinewidth": 0,
              "ticks": ""
             }
            },
            "type": "scatterternary"
           }
          ],
          "surface": [
           {
            "colorbar": {
             "outlinewidth": 0,
             "ticks": ""
            },
            "colorscale": [
             [
              0,
              "#0d0887"
             ],
             [
              0.1111111111111111,
              "#46039f"
             ],
             [
              0.2222222222222222,
              "#7201a8"
             ],
             [
              0.3333333333333333,
              "#9c179e"
             ],
             [
              0.4444444444444444,
              "#bd3786"
             ],
             [
              0.5555555555555556,
              "#d8576b"
             ],
             [
              0.6666666666666666,
              "#ed7953"
             ],
             [
              0.7777777777777778,
              "#fb9f3a"
             ],
             [
              0.8888888888888888,
              "#fdca26"
             ],
             [
              1,
              "#f0f921"
             ]
            ],
            "type": "surface"
           }
          ],
          "table": [
           {
            "cells": {
             "fill": {
              "color": "#506784"
             },
             "line": {
              "color": "rgb(17,17,17)"
             }
            },
            "header": {
             "fill": {
              "color": "#2a3f5f"
             },
             "line": {
              "color": "rgb(17,17,17)"
             }
            },
            "type": "table"
           }
          ]
         },
         "layout": {
          "annotationdefaults": {
           "arrowcolor": "#f2f5fa",
           "arrowhead": 0,
           "arrowwidth": 1
          },
          "coloraxis": {
           "colorbar": {
            "outlinewidth": 0,
            "ticks": ""
           }
          },
          "colorscale": {
           "diverging": [
            [
             0,
             "#8e0152"
            ],
            [
             0.1,
             "#c51b7d"
            ],
            [
             0.2,
             "#de77ae"
            ],
            [
             0.3,
             "#f1b6da"
            ],
            [
             0.4,
             "#fde0ef"
            ],
            [
             0.5,
             "#f7f7f7"
            ],
            [
             0.6,
             "#e6f5d0"
            ],
            [
             0.7,
             "#b8e186"
            ],
            [
             0.8,
             "#7fbc41"
            ],
            [
             0.9,
             "#4d9221"
            ],
            [
             1,
             "#276419"
            ]
           ],
           "sequential": [
            [
             0,
             "#0d0887"
            ],
            [
             0.1111111111111111,
             "#46039f"
            ],
            [
             0.2222222222222222,
             "#7201a8"
            ],
            [
             0.3333333333333333,
             "#9c179e"
            ],
            [
             0.4444444444444444,
             "#bd3786"
            ],
            [
             0.5555555555555556,
             "#d8576b"
            ],
            [
             0.6666666666666666,
             "#ed7953"
            ],
            [
             0.7777777777777778,
             "#fb9f3a"
            ],
            [
             0.8888888888888888,
             "#fdca26"
            ],
            [
             1,
             "#f0f921"
            ]
           ],
           "sequentialminus": [
            [
             0,
             "#0d0887"
            ],
            [
             0.1111111111111111,
             "#46039f"
            ],
            [
             0.2222222222222222,
             "#7201a8"
            ],
            [
             0.3333333333333333,
             "#9c179e"
            ],
            [
             0.4444444444444444,
             "#bd3786"
            ],
            [
             0.5555555555555556,
             "#d8576b"
            ],
            [
             0.6666666666666666,
             "#ed7953"
            ],
            [
             0.7777777777777778,
             "#fb9f3a"
            ],
            [
             0.8888888888888888,
             "#fdca26"
            ],
            [
             1,
             "#f0f921"
            ]
           ]
          },
          "colorway": [
           "#636efa",
           "#EF553B",
           "#00cc96",
           "#ab63fa",
           "#FFA15A",
           "#19d3f3",
           "#FF6692",
           "#B6E880",
           "#FF97FF",
           "#FECB52"
          ],
          "font": {
           "color": "#f2f5fa"
          },
          "geo": {
           "bgcolor": "rgb(17,17,17)",
           "lakecolor": "rgb(17,17,17)",
           "landcolor": "rgb(17,17,17)",
           "showlakes": true,
           "showland": true,
           "subunitcolor": "#506784"
          },
          "hoverlabel": {
           "align": "left"
          },
          "hovermode": "closest",
          "mapbox": {
           "style": "dark"
          },
          "paper_bgcolor": "rgb(17,17,17)",
          "plot_bgcolor": "rgb(17,17,17)",
          "polar": {
           "angularaxis": {
            "gridcolor": "#506784",
            "linecolor": "#506784",
            "ticks": ""
           },
           "bgcolor": "rgb(17,17,17)",
           "radialaxis": {
            "gridcolor": "#506784",
            "linecolor": "#506784",
            "ticks": ""
           }
          },
          "scene": {
           "xaxis": {
            "backgroundcolor": "rgb(17,17,17)",
            "gridcolor": "#506784",
            "gridwidth": 2,
            "linecolor": "#506784",
            "showbackground": true,
            "ticks": "",
            "zerolinecolor": "#C8D4E3"
           },
           "yaxis": {
            "backgroundcolor": "rgb(17,17,17)",
            "gridcolor": "#506784",
            "gridwidth": 2,
            "linecolor": "#506784",
            "showbackground": true,
            "ticks": "",
            "zerolinecolor": "#C8D4E3"
           },
           "zaxis": {
            "backgroundcolor": "rgb(17,17,17)",
            "gridcolor": "#506784",
            "gridwidth": 2,
            "linecolor": "#506784",
            "showbackground": true,
            "ticks": "",
            "zerolinecolor": "#C8D4E3"
           }
          },
          "shapedefaults": {
           "line": {
            "color": "#f2f5fa"
           }
          },
          "sliderdefaults": {
           "bgcolor": "#C8D4E3",
           "bordercolor": "rgb(17,17,17)",
           "borderwidth": 1,
           "tickwidth": 0
          },
          "ternary": {
           "aaxis": {
            "gridcolor": "#506784",
            "linecolor": "#506784",
            "ticks": ""
           },
           "baxis": {
            "gridcolor": "#506784",
            "linecolor": "#506784",
            "ticks": ""
           },
           "bgcolor": "rgb(17,17,17)",
           "caxis": {
            "gridcolor": "#506784",
            "linecolor": "#506784",
            "ticks": ""
           }
          },
          "title": {
           "x": 0.05
          },
          "updatemenudefaults": {
           "bgcolor": "#506784",
           "borderwidth": 0
          },
          "xaxis": {
           "automargin": true,
           "gridcolor": "#283442",
           "linecolor": "#506784",
           "ticks": "",
           "title": {
            "standoff": 15
           },
           "zerolinecolor": "#283442",
           "zerolinewidth": 2
          },
          "yaxis": {
           "automargin": true,
           "gridcolor": "#283442",
           "linecolor": "#506784",
           "ticks": "",
           "title": {
            "standoff": 15
           },
           "zerolinecolor": "#283442",
           "zerolinewidth": 2
          }
         }
        },
        "title": {
         "text": "<b>Número de resenhas de livros por autor</b>"
        },
        "xaxis": {
         "anchor": "y",
         "domain": [
          0,
          1
         ],
         "title": {
          "text": "Autores"
         }
        },
        "yaxis": {
         "anchor": "x",
         "domain": [
          0,
          1
         ],
         "title": {
          "text": "Total de resenhas"
         }
        }
       }
      }
     },
     "metadata": {},
     "output_type": "display_data"
    }
   ],
   "source": [
    "# Configura o layout do gráfico\n",
    "\n",
    "fig3.update_layout(\n",
    "    title='<b>Número de resenhas de livros por autor</b>',\n",
    "    xaxis_title='Autores',\n",
    "    yaxis_title='Total de resenhas',\n",
    "    template = 'plotly_dark'\n",
    ")\n",
    "\n",
    "# Configura o traçado do gráfico\n",
    "fig3.update_traces(\n",
    "    hovertemplate='<b>%{x}</b><br>Número de resenhas publicadas: %{y}'\n",
    ")\n",
    "\n",
    "# Exibe o gráfico criado\n",
    "fig3.show()\n"
   ]
  },
  {
   "cell_type": "markdown",
   "metadata": {},
   "source": [
    "## Análise exploratória dos títulos das publicações com spaCy"
   ]
  },
  {
   "cell_type": "markdown",
   "metadata": {},
   "source": [
    "- Nesta etapa, iremos utilizar na análise o modelo disponível na biblioteca do spaCy ['en_core_web_sm'](https://github.com/explosion/spacy-models/releases/tag/en_core_web_sm-3.2.0), treinado com textos escritos na língua inglesa de blogs, notícias e comentários provenientes da web. \n"
   ]
  },
  {
   "cell_type": "code",
   "execution_count": 84,
   "metadata": {},
   "outputs": [],
   "source": [
    "# Salva os títulos dos artigos em um arquivo .txt \n",
    "\n",
    "titulos = articles['title']\n",
    "\n",
    "titulos.to_csv(r'csv/titulos.txt', header=None, index=None, sep=',', mode='a')"
   ]
  },
  {
   "cell_type": "code",
   "execution_count": 85,
   "metadata": {},
   "outputs": [],
   "source": [
    "# Carrega o modelo do spacy 'en_core_web_sm' \n",
    "\n",
    "nlp = spacy.load('en_core_web_sm')"
   ]
  },
  {
   "cell_type": "code",
   "execution_count": 86,
   "metadata": {},
   "outputs": [],
   "source": [
    "# Lê o texto\n",
    "\n",
    "text = open('csv/titulos.txt', 'r').read()\n",
    "\n",
    "# Processa o texto em uma entidade 'doc'\n",
    "doc = nlp(text)"
   ]
  },
  {
   "cell_type": "code",
   "execution_count": 87,
   "metadata": {},
   "outputs": [],
   "source": [
    "# Cria uma lista apenas com as entidades do tipo GPE e LOC (Entidades Geopolíticas e Localização) através \n",
    "# de controladores de fluxo \"if\" e \"for\"\n",
    "\n",
    "locations = []\n",
    "\n",
    "for named_entity in doc.ents:\n",
    "    if named_entity.label_ == 'GPE' and 'LOC':\n",
    "        itens = named_entity\n",
    "        locations.append(itens)\n",
    "\n"
   ]
  },
  {
   "cell_type": "code",
   "execution_count": 88,
   "metadata": {},
   "outputs": [
    {
     "data": {
      "text/plain": [
       "[Poland,\n",
       " Central Africa,\n",
       " West Africa,\n",
       " Anthropological Field-Worker,\n",
       " West Africa,\n",
       " East Africa,\n",
       " Yoruba,\n",
       " Southern Nigeria,\n",
       " Uganda,\n",
       " MONGO,\n",
       " Colonies,\n",
       " Gambia,\n",
       " Senegal,\n",
       " Ethiopia,\n",
       " West Africa,\n",
       " Bemba,\n",
       " Eastern Africa,\n",
       " Ahnenkult,\n",
       " Kamerun,\n",
       " East Africa,\n",
       " Nigeria,\n",
       " Tikar Chiefdom,\n",
       " Dogon,\n",
       " Clan,\n",
       " Chieftainship,\n",
       " Yoruba,\n",
       " Togoland,\n",
       " Yoruba,\n",
       " Bemba,\n",
       " Somaliland,\n",
       " Häuptlingswürde,\n",
       " Proverb,\n",
       " Kenya,\n",
       " Nigeria,\n",
       " Katanga,\n",
       " Northern Nigeria,\n",
       " Congo,\n",
       " India,\n",
       " Northern Nigeria,\n",
       " Ghana,\n",
       " Morocco,\n",
       " Swaziland,\n",
       " Abyssinia,\n",
       " Dogon,\n",
       " Oberguinea,\n",
       " South Africa,\n",
       " Sudan,\n",
       " East Africa,\n",
       " West Africa,\n",
       " Dahomey,\n",
       " Modern Africa,\n",
       " West Africa,\n",
       " Central Africa,\n",
       " Nigeria,\n",
       " South Africa,\n",
       " Ethiopia,\n",
       " Umor,\n",
       " West Africa,\n",
       " the Northern Province,\n",
       " Nyasaland,\n",
       " Benin City,\n",
       " East Africa,\n",
       " Central Africa,\n",
       " West Africa,\n",
       " Devinettes,\n",
       " Sudan Village Following Locust Visitation,\n",
       " the Netherlands East Indies,\n",
       " Northern Nigeria,\n",
       " Lugbara,\n",
       " Vengeance,\n",
       " West Africa,\n",
       " East Africa,\n",
       " South Africa,\n",
       " East Africa,\n",
       " Nineteenth Centuries,\n",
       " North-Eastern Rhodesia,\n",
       " Gambia,\n",
       " Lake Chad,\n",
       " South Africa,\n",
       " Nigeria,\n",
       " SOUDAN OCCIDENTAL,\n",
       " East Africa,\n",
       " Ghana,\n",
       " Kenya,\n",
       " the Netherlands East Indies,\n",
       " Equatorial Africa,\n",
       " West Africa,\n",
       " East Africa,\n",
       " Sukumaland,\n",
       " the Upper Nile,\n",
       " Mendi,\n",
       " East London,\n",
       " Cape Province,\n",
       " Freetown,\n",
       " Sierra Leone,\n",
       " Yoruba,\n",
       " Zaria,\n",
       " Northern Nigeria,\n",
       " Nigeria,\n",
       " Owerri Province,\n",
       " Nigeria,\n",
       " West Africa,\n",
       " East Central Africa,\n",
       " Kenya,\n",
       " Barolong,\n",
       " South Africa,\n",
       " Congo,\n",
       " East Africa,\n",
       " Sukumaland,\n",
       " Bambara,\n",
       " the Kingdom of Kongo,\n",
       " Nigeria,\n",
       " the Soviet Union,\n",
       " Kanuri,\n",
       " Congo,\n",
       " Colonies,\n",
       " DU,\n",
       " Ghana,\n",
       " Nsaw,\n",
       " East Africa,\n",
       " Cokwe,\n",
       " Johannesburg,\n",
       " the Upper Nile,\n",
       " Melanesia,\n",
       " Palestine,\n",
       " Yoruba,\n",
       " Dahomey,\n",
       " Maximes,\n",
       " Poland,\n",
       " Central Africa,\n",
       " West Africa,\n",
       " Anthropological Field-Worker,\n",
       " West Africa,\n",
       " East Africa,\n",
       " Yoruba,\n",
       " Southern Nigeria,\n",
       " Uganda,\n",
       " MONGO,\n",
       " Colonies,\n",
       " Gambia,\n",
       " Senegal,\n",
       " Ethiopia,\n",
       " West Africa,\n",
       " Bemba,\n",
       " Eastern Africa,\n",
       " Ahnenkult,\n",
       " Kamerun,\n",
       " East Africa,\n",
       " Nigeria,\n",
       " Tikar Chiefdom,\n",
       " Dogon,\n",
       " Clan,\n",
       " Chieftainship,\n",
       " Yoruba,\n",
       " Togoland,\n",
       " Yoruba,\n",
       " Bemba,\n",
       " Somaliland,\n",
       " Häuptlingswürde,\n",
       " Proverb,\n",
       " Kenya,\n",
       " Nigeria,\n",
       " Katanga,\n",
       " Northern Nigeria,\n",
       " Congo,\n",
       " India,\n",
       " Northern Nigeria,\n",
       " Ghana,\n",
       " Morocco,\n",
       " Swaziland,\n",
       " Abyssinia,\n",
       " Dogon,\n",
       " Oberguinea,\n",
       " South Africa,\n",
       " Sudan,\n",
       " East Africa,\n",
       " West Africa,\n",
       " Dahomey,\n",
       " Modern Africa,\n",
       " West Africa,\n",
       " Central Africa,\n",
       " Nigeria,\n",
       " South Africa,\n",
       " Ethiopia,\n",
       " Umor,\n",
       " West Africa,\n",
       " the Northern Province,\n",
       " Nyasaland,\n",
       " Benin City,\n",
       " East Africa,\n",
       " Central Africa,\n",
       " West Africa,\n",
       " Devinettes,\n",
       " Sudan Village Following Locust Visitation,\n",
       " the Netherlands East Indies,\n",
       " Northern Nigeria,\n",
       " Lugbara,\n",
       " Vengeance,\n",
       " West Africa,\n",
       " East Africa,\n",
       " South Africa,\n",
       " East Africa,\n",
       " Nineteenth Centuries,\n",
       " North-Eastern Rhodesia,\n",
       " Gambia,\n",
       " Lake Chad,\n",
       " South Africa,\n",
       " Nigeria,\n",
       " SOUDAN OCCIDENTAL,\n",
       " East Africa,\n",
       " Ghana,\n",
       " Kenya,\n",
       " the Netherlands East Indies,\n",
       " Equatorial Africa,\n",
       " West Africa,\n",
       " East Africa,\n",
       " Sukumaland,\n",
       " the Upper Nile,\n",
       " Mendi,\n",
       " East London,\n",
       " Cape Province,\n",
       " Freetown,\n",
       " Sierra Leone,\n",
       " Yoruba,\n",
       " Zaria,\n",
       " Northern Nigeria,\n",
       " Nigeria,\n",
       " Owerri Province,\n",
       " Nigeria,\n",
       " West Africa,\n",
       " East Central Africa,\n",
       " Kenya,\n",
       " Barolong,\n",
       " South Africa,\n",
       " Congo,\n",
       " East Africa,\n",
       " Sukumaland,\n",
       " Bambara,\n",
       " the Kingdom of Kongo,\n",
       " Nigeria,\n",
       " the Soviet Union,\n",
       " Kanuri,\n",
       " Congo,\n",
       " Colonies,\n",
       " DU,\n",
       " Ghana,\n",
       " Nsaw,\n",
       " East Africa,\n",
       " Cokwe,\n",
       " Johannesburg,\n",
       " the Upper Nile,\n",
       " Melanesia,\n",
       " Palestine,\n",
       " Yoruba,\n",
       " Dahomey,\n",
       " Maximes,\n",
       " Poland,\n",
       " Central Africa,\n",
       " West Africa,\n",
       " Anthropological Field-Worker,\n",
       " West Africa,\n",
       " East Africa,\n",
       " Yoruba,\n",
       " Southern Nigeria,\n",
       " Uganda,\n",
       " MONGO,\n",
       " Colonies,\n",
       " Gambia,\n",
       " Senegal,\n",
       " Ethiopia,\n",
       " West Africa,\n",
       " Bemba,\n",
       " Eastern Africa,\n",
       " Ahnenkult,\n",
       " Kamerun,\n",
       " East Africa,\n",
       " Nigeria,\n",
       " Tikar Chiefdom,\n",
       " Dogon,\n",
       " Clan,\n",
       " Chieftainship,\n",
       " Yoruba,\n",
       " Togoland,\n",
       " Yoruba,\n",
       " Bemba,\n",
       " Somaliland,\n",
       " Häuptlingswürde,\n",
       " Proverb,\n",
       " Kenya,\n",
       " Nigeria,\n",
       " Katanga,\n",
       " Northern Nigeria,\n",
       " Congo,\n",
       " India,\n",
       " Northern Nigeria,\n",
       " Ghana,\n",
       " Morocco,\n",
       " Swaziland,\n",
       " Abyssinia,\n",
       " Dogon,\n",
       " Oberguinea,\n",
       " South Africa,\n",
       " Sudan,\n",
       " East Africa,\n",
       " West Africa,\n",
       " Dahomey,\n",
       " Modern Africa,\n",
       " West Africa,\n",
       " Central Africa,\n",
       " Nigeria,\n",
       " South Africa,\n",
       " Ethiopia,\n",
       " Umor,\n",
       " West Africa,\n",
       " the Northern Province,\n",
       " Nyasaland,\n",
       " Benin City,\n",
       " East Africa,\n",
       " Central Africa,\n",
       " West Africa,\n",
       " Devinettes,\n",
       " Sudan Village Following Locust Visitation,\n",
       " the Netherlands East Indies,\n",
       " Northern Nigeria,\n",
       " Lugbara,\n",
       " Vengeance,\n",
       " West Africa,\n",
       " East Africa,\n",
       " South Africa,\n",
       " East Africa,\n",
       " Nineteenth Centuries,\n",
       " North-Eastern Rhodesia,\n",
       " Gambia,\n",
       " Lake Chad,\n",
       " South Africa,\n",
       " Nigeria,\n",
       " SOUDAN OCCIDENTAL,\n",
       " East Africa,\n",
       " Ghana,\n",
       " Kenya,\n",
       " the Netherlands East Indies,\n",
       " Equatorial Africa,\n",
       " West Africa,\n",
       " East Africa,\n",
       " Sukumaland,\n",
       " the Upper Nile,\n",
       " Mendi,\n",
       " East London,\n",
       " Cape Province,\n",
       " Freetown,\n",
       " Sierra Leone,\n",
       " Yoruba,\n",
       " Zaria,\n",
       " Northern Nigeria,\n",
       " Nigeria,\n",
       " Owerri Province,\n",
       " Nigeria,\n",
       " West Africa,\n",
       " East Central Africa,\n",
       " Kenya,\n",
       " Barolong,\n",
       " South Africa,\n",
       " Congo,\n",
       " East Africa,\n",
       " Sukumaland,\n",
       " Bambara,\n",
       " the Kingdom of Kongo,\n",
       " Nigeria,\n",
       " the Soviet Union,\n",
       " Kanuri,\n",
       " Congo,\n",
       " Colonies,\n",
       " DU,\n",
       " Ghana,\n",
       " Nsaw,\n",
       " East Africa,\n",
       " Cokwe,\n",
       " Johannesburg,\n",
       " the Upper Nile,\n",
       " Melanesia,\n",
       " Palestine,\n",
       " Yoruba,\n",
       " Dahomey,\n",
       " Maximes,\n",
       " Poland,\n",
       " Central Africa,\n",
       " West Africa,\n",
       " Anthropological Field-Worker,\n",
       " West Africa,\n",
       " East Africa,\n",
       " Yoruba,\n",
       " Southern Nigeria,\n",
       " Uganda,\n",
       " MONGO,\n",
       " Colonies,\n",
       " Gambia,\n",
       " Senegal,\n",
       " Ethiopia,\n",
       " West Africa,\n",
       " Bemba,\n",
       " Eastern Africa,\n",
       " Ahnenkult,\n",
       " Kamerun,\n",
       " East Africa,\n",
       " Nigeria,\n",
       " Tikar Chiefdom,\n",
       " Dogon,\n",
       " Clan,\n",
       " Chieftainship,\n",
       " Yoruba,\n",
       " Togoland,\n",
       " Yoruba,\n",
       " Bemba,\n",
       " Somaliland,\n",
       " Häuptlingswürde,\n",
       " Proverb,\n",
       " Kenya,\n",
       " Nigeria,\n",
       " Katanga,\n",
       " Northern Nigeria,\n",
       " Congo,\n",
       " India,\n",
       " Northern Nigeria,\n",
       " Ghana,\n",
       " Morocco,\n",
       " Swaziland,\n",
       " Abyssinia,\n",
       " Dogon,\n",
       " Oberguinea,\n",
       " South Africa,\n",
       " Sudan,\n",
       " East Africa,\n",
       " West Africa,\n",
       " Dahomey,\n",
       " Modern Africa,\n",
       " West Africa,\n",
       " Central Africa,\n",
       " Nigeria,\n",
       " South Africa,\n",
       " Ethiopia,\n",
       " Umor,\n",
       " West Africa,\n",
       " the Northern Province,\n",
       " Nyasaland,\n",
       " Benin City,\n",
       " East Africa,\n",
       " Central Africa,\n",
       " West Africa,\n",
       " Devinettes,\n",
       " Sudan Village Following Locust Visitation,\n",
       " the Netherlands East Indies,\n",
       " Northern Nigeria,\n",
       " Lugbara,\n",
       " Vengeance,\n",
       " West Africa,\n",
       " East Africa,\n",
       " South Africa,\n",
       " East Africa,\n",
       " Nineteenth Centuries,\n",
       " North-Eastern Rhodesia,\n",
       " Gambia,\n",
       " Lake Chad,\n",
       " South Africa,\n",
       " Nigeria,\n",
       " SOUDAN OCCIDENTAL,\n",
       " East Africa,\n",
       " Ghana,\n",
       " Kenya,\n",
       " the Netherlands East Indies,\n",
       " Equatorial Africa,\n",
       " West Africa,\n",
       " East Africa,\n",
       " Sukumaland,\n",
       " the Upper Nile,\n",
       " Mendi,\n",
       " East London,\n",
       " Cape Province,\n",
       " Freetown,\n",
       " Sierra Leone,\n",
       " Yoruba,\n",
       " Zaria,\n",
       " Northern Nigeria,\n",
       " Nigeria,\n",
       " Owerri Province,\n",
       " Nigeria,\n",
       " West Africa,\n",
       " East Central Africa,\n",
       " Kenya,\n",
       " Barolong,\n",
       " South Africa,\n",
       " Congo,\n",
       " East Africa,\n",
       " Sukumaland,\n",
       " Bambara,\n",
       " the Kingdom of Kongo,\n",
       " Nigeria,\n",
       " the Soviet Union,\n",
       " Kanuri,\n",
       " Congo,\n",
       " Colonies,\n",
       " DU,\n",
       " Ghana,\n",
       " Nsaw,\n",
       " East Africa,\n",
       " Cokwe,\n",
       " Johannesburg,\n",
       " the Upper Nile,\n",
       " Melanesia,\n",
       " Palestine,\n",
       " Yoruba,\n",
       " Dahomey,\n",
       " Maximes,\n",
       " Poland,\n",
       " Central Africa,\n",
       " West Africa,\n",
       " Anthropological Field-Worker,\n",
       " West Africa,\n",
       " East Africa,\n",
       " Yoruba,\n",
       " Southern Nigeria,\n",
       " Uganda,\n",
       " MONGO,\n",
       " Colonies,\n",
       " Gambia,\n",
       " Senegal,\n",
       " Ethiopia,\n",
       " West Africa,\n",
       " Bemba,\n",
       " Eastern Africa,\n",
       " Ahnenkult,\n",
       " Kamerun,\n",
       " East Africa,\n",
       " Nigeria,\n",
       " Tikar Chiefdom,\n",
       " Dogon,\n",
       " Clan,\n",
       " Chieftainship,\n",
       " Yoruba,\n",
       " Togoland,\n",
       " Yoruba,\n",
       " Bemba,\n",
       " Somaliland,\n",
       " Häuptlingswürde,\n",
       " Proverb,\n",
       " Kenya,\n",
       " Nigeria,\n",
       " Katanga,\n",
       " Northern Nigeria,\n",
       " Congo,\n",
       " India,\n",
       " Northern Nigeria,\n",
       " Ghana,\n",
       " Morocco,\n",
       " Swaziland,\n",
       " Abyssinia,\n",
       " Dogon,\n",
       " Oberguinea,\n",
       " South Africa,\n",
       " Sudan,\n",
       " East Africa,\n",
       " West Africa,\n",
       " Dahomey,\n",
       " Modern Africa,\n",
       " West Africa,\n",
       " Central Africa,\n",
       " Nigeria,\n",
       " South Africa,\n",
       " Ethiopia,\n",
       " Umor,\n",
       " West Africa,\n",
       " the Northern Province,\n",
       " Nyasaland,\n",
       " Benin City,\n",
       " East Africa,\n",
       " Central Africa,\n",
       " West Africa,\n",
       " Devinettes,\n",
       " Sudan Village Following Locust Visitation,\n",
       " the Netherlands East Indies,\n",
       " Northern Nigeria,\n",
       " Lugbara,\n",
       " Vengeance,\n",
       " West Africa,\n",
       " East Africa,\n",
       " South Africa,\n",
       " East Africa,\n",
       " Nineteenth Centuries,\n",
       " North-Eastern Rhodesia,\n",
       " Gambia,\n",
       " Lake Chad,\n",
       " South Africa,\n",
       " Nigeria,\n",
       " SOUDAN OCCIDENTAL,\n",
       " East Africa,\n",
       " Ghana,\n",
       " Kenya,\n",
       " the Netherlands East Indies,\n",
       " Equatorial Africa,\n",
       " West Africa,\n",
       " East Africa,\n",
       " Sukumaland,\n",
       " the Upper Nile,\n",
       " Mendi,\n",
       " East London,\n",
       " Cape Province,\n",
       " Freetown,\n",
       " Sierra Leone,\n",
       " Yoruba,\n",
       " Zaria,\n",
       " Northern Nigeria,\n",
       " Nigeria,\n",
       " Owerri Province,\n",
       " Nigeria,\n",
       " West Africa,\n",
       " East Central Africa,\n",
       " Kenya,\n",
       " Barolong,\n",
       " South Africa,\n",
       " Congo,\n",
       " East Africa,\n",
       " Sukumaland,\n",
       " Bambara,\n",
       " the Kingdom of Kongo,\n",
       " Nigeria,\n",
       " the Soviet Union,\n",
       " Kanuri,\n",
       " Congo,\n",
       " Colonies,\n",
       " DU,\n",
       " Ghana,\n",
       " Nsaw,\n",
       " East Africa,\n",
       " Cokwe,\n",
       " Johannesburg,\n",
       " the Upper Nile,\n",
       " Melanesia,\n",
       " Palestine,\n",
       " Yoruba,\n",
       " Dahomey,\n",
       " Maximes,\n",
       " Poland,\n",
       " Central Africa,\n",
       " West Africa,\n",
       " Anthropological Field-Worker,\n",
       " West Africa,\n",
       " East Africa,\n",
       " Yoruba,\n",
       " Southern Nigeria,\n",
       " Uganda,\n",
       " MONGO,\n",
       " Colonies,\n",
       " Gambia,\n",
       " Senegal,\n",
       " Ethiopia,\n",
       " West Africa,\n",
       " Bemba,\n",
       " Eastern Africa,\n",
       " Ahnenkult,\n",
       " Kamerun,\n",
       " East Africa,\n",
       " Nigeria,\n",
       " Tikar Chiefdom,\n",
       " Dogon,\n",
       " Clan,\n",
       " Chieftainship,\n",
       " Yoruba,\n",
       " Togoland,\n",
       " Yoruba,\n",
       " Bemba,\n",
       " Somaliland,\n",
       " Häuptlingswürde,\n",
       " Proverb,\n",
       " Kenya,\n",
       " Nigeria,\n",
       " Katanga,\n",
       " Northern Nigeria,\n",
       " Congo,\n",
       " India,\n",
       " Northern Nigeria,\n",
       " Ghana,\n",
       " Morocco,\n",
       " Swaziland,\n",
       " Abyssinia,\n",
       " Dogon,\n",
       " Oberguinea,\n",
       " South Africa,\n",
       " Sudan,\n",
       " East Africa,\n",
       " West Africa,\n",
       " Dahomey,\n",
       " Modern Africa,\n",
       " West Africa,\n",
       " Central Africa,\n",
       " Nigeria,\n",
       " South Africa,\n",
       " Ethiopia,\n",
       " Umor,\n",
       " West Africa,\n",
       " the Northern Province,\n",
       " Nyasaland,\n",
       " Benin City,\n",
       " East Africa,\n",
       " Central Africa,\n",
       " West Africa,\n",
       " Devinettes,\n",
       " Sudan Village Following Locust Visitation,\n",
       " the Netherlands East Indies,\n",
       " Northern Nigeria,\n",
       " Lugbara,\n",
       " Vengeance,\n",
       " West Africa,\n",
       " East Africa,\n",
       " South Africa,\n",
       " East Africa,\n",
       " Nineteenth Centuries,\n",
       " North-Eastern Rhodesia,\n",
       " Gambia,\n",
       " Lake Chad,\n",
       " South Africa,\n",
       " Nigeria,\n",
       " SOUDAN OCCIDENTAL,\n",
       " East Africa,\n",
       " Ghana,\n",
       " Kenya,\n",
       " the Netherlands East Indies,\n",
       " Equatorial Africa,\n",
       " West Africa,\n",
       " East Africa,\n",
       " Sukumaland,\n",
       " the Upper Nile,\n",
       " Mendi,\n",
       " East London,\n",
       " Cape Province,\n",
       " Freetown,\n",
       " Sierra Leone,\n",
       " Yoruba,\n",
       " Zaria,\n",
       " Northern Nigeria,\n",
       " Nigeria,\n",
       " Owerri Province,\n",
       " Nigeria,\n",
       " West Africa,\n",
       " East Central Africa,\n",
       " Kenya,\n",
       " Barolong,\n",
       " South Africa,\n",
       " Congo,\n",
       " East Africa,\n",
       " Sukumaland,\n",
       " Bambara,\n",
       " the Kingdom of Kongo,\n",
       " Nigeria,\n",
       " the Soviet Union,\n",
       " Kanuri,\n",
       " Congo,\n",
       " Colonies,\n",
       " DU,\n",
       " Ghana,\n",
       " Nsaw,\n",
       " East Africa,\n",
       " Cokwe,\n",
       " Johannesburg,\n",
       " the Upper Nile,\n",
       " Melanesia,\n",
       " Palestine,\n",
       " Yoruba,\n",
       " Dahomey,\n",
       " Maximes,\n",
       " Poland,\n",
       " Central Africa,\n",
       " West Africa,\n",
       " Anthropological Field-Worker,\n",
       " West Africa,\n",
       " East Africa,\n",
       " Yoruba,\n",
       " Southern Nigeria,\n",
       " Uganda,\n",
       " MONGO,\n",
       " Colonies,\n",
       " Gambia,\n",
       " Senegal,\n",
       " Ethiopia,\n",
       " West Africa,\n",
       " Bemba,\n",
       " Eastern Africa,\n",
       " Ahnenkult,\n",
       " Kamerun,\n",
       " East Africa,\n",
       " Nigeria,\n",
       " Tikar Chiefdom,\n",
       " Dogon,\n",
       " Clan,\n",
       " Chieftainship,\n",
       " Yoruba,\n",
       " Togoland,\n",
       " Yoruba,\n",
       " Bemba,\n",
       " Somaliland,\n",
       " Häuptlingswürde,\n",
       " Proverb,\n",
       " Kenya,\n",
       " Nigeria,\n",
       " Katanga,\n",
       " Northern Nigeria,\n",
       " Congo,\n",
       " India,\n",
       " Northern Nigeria,\n",
       " Ghana,\n",
       " Morocco,\n",
       " Swaziland,\n",
       " Abyssinia,\n",
       " Dogon,\n",
       " Oberguinea,\n",
       " South Africa,\n",
       " Sudan,\n",
       " East Africa,\n",
       " West Africa,\n",
       " Dahomey,\n",
       " Modern Africa,\n",
       " West Africa,\n",
       " Central Africa,\n",
       " Nigeria,\n",
       " South Africa,\n",
       " Ethiopia,\n",
       " Umor,\n",
       " West Africa,\n",
       " the Northern Province,\n",
       " Nyasaland,\n",
       " Benin City,\n",
       " East Africa,\n",
       " Central Africa,\n",
       " West Africa,\n",
       " Devinettes,\n",
       " Sudan Village Following Locust Visitation,\n",
       " the Netherlands East Indies,\n",
       " Northern Nigeria,\n",
       " Lugbara,\n",
       " Vengeance,\n",
       " West Africa,\n",
       " East Africa,\n",
       " South Africa,\n",
       " East Africa,\n",
       " Nineteenth Centuries,\n",
       " North-Eastern Rhodesia,\n",
       " Gambia,\n",
       " Lake Chad,\n",
       " South Africa,\n",
       " Nigeria,\n",
       " SOUDAN OCCIDENTAL,\n",
       " East Africa,\n",
       " Ghana,\n",
       " Kenya,\n",
       " the Netherlands East Indies,\n",
       " Equatorial Africa,\n",
       " West Africa,\n",
       " East Africa,\n",
       " Sukumaland,\n",
       " the Upper Nile,\n",
       " Mendi,\n",
       " East London,\n",
       " Cape Province,\n",
       " Freetown,\n",
       " Sierra Leone,\n",
       " Yoruba,\n",
       " Zaria,\n",
       " Northern Nigeria,\n",
       " Nigeria,\n",
       " Owerri Province,\n",
       " Nigeria,\n",
       " West Africa,\n",
       " East Central Africa,\n",
       " Kenya,\n",
       " Barolong,\n",
       " South Africa,\n",
       " Congo,\n",
       " East Africa,\n",
       " Sukumaland,\n",
       " Bambara,\n",
       " the Kingdom of Kongo,\n",
       " Nigeria,\n",
       " the Soviet Union,\n",
       " Kanuri,\n",
       " Congo,\n",
       " Colonies,\n",
       " DU,\n",
       " Ghana,\n",
       " Nsaw,\n",
       " East Africa,\n",
       " Cokwe,\n",
       " Johannesburg,\n",
       " the Upper Nile,\n",
       " Melanesia,\n",
       " Palestine,\n",
       " Yoruba,\n",
       " Dahomey,\n",
       " Maximes,\n",
       " Poland,\n",
       " Central Africa,\n",
       " West Africa,\n",
       " Anthropological Field-Worker,\n",
       " West Africa,\n",
       " East Africa,\n",
       " Yoruba,\n",
       " Southern Nigeria,\n",
       " Uganda,\n",
       " MONGO,\n",
       " Colonies,\n",
       " Gambia,\n",
       " Senegal,\n",
       " Ethiopia,\n",
       " West Africa,\n",
       " Bemba,\n",
       " Eastern Africa,\n",
       " Ahnenkult,\n",
       " Kamerun,\n",
       " East Africa,\n",
       " Nigeria,\n",
       " Tikar Chiefdom,\n",
       " Dogon,\n",
       " Clan,\n",
       " Chieftainship,\n",
       " Yoruba,\n",
       " Togoland,\n",
       " Yoruba,\n",
       " Bemba,\n",
       " Somaliland,\n",
       " Häuptlingswürde,\n",
       " Proverb,\n",
       " Kenya,\n",
       " Nigeria,\n",
       " Katanga,\n",
       " Northern Nigeria,\n",
       " Congo,\n",
       " India,\n",
       " Northern Nigeria,\n",
       " Ghana,\n",
       " Morocco,\n",
       " Swaziland,\n",
       " Abyssinia,\n",
       " Dogon,\n",
       " Oberguinea,\n",
       " South Africa,\n",
       " Sudan,\n",
       " East Africa,\n",
       " West Africa,\n",
       " Dahomey,\n",
       " Modern Africa,\n",
       " West Africa,\n",
       " Central Africa,\n",
       " Nigeria,\n",
       " South Africa,\n",
       " Ethiopia,\n",
       " Umor,\n",
       " West Africa,\n",
       " the Northern Province,\n",
       " Nyasaland,\n",
       " Benin City,\n",
       " East Africa,\n",
       " Central Africa,\n",
       " West Africa,\n",
       " Devinettes,\n",
       " Sudan Village Following Locust Visitation,\n",
       " the Netherlands East Indies,\n",
       " Northern Nigeria,\n",
       " Lugbara,\n",
       " Vengeance,\n",
       " West Africa,\n",
       " East Africa,\n",
       " South Africa,\n",
       " East Africa,\n",
       " Nineteenth Centuries,\n",
       " North-Eastern Rhodesia,\n",
       " Gambia,\n",
       " Lake Chad,\n",
       " South Africa,\n",
       " Nigeria,\n",
       " SOUDAN OCCIDENTAL,\n",
       " East Africa,\n",
       " Ghana,\n",
       " Kenya,\n",
       " the Netherlands East Indies,\n",
       " Equatorial Africa,\n",
       " West Africa,\n",
       " East Africa,\n",
       " Sukumaland,\n",
       " the Upper Nile,\n",
       " Mendi,\n",
       " East London,\n",
       " Cape Province,\n",
       " Freetown,\n",
       " Sierra Leone,\n",
       " Yoruba,\n",
       " Zaria,\n",
       " Northern Nigeria,\n",
       " Nigeria,\n",
       " Owerri Province,\n",
       " Nigeria,\n",
       " West Africa,\n",
       " East Central Africa,\n",
       " Kenya,\n",
       " ...]"
      ]
     },
     "execution_count": 88,
     "metadata": {},
     "output_type": "execute_result"
    }
   ],
   "source": [
    "# Exibe a lista\n",
    "\n",
    "locations"
   ]
  },
  {
   "cell_type": "markdown",
   "metadata": {},
   "source": [
    "- Apesar da alta precisão do modelo ([0.85](https://spacy.io/models/en) estimado de precisão de entidades nomeadas), alguns resultados não correspondem à pesquisa de termos relacionados à entidades geográficas, como os resultados 'Anthropological Field-Worker' e 'Colonies', 'Nineteenth Centuries' ou 'Yoruba' (que se refere à uma língua e a um grupo etnolinguístico e não a um local).  \n",
    "- Utilizamos na pesquisa as categorias 'GPE'(Entidades geopolíticas) e 'LOC' (localizações) para filtrar os resultados que mencionam entidades geográficas."
   ]
  },
  {
   "cell_type": "code",
   "execution_count": 91,
   "metadata": {},
   "outputs": [],
   "source": [
    "# Cria um dataframe a partir do arquivo .csv criado com a lista de localizações\n",
    "\n",
    "loc = pd.read_csv('csv/loc.csv')"
   ]
  },
  {
   "cell_type": "code",
   "execution_count": 92,
   "metadata": {},
   "outputs": [
    {
     "data": {
      "text/html": [
       "<div>\n",
       "<style scoped>\n",
       "    .dataframe tbody tr th:only-of-type {\n",
       "        vertical-align: middle;\n",
       "    }\n",
       "\n",
       "    .dataframe tbody tr th {\n",
       "        vertical-align: top;\n",
       "    }\n",
       "\n",
       "    .dataframe thead th {\n",
       "        text-align: right;\n",
       "    }\n",
       "</style>\n",
       "<table border=\"1\" class=\"dataframe\">\n",
       "  <thead>\n",
       "    <tr style=\"text-align: right;\">\n",
       "      <th></th>\n",
       "      <th>Localizações</th>\n",
       "      <th>Unnamed: 1</th>\n",
       "    </tr>\n",
       "  </thead>\n",
       "  <tbody>\n",
       "    <tr>\n",
       "      <th>0</th>\n",
       "      <td>Poland</td>\n",
       "      <td>NaN</td>\n",
       "    </tr>\n",
       "    <tr>\n",
       "      <th>1</th>\n",
       "      <td>Central Africa</td>\n",
       "      <td>NaN</td>\n",
       "    </tr>\n",
       "    <tr>\n",
       "      <th>2</th>\n",
       "      <td>West Africa</td>\n",
       "      <td>NaN</td>\n",
       "    </tr>\n",
       "    <tr>\n",
       "      <th>3</th>\n",
       "      <td>Anthropological Field-Worker</td>\n",
       "      <td>NaN</td>\n",
       "    </tr>\n",
       "    <tr>\n",
       "      <th>4</th>\n",
       "      <td>West Africa</td>\n",
       "      <td>NaN</td>\n",
       "    </tr>\n",
       "    <tr>\n",
       "      <th>...</th>\n",
       "      <td>...</td>\n",
       "      <td>...</td>\n",
       "    </tr>\n",
       "    <tr>\n",
       "      <th>123</th>\n",
       "      <td>Melanesia</td>\n",
       "      <td>NaN</td>\n",
       "    </tr>\n",
       "    <tr>\n",
       "      <th>124</th>\n",
       "      <td>Palestine</td>\n",
       "      <td>NaN</td>\n",
       "    </tr>\n",
       "    <tr>\n",
       "      <th>125</th>\n",
       "      <td>Yoruba</td>\n",
       "      <td>NaN</td>\n",
       "    </tr>\n",
       "    <tr>\n",
       "      <th>126</th>\n",
       "      <td>Dahomey</td>\n",
       "      <td>NaN</td>\n",
       "    </tr>\n",
       "    <tr>\n",
       "      <th>127</th>\n",
       "      <td>Maximes</td>\n",
       "      <td>NaN</td>\n",
       "    </tr>\n",
       "  </tbody>\n",
       "</table>\n",
       "<p>128 rows × 2 columns</p>\n",
       "</div>"
      ],
      "text/plain": [
       "                      Localizações  Unnamed: 1\n",
       "0                           Poland         NaN\n",
       "1                   Central Africa         NaN\n",
       "2                      West Africa         NaN\n",
       "3     Anthropological Field-Worker         NaN\n",
       "4                      West Africa         NaN\n",
       "..                             ...         ...\n",
       "123                      Melanesia         NaN\n",
       "124                      Palestine         NaN\n",
       "125                         Yoruba         NaN\n",
       "126                        Dahomey         NaN\n",
       "127                        Maximes         NaN\n",
       "\n",
       "[128 rows x 2 columns]"
      ]
     },
     "execution_count": 92,
     "metadata": {},
     "output_type": "execute_result"
    }
   ],
   "source": [
    "# Exibe o dataframe criado com a lista de localizações \n",
    "loc"
   ]
  },
  {
   "cell_type": "code",
   "execution_count": 93,
   "metadata": {},
   "outputs": [],
   "source": [
    "# Exclui a coluna desnecessária do dataframe\n",
    "\n",
    "loc = loc.drop(columns='Unnamed: 1')"
   ]
  },
  {
   "cell_type": "code",
   "execution_count": 94,
   "metadata": {},
   "outputs": [
    {
     "data": {
      "text/html": [
       "<div>\n",
       "<style scoped>\n",
       "    .dataframe tbody tr th:only-of-type {\n",
       "        vertical-align: middle;\n",
       "    }\n",
       "\n",
       "    .dataframe tbody tr th {\n",
       "        vertical-align: top;\n",
       "    }\n",
       "\n",
       "    .dataframe thead th {\n",
       "        text-align: right;\n",
       "    }\n",
       "</style>\n",
       "<table border=\"1\" class=\"dataframe\">\n",
       "  <thead>\n",
       "    <tr style=\"text-align: right;\">\n",
       "      <th></th>\n",
       "      <th>Localizações</th>\n",
       "      <th>total</th>\n",
       "    </tr>\n",
       "  </thead>\n",
       "  <tbody>\n",
       "    <tr>\n",
       "      <th>0</th>\n",
       "      <td>West Africa</td>\n",
       "      <td>10</td>\n",
       "    </tr>\n",
       "    <tr>\n",
       "      <th>1</th>\n",
       "      <td>East Africa</td>\n",
       "      <td>10</td>\n",
       "    </tr>\n",
       "    <tr>\n",
       "      <th>2</th>\n",
       "      <td>Nigeria</td>\n",
       "      <td>7</td>\n",
       "    </tr>\n",
       "    <tr>\n",
       "      <th>3</th>\n",
       "      <td>Yoruba</td>\n",
       "      <td>5</td>\n",
       "    </tr>\n",
       "    <tr>\n",
       "      <th>4</th>\n",
       "      <td>South Africa</td>\n",
       "      <td>5</td>\n",
       "    </tr>\n",
       "    <tr>\n",
       "      <th>...</th>\n",
       "      <td>...</td>\n",
       "      <td>...</td>\n",
       "    </tr>\n",
       "    <tr>\n",
       "      <th>41</th>\n",
       "      <td>Johannesburg</td>\n",
       "      <td>1</td>\n",
       "    </tr>\n",
       "    <tr>\n",
       "      <th>42</th>\n",
       "      <td>Melanesia</td>\n",
       "      <td>1</td>\n",
       "    </tr>\n",
       "    <tr>\n",
       "      <th>43</th>\n",
       "      <td>Palestine</td>\n",
       "      <td>1</td>\n",
       "    </tr>\n",
       "    <tr>\n",
       "      <th>44</th>\n",
       "      <td>Lugbara</td>\n",
       "      <td>1</td>\n",
       "    </tr>\n",
       "    <tr>\n",
       "      <th>75</th>\n",
       "      <td>Maximes</td>\n",
       "      <td>1</td>\n",
       "    </tr>\n",
       "  </tbody>\n",
       "</table>\n",
       "<p>76 rows × 2 columns</p>\n",
       "</div>"
      ],
      "text/plain": [
       "     Localizações  total\n",
       "0     West Africa     10\n",
       "1     East Africa     10\n",
       "2         Nigeria      7\n",
       "3          Yoruba      5\n",
       "4    South Africa      5\n",
       "..            ...    ...\n",
       "41   Johannesburg      1\n",
       "42      Melanesia      1\n",
       "43      Palestine      1\n",
       "44        Lugbara      1\n",
       "75        Maximes      1\n",
       "\n",
       "[76 rows x 2 columns]"
      ]
     },
     "execution_count": 94,
     "metadata": {},
     "output_type": "execute_result"
    }
   ],
   "source": [
    "# Cria um dataframe com a frequência das entidades geográficas identificadas\n",
    "\n",
    "df_loc_freq = loc['Localizações'].value_counts()\\\n",
    "    .reset_index(name='total')\\\n",
    "    .rename(columns={'index':'Localizações'})\\\n",
    "    .sort_values(by='total', ascending=False)\n",
    "    \n",
    "# Exibe o dataframe\n",
    "\n",
    "df_loc_freq"
   ]
  },
  {
   "cell_type": "code",
   "execution_count": 95,
   "metadata": {},
   "outputs": [],
   "source": [
    "# Cria um gráfico com a frequência das entidades geográficas mencionadas nos títulos dos artigos\n",
    "\n",
    "fig4 = px.bar(df_loc_freq.head(20), x= 'Localizações', y='total')\n"
   ]
  },
  {
   "cell_type": "code",
   "execution_count": 96,
   "metadata": {},
   "outputs": [
    {
     "data": {
      "application/vnd.plotly.v1+json": {
       "config": {
        "plotlyServerURL": "https://plot.ly"
       },
       "data": [
        {
         "alignmentgroup": "True",
         "hoverlabel": {
          "namelength": 0
         },
         "hovertemplate": "<b>%{x}</b><br>Número de menções: %{y}",
         "legendgroup": "",
         "marker": {
          "color": "#636efa"
         },
         "name": "",
         "offsetgroup": "",
         "orientation": "v",
         "showlegend": false,
         "textposition": "auto",
         "type": "bar",
         "x": [
          " West Africa",
          " East Africa",
          " Nigeria",
          " Yoruba",
          " South Africa",
          " Northern Nigeria",
          " Central Africa",
          " Kenya",
          " Ghana",
          " Congo",
          " Dogon",
          " Dahomey",
          " Ethiopia",
          " Colonies",
          " Bemba",
          " the Upper Nile",
          " the Netherlands East Indies",
          " Sukumaland",
          " Gambia",
          " Kamerun"
         ],
         "xaxis": "x",
         "y": [
          10,
          10,
          7,
          5,
          5,
          4,
          3,
          3,
          3,
          3,
          2,
          2,
          2,
          2,
          2,
          2,
          2,
          2,
          2,
          1
         ],
         "yaxis": "y"
        }
       ],
       "layout": {
        "barmode": "relative",
        "legend": {
         "tracegroupgap": 0
        },
        "margin": {
         "t": 60
        },
        "template": {
         "data": {
          "bar": [
           {
            "error_x": {
             "color": "#f2f5fa"
            },
            "error_y": {
             "color": "#f2f5fa"
            },
            "marker": {
             "line": {
              "color": "rgb(17,17,17)",
              "width": 0.5
             }
            },
            "type": "bar"
           }
          ],
          "barpolar": [
           {
            "marker": {
             "line": {
              "color": "rgb(17,17,17)",
              "width": 0.5
             }
            },
            "type": "barpolar"
           }
          ],
          "carpet": [
           {
            "aaxis": {
             "endlinecolor": "#A2B1C6",
             "gridcolor": "#506784",
             "linecolor": "#506784",
             "minorgridcolor": "#506784",
             "startlinecolor": "#A2B1C6"
            },
            "baxis": {
             "endlinecolor": "#A2B1C6",
             "gridcolor": "#506784",
             "linecolor": "#506784",
             "minorgridcolor": "#506784",
             "startlinecolor": "#A2B1C6"
            },
            "type": "carpet"
           }
          ],
          "choropleth": [
           {
            "colorbar": {
             "outlinewidth": 0,
             "ticks": ""
            },
            "type": "choropleth"
           }
          ],
          "contour": [
           {
            "colorbar": {
             "outlinewidth": 0,
             "ticks": ""
            },
            "colorscale": [
             [
              0,
              "#0d0887"
             ],
             [
              0.1111111111111111,
              "#46039f"
             ],
             [
              0.2222222222222222,
              "#7201a8"
             ],
             [
              0.3333333333333333,
              "#9c179e"
             ],
             [
              0.4444444444444444,
              "#bd3786"
             ],
             [
              0.5555555555555556,
              "#d8576b"
             ],
             [
              0.6666666666666666,
              "#ed7953"
             ],
             [
              0.7777777777777778,
              "#fb9f3a"
             ],
             [
              0.8888888888888888,
              "#fdca26"
             ],
             [
              1,
              "#f0f921"
             ]
            ],
            "type": "contour"
           }
          ],
          "contourcarpet": [
           {
            "colorbar": {
             "outlinewidth": 0,
             "ticks": ""
            },
            "type": "contourcarpet"
           }
          ],
          "heatmap": [
           {
            "colorbar": {
             "outlinewidth": 0,
             "ticks": ""
            },
            "colorscale": [
             [
              0,
              "#0d0887"
             ],
             [
              0.1111111111111111,
              "#46039f"
             ],
             [
              0.2222222222222222,
              "#7201a8"
             ],
             [
              0.3333333333333333,
              "#9c179e"
             ],
             [
              0.4444444444444444,
              "#bd3786"
             ],
             [
              0.5555555555555556,
              "#d8576b"
             ],
             [
              0.6666666666666666,
              "#ed7953"
             ],
             [
              0.7777777777777778,
              "#fb9f3a"
             ],
             [
              0.8888888888888888,
              "#fdca26"
             ],
             [
              1,
              "#f0f921"
             ]
            ],
            "type": "heatmap"
           }
          ],
          "heatmapgl": [
           {
            "colorbar": {
             "outlinewidth": 0,
             "ticks": ""
            },
            "colorscale": [
             [
              0,
              "#0d0887"
             ],
             [
              0.1111111111111111,
              "#46039f"
             ],
             [
              0.2222222222222222,
              "#7201a8"
             ],
             [
              0.3333333333333333,
              "#9c179e"
             ],
             [
              0.4444444444444444,
              "#bd3786"
             ],
             [
              0.5555555555555556,
              "#d8576b"
             ],
             [
              0.6666666666666666,
              "#ed7953"
             ],
             [
              0.7777777777777778,
              "#fb9f3a"
             ],
             [
              0.8888888888888888,
              "#fdca26"
             ],
             [
              1,
              "#f0f921"
             ]
            ],
            "type": "heatmapgl"
           }
          ],
          "histogram": [
           {
            "marker": {
             "colorbar": {
              "outlinewidth": 0,
              "ticks": ""
             }
            },
            "type": "histogram"
           }
          ],
          "histogram2d": [
           {
            "colorbar": {
             "outlinewidth": 0,
             "ticks": ""
            },
            "colorscale": [
             [
              0,
              "#0d0887"
             ],
             [
              0.1111111111111111,
              "#46039f"
             ],
             [
              0.2222222222222222,
              "#7201a8"
             ],
             [
              0.3333333333333333,
              "#9c179e"
             ],
             [
              0.4444444444444444,
              "#bd3786"
             ],
             [
              0.5555555555555556,
              "#d8576b"
             ],
             [
              0.6666666666666666,
              "#ed7953"
             ],
             [
              0.7777777777777778,
              "#fb9f3a"
             ],
             [
              0.8888888888888888,
              "#fdca26"
             ],
             [
              1,
              "#f0f921"
             ]
            ],
            "type": "histogram2d"
           }
          ],
          "histogram2dcontour": [
           {
            "colorbar": {
             "outlinewidth": 0,
             "ticks": ""
            },
            "colorscale": [
             [
              0,
              "#0d0887"
             ],
             [
              0.1111111111111111,
              "#46039f"
             ],
             [
              0.2222222222222222,
              "#7201a8"
             ],
             [
              0.3333333333333333,
              "#9c179e"
             ],
             [
              0.4444444444444444,
              "#bd3786"
             ],
             [
              0.5555555555555556,
              "#d8576b"
             ],
             [
              0.6666666666666666,
              "#ed7953"
             ],
             [
              0.7777777777777778,
              "#fb9f3a"
             ],
             [
              0.8888888888888888,
              "#fdca26"
             ],
             [
              1,
              "#f0f921"
             ]
            ],
            "type": "histogram2dcontour"
           }
          ],
          "mesh3d": [
           {
            "colorbar": {
             "outlinewidth": 0,
             "ticks": ""
            },
            "type": "mesh3d"
           }
          ],
          "parcoords": [
           {
            "line": {
             "colorbar": {
              "outlinewidth": 0,
              "ticks": ""
             }
            },
            "type": "parcoords"
           }
          ],
          "pie": [
           {
            "automargin": true,
            "type": "pie"
           }
          ],
          "scatter": [
           {
            "marker": {
             "line": {
              "color": "#283442"
             }
            },
            "type": "scatter"
           }
          ],
          "scatter3d": [
           {
            "line": {
             "colorbar": {
              "outlinewidth": 0,
              "ticks": ""
             }
            },
            "marker": {
             "colorbar": {
              "outlinewidth": 0,
              "ticks": ""
             }
            },
            "type": "scatter3d"
           }
          ],
          "scattercarpet": [
           {
            "marker": {
             "colorbar": {
              "outlinewidth": 0,
              "ticks": ""
             }
            },
            "type": "scattercarpet"
           }
          ],
          "scattergeo": [
           {
            "marker": {
             "colorbar": {
              "outlinewidth": 0,
              "ticks": ""
             }
            },
            "type": "scattergeo"
           }
          ],
          "scattergl": [
           {
            "marker": {
             "line": {
              "color": "#283442"
             }
            },
            "type": "scattergl"
           }
          ],
          "scattermapbox": [
           {
            "marker": {
             "colorbar": {
              "outlinewidth": 0,
              "ticks": ""
             }
            },
            "type": "scattermapbox"
           }
          ],
          "scatterpolar": [
           {
            "marker": {
             "colorbar": {
              "outlinewidth": 0,
              "ticks": ""
             }
            },
            "type": "scatterpolar"
           }
          ],
          "scatterpolargl": [
           {
            "marker": {
             "colorbar": {
              "outlinewidth": 0,
              "ticks": ""
             }
            },
            "type": "scatterpolargl"
           }
          ],
          "scatterternary": [
           {
            "marker": {
             "colorbar": {
              "outlinewidth": 0,
              "ticks": ""
             }
            },
            "type": "scatterternary"
           }
          ],
          "surface": [
           {
            "colorbar": {
             "outlinewidth": 0,
             "ticks": ""
            },
            "colorscale": [
             [
              0,
              "#0d0887"
             ],
             [
              0.1111111111111111,
              "#46039f"
             ],
             [
              0.2222222222222222,
              "#7201a8"
             ],
             [
              0.3333333333333333,
              "#9c179e"
             ],
             [
              0.4444444444444444,
              "#bd3786"
             ],
             [
              0.5555555555555556,
              "#d8576b"
             ],
             [
              0.6666666666666666,
              "#ed7953"
             ],
             [
              0.7777777777777778,
              "#fb9f3a"
             ],
             [
              0.8888888888888888,
              "#fdca26"
             ],
             [
              1,
              "#f0f921"
             ]
            ],
            "type": "surface"
           }
          ],
          "table": [
           {
            "cells": {
             "fill": {
              "color": "#506784"
             },
             "line": {
              "color": "rgb(17,17,17)"
             }
            },
            "header": {
             "fill": {
              "color": "#2a3f5f"
             },
             "line": {
              "color": "rgb(17,17,17)"
             }
            },
            "type": "table"
           }
          ]
         },
         "layout": {
          "annotationdefaults": {
           "arrowcolor": "#f2f5fa",
           "arrowhead": 0,
           "arrowwidth": 1
          },
          "coloraxis": {
           "colorbar": {
            "outlinewidth": 0,
            "ticks": ""
           }
          },
          "colorscale": {
           "diverging": [
            [
             0,
             "#8e0152"
            ],
            [
             0.1,
             "#c51b7d"
            ],
            [
             0.2,
             "#de77ae"
            ],
            [
             0.3,
             "#f1b6da"
            ],
            [
             0.4,
             "#fde0ef"
            ],
            [
             0.5,
             "#f7f7f7"
            ],
            [
             0.6,
             "#e6f5d0"
            ],
            [
             0.7,
             "#b8e186"
            ],
            [
             0.8,
             "#7fbc41"
            ],
            [
             0.9,
             "#4d9221"
            ],
            [
             1,
             "#276419"
            ]
           ],
           "sequential": [
            [
             0,
             "#0d0887"
            ],
            [
             0.1111111111111111,
             "#46039f"
            ],
            [
             0.2222222222222222,
             "#7201a8"
            ],
            [
             0.3333333333333333,
             "#9c179e"
            ],
            [
             0.4444444444444444,
             "#bd3786"
            ],
            [
             0.5555555555555556,
             "#d8576b"
            ],
            [
             0.6666666666666666,
             "#ed7953"
            ],
            [
             0.7777777777777778,
             "#fb9f3a"
            ],
            [
             0.8888888888888888,
             "#fdca26"
            ],
            [
             1,
             "#f0f921"
            ]
           ],
           "sequentialminus": [
            [
             0,
             "#0d0887"
            ],
            [
             0.1111111111111111,
             "#46039f"
            ],
            [
             0.2222222222222222,
             "#7201a8"
            ],
            [
             0.3333333333333333,
             "#9c179e"
            ],
            [
             0.4444444444444444,
             "#bd3786"
            ],
            [
             0.5555555555555556,
             "#d8576b"
            ],
            [
             0.6666666666666666,
             "#ed7953"
            ],
            [
             0.7777777777777778,
             "#fb9f3a"
            ],
            [
             0.8888888888888888,
             "#fdca26"
            ],
            [
             1,
             "#f0f921"
            ]
           ]
          },
          "colorway": [
           "#636efa",
           "#EF553B",
           "#00cc96",
           "#ab63fa",
           "#FFA15A",
           "#19d3f3",
           "#FF6692",
           "#B6E880",
           "#FF97FF",
           "#FECB52"
          ],
          "font": {
           "color": "#f2f5fa"
          },
          "geo": {
           "bgcolor": "rgb(17,17,17)",
           "lakecolor": "rgb(17,17,17)",
           "landcolor": "rgb(17,17,17)",
           "showlakes": true,
           "showland": true,
           "subunitcolor": "#506784"
          },
          "hoverlabel": {
           "align": "left"
          },
          "hovermode": "closest",
          "mapbox": {
           "style": "dark"
          },
          "paper_bgcolor": "rgb(17,17,17)",
          "plot_bgcolor": "rgb(17,17,17)",
          "polar": {
           "angularaxis": {
            "gridcolor": "#506784",
            "linecolor": "#506784",
            "ticks": ""
           },
           "bgcolor": "rgb(17,17,17)",
           "radialaxis": {
            "gridcolor": "#506784",
            "linecolor": "#506784",
            "ticks": ""
           }
          },
          "scene": {
           "xaxis": {
            "backgroundcolor": "rgb(17,17,17)",
            "gridcolor": "#506784",
            "gridwidth": 2,
            "linecolor": "#506784",
            "showbackground": true,
            "ticks": "",
            "zerolinecolor": "#C8D4E3"
           },
           "yaxis": {
            "backgroundcolor": "rgb(17,17,17)",
            "gridcolor": "#506784",
            "gridwidth": 2,
            "linecolor": "#506784",
            "showbackground": true,
            "ticks": "",
            "zerolinecolor": "#C8D4E3"
           },
           "zaxis": {
            "backgroundcolor": "rgb(17,17,17)",
            "gridcolor": "#506784",
            "gridwidth": 2,
            "linecolor": "#506784",
            "showbackground": true,
            "ticks": "",
            "zerolinecolor": "#C8D4E3"
           }
          },
          "shapedefaults": {
           "line": {
            "color": "#f2f5fa"
           }
          },
          "sliderdefaults": {
           "bgcolor": "#C8D4E3",
           "bordercolor": "rgb(17,17,17)",
           "borderwidth": 1,
           "tickwidth": 0
          },
          "ternary": {
           "aaxis": {
            "gridcolor": "#506784",
            "linecolor": "#506784",
            "ticks": ""
           },
           "baxis": {
            "gridcolor": "#506784",
            "linecolor": "#506784",
            "ticks": ""
           },
           "bgcolor": "rgb(17,17,17)",
           "caxis": {
            "gridcolor": "#506784",
            "linecolor": "#506784",
            "ticks": ""
           }
          },
          "title": {
           "x": 0.05
          },
          "updatemenudefaults": {
           "bgcolor": "#506784",
           "borderwidth": 0
          },
          "xaxis": {
           "automargin": true,
           "gridcolor": "#283442",
           "linecolor": "#506784",
           "ticks": "",
           "title": {
            "standoff": 15
           },
           "zerolinecolor": "#283442",
           "zerolinewidth": 2
          },
          "yaxis": {
           "automargin": true,
           "gridcolor": "#283442",
           "linecolor": "#506784",
           "ticks": "",
           "title": {
            "standoff": 15
           },
           "zerolinecolor": "#283442",
           "zerolinewidth": 2
          }
         }
        },
        "title": {
         "text": "<b>Número de menções a entidades geográficas nos títulos dos artigos</b>"
        },
        "xaxis": {
         "anchor": "y",
         "domain": [
          0,
          1
         ],
         "title": {
          "text": "Entidades Geográficas"
         }
        },
        "yaxis": {
         "anchor": "x",
         "domain": [
          0,
          1
         ],
         "title": {
          "text": "Total de menções"
         }
        }
       }
      }
     },
     "metadata": {},
     "output_type": "display_data"
    }
   ],
   "source": [
    "# Configura o layout do gráfico\n",
    "\n",
    "fig4.update_layout(\n",
    "    title='<b>Número de menções a entidades geográficas nos títulos dos artigos</b>',\n",
    "    xaxis_title='Entidades Geográficas',\n",
    "    yaxis_title='Total de menções',\n",
    "    template = 'plotly_dark'\n",
    ")\n",
    "\n",
    "# Configura o traçado\n",
    "\n",
    "fig4.update_traces(\n",
    "    hovertemplate='<b>%{x}</b><br>Número de menções: %{y}'\n",
    ")\n",
    "\n",
    "#Exibe o gráfico \n",
    "\n",
    "fig4.show()"
   ]
  },
  {
   "cell_type": "markdown",
   "metadata": {},
   "source": [
    "## Exportação da Visualização dos Dados"
   ]
  },
  {
   "cell_type": "code",
   "execution_count": 97,
   "metadata": {},
   "outputs": [],
   "source": [
    "# Salva os gráficos em .html\n",
    "\n",
    "fig.write_html('graficos/fig.html')\n",
    "fig2.write_html('graficos/fig2.html')\n",
    "fig3.write_html('graficos/fig3.html')\n",
    "fig4.write_html('graficos/fig4.html')\n"
   ]
  }
 ],
 "metadata": {
  "interpreter": {
   "hash": "916dbcbb3f70747c44a77c7bcd40155683ae19c65e1c03b4aa3499c5328201f1"
  },
  "kernelspec": {
   "display_name": "Python 3 (ipykernel)",
   "language": "python",
   "name": "python3"
  },
  "language_info": {
   "codemirror_mode": {
    "name": "ipython",
    "version": 3
   },
   "file_extension": ".py",
   "mimetype": "text/x-python",
   "name": "python",
   "nbconvert_exporter": "python",
   "pygments_lexer": "ipython3",
   "version": "3.8.10"
  }
 },
 "nbformat": 4,
 "nbformat_minor": 2
}
