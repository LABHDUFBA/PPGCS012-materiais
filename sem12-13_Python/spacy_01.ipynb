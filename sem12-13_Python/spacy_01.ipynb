{
 "cells": [
  {
   "cell_type": "markdown",
   "metadata": {},
   "source": [
    "# spaCy para análise de texto"
   ]
  },
  {
   "cell_type": "markdown",
   "metadata": {},
   "source": [
    "O spaCy é Framework de Processamento de linguagem natural (NLP).\n",
    "\n",
    "NLP = analisar linguagem humana através de um sistema de computador, tb chamado de linguística computacional.\n",
    "\n",
    "Com spaCy podemos analisar as estruturas textuais, classes gramaticais, reconhecer entidades, analisar as relações entre os termos, etc.\n"
   ]
  },
  {
   "cell_type": "markdown",
   "metadata": {},
   "source": [
    "O que vamos aprender hoje:\n",
    "\n",
    "* o que é o spaCy;\n",
    "* instalar, carregar modelos\n",
    "* Criar um `Doc Container`\n",
    "* Trabalhar com sentenças\n",
    "* Entender o que é um `token` e seus atributos\n",
    "* Aplicar reconhecimento de entidades."
   ]
  },
  {
   "cell_type": "markdown",
   "metadata": {},
   "source": [
    "## Instalando o spaCy"
   ]
  },
  {
   "cell_type": "code",
   "execution_count": null,
   "metadata": {},
   "outputs": [],
   "source": [
    "!pip install spacy"
   ]
  },
  {
   "cell_type": "markdown",
   "metadata": {},
   "source": [
    "## Carregando modelos"
   ]
  },
  {
   "cell_type": "code",
   "execution_count": 1,
   "metadata": {},
   "outputs": [],
   "source": [
    "import spacy\n"
   ]
  },
  {
   "cell_type": "code",
   "execution_count": 2,
   "metadata": {},
   "outputs": [],
   "source": [
    "nlp = spacy.load('pt_core_news_lg')"
   ]
  },
  {
   "cell_type": "markdown",
   "metadata": {},
   "source": [
    "### O que são esses modelos?\n",
    "\n",
    "Ver a [documentação do spaCy](https://spacy.io/models/pt)"
   ]
  },
  {
   "cell_type": "markdown",
   "metadata": {},
   "source": [
    "## Criar um `Doc Container`"
   ]
  },
  {
   "cell_type": "code",
   "execution_count": 3,
   "metadata": {},
   "outputs": [],
   "source": [
    "# ler o texto\n",
    "text = open('wlamyra.txt', 'r').read()"
   ]
  },
  {
   "cell_type": "code",
   "execution_count": 4,
   "metadata": {},
   "outputs": [],
   "source": [
    "# processar o texto\n",
    "doc = nlp(text)"
   ]
  },
  {
   "cell_type": "markdown",
   "metadata": {},
   "source": [
    "## Trabalhar com sentenças"
   ]
  },
  {
   "cell_type": "code",
   "execution_count": 5,
   "metadata": {},
   "outputs": [
    {
     "name": "stdout",
     "output_type": "stream",
     "text": [
      "['\\nWlamyra Albuquerque\\n\\nQuem anda com porcos...', 'Ou negacionismo vende anúncio?', '\\n30 de setembro de 2021\\n\\nQuem anda com porcos, farelo come.', 'Este é um velho dito popular ainda útil para quem lê na Folha textos que disparam paisagens negacionistas e ideias racistas e, ainda assim, têm espaço no jornal de maior circulação no país.', 'Não vou gastar um minuto deste dia ensolarado para debater a interpretação rasteira, rasa mesmo, que certo jornalista fez do escravismo e da agência de mulheres escravizadas no Brasil.', '\\n\\nÉ \"texto-farelo\".', 'Historiadoras estão acostumadas a sentar-se à mesa dos debates marcados por divergências bem articuladas e fundamentadas.', 'É banquete para nós que temos discordâncias fundadas em pesquisas científicas e em leituras honestas dos textos alheios.', '\\n\\nO artigo do colunista Leandro Narloch (\"Luxo e riqueza das \\'sinhás pretas\\' precisam inspirar o movimento negro\", 29/9) não passa de farelo à mesa para leitores que merecem algo melhor.', 'Deixemos de lado a fragilidade intelectual de quem não alcança a complexidade das sociedades escravistas.', 'As relações de poder e as estratégias de luta de homens, crianças e mulheres escravizadas eram sofisticadas e, por isso, inatingíveis para quem enxerga o mundo por lentes embaçadas pelo negacionismo.', '\\n\\nAos leitores da Folha peço licença para uma sugestão: informem-se sobre o passado escravista e o racismo estrutural em fontes confiáveis, científicas.', 'Aqui mesmo, volta e meia, são publicadas excelentes análises, em geral resultado de investimento público, produzida por historiadores e jornalistas negros e negras.', 'Muitos deles são militantes —nem por isso abandonam os critérios da ciência em nome das suas causas.', 'Basta que o leitor corra os dedos sobre a tela e poderá ler trabalhos, por exemplo, sobre a lei de 28 de setembro de 1871 (ventre livre) e intelectuais negros, como Machado de Assis, Luiz Gama, Carolina de Jesus e Lima Barreto.', '\\n\\nE como a história é dada a bons debates e banquetes de ideias, o que vale a pena é perguntar para os leitores da Folha se a estratégia, tão antiga quanto o papel impresso, de abrir espaço para \"texto-farelo\" na tentativa de atiçar debates rasteiros ainda vende anúncio.', 'A questão é saber se abrir espaço para teorias negacionistas que sustentam exclusões e genocídio num país enlutado por trás das máscaras arriadas até o queixo ainda é negócio que rende likes.', '\\n\\nQuando a escravidão já não podia ser sustentada pelos grandes senhores e a monarquia estava moribunda, José do Patrocínio, este sim jornalista talentoso, se recusou a sentar à mesa dos fazendeiros rendidos aos ideais republicanos, mas relutantes a aderir à defesa da abolição.', 'Já Luiz Gama foi mestre ao questionar os jornais que diziam defender o fim do escravismo, enquanto publicavam anúncios de recompensas por captura de escravos.', '\"Hipócritas\", dizia ele.', '\\n\\nEu sei, já deve haver alguém aí prestes a reivindicar a liberdade de opinião.', 'Certamente não estão entre estes os leitores sensatos o suficiente para desconfiar de lunáticos terraplanistas, jornalistas que negam a violência inerente ao escravismo e ao holocausto.', 'Quem defende essas aberrações só se arrisca ao sol porque a imprensa lhes oferece água fresca na sombra das suas opiniões toscas.', '\\n\\nA historiografia é feita de muito debates acalorados.', 'Não pensem os leitores que há consenso entre nós sobre o que foi o passado do escravismo, tampouco sobre a importância das ações dos escravizados para falência do escravismo, nem mesmo sobre as razões que levaram à abolição, em 1888.', '\\n\\nSim, a ciência também se alimenta de opiniões divergentes e diversos pontos de vistas.', 'Mas aqui estou falando sobre gente que, mesmo discordando, pactua em torno de critérios razoáveis de análise do passado.', 'Por isso, o que vale a pena é que a gente gaste o tempo avaliando porque os jornais ainda oferecem \"textos-farelo\" que desinformam, que divulgam falsas teorias, que pintam cenários distorcidos.', '\\n\\nJá sabemos, não é opinião: a terra é redonda, milhões de africanos foram escravizados nas Américas, milhões de judeus foram massacrados pelos nazistas, houve ditadura no Brasil, as populações indígenas seguem sendo dizimadas, a Amazônia está devastada, a cloroquina não previne a Covid, o Brasil é um país racista e leituras rasas da história não provocam debates que valham a pena.', '\\n\\nDecidam-se os leitores sobre a coerência e o compromisso com a ciência do maior jornal em circulação no país.', 'Não dá para defender a democracia e continuar publicando versões falseadas da escravidão apenas para adocicar o racismo e colecionar likes.', 'Decidam-se: quem anda com porcos, farelo come.']\n"
     ]
    }
   ],
   "source": [
    "# ver as sentenças do texto\n",
    "print([sent.text for sent in doc.sents])\n"
   ]
  },
  {
   "cell_type": "code",
   "execution_count": 6,
   "metadata": {},
   "outputs": [
    {
     "ename": "TypeError",
     "evalue": "'generator' object is not subscriptable",
     "output_type": "error",
     "traceback": [
      "\u001b[0;31m---------------------------------------------------------------------------\u001b[0m",
      "\u001b[0;31mTypeError\u001b[0m                                 Traceback (most recent call last)",
      "\u001b[0;32m/tmp/ipykernel_25939/2870507492.py\u001b[0m in \u001b[0;36m<module>\u001b[0;34m\u001b[0m\n\u001b[0;32m----> 1\u001b[0;31m \u001b[0mdoc\u001b[0m\u001b[0;34m.\u001b[0m\u001b[0msents\u001b[0m\u001b[0;34m[\u001b[0m\u001b[0;36m0\u001b[0m\u001b[0;34m]\u001b[0m\u001b[0;34m.\u001b[0m\u001b[0mtext\u001b[0m\u001b[0;34m\u001b[0m\u001b[0;34m\u001b[0m\u001b[0m\n\u001b[0m",
      "\u001b[0;31mTypeError\u001b[0m: 'generator' object is not subscriptable"
     ]
    }
   ],
   "source": [
    "doc.sents[0].text"
   ]
  },
  {
   "cell_type": "code",
   "execution_count": 13,
   "metadata": {},
   "outputs": [],
   "source": [
    "# transformar o objeto doc.sents em uma lista de strings\n",
    "sents = list(doc.sents)"
   ]
  },
  {
   "cell_type": "markdown",
   "metadata": {},
   "source": [
    "## Tokens"
   ]
  },
  {
   "cell_type": "code",
   "execution_count": 8,
   "metadata": {},
   "outputs": [
    {
     "name": "stdout",
     "output_type": "stream",
     "text": [
      "846\n",
      "4604\n"
     ]
    }
   ],
   "source": [
    "print (len(doc))\n",
    "print (len(text))"
   ]
  },
  {
   "cell_type": "code",
   "execution_count": 9,
   "metadata": {},
   "outputs": [
    {
     "name": "stdout",
     "output_type": "stream",
     "text": [
      "\n",
      "\n",
      "Wlamyra\n",
      "Albuquerque\n",
      "\n",
      "\n",
      "\n",
      "Quem\n",
      "anda\n",
      "com\n",
      "porcos\n",
      "...\n",
      "Ou\n"
     ]
    }
   ],
   "source": [
    "# imprimir os 10 primeiros tokens\n",
    "for token in doc[:10]:\n",
    "    print(token)"
   ]
  },
  {
   "cell_type": "code",
   "execution_count": 10,
   "metadata": {},
   "outputs": [
    {
     "name": "stdout",
     "output_type": "stream",
     "text": [
      "\n",
      "\n",
      "W\n",
      "l\n",
      "a\n",
      "m\n",
      "y\n",
      "r\n",
      "a\n",
      " \n",
      "A\n"
     ]
    }
   ],
   "source": [
    "# e se fizermos isso com a variável text?\n",
    "for token in text[:10]:\n",
    "    print (token)"
   ]
  },
  {
   "cell_type": "markdown",
   "metadata": {},
   "source": [
    "### Atributos de um token\n",
    "\n",
    "* .text\n",
    "* .head\n",
    "* .left_edge\n",
    "* .right_edge\n",
    "* .ent_type_\n",
    "* .iob_\n",
    "* .lemma_\n",
    "* .morph\n",
    "* .pos_\n",
    "* .dep_\n",
    "* .lang_\n"
   ]
  },
  {
   "cell_type": "code",
   "execution_count": 11,
   "metadata": {},
   "outputs": [
    {
     "name": "stdout",
     "output_type": "stream",
     "text": [
      "\n",
      "\n",
      "Wlamyra\n",
      "Albuquerque\n",
      "\n",
      "\n",
      "\n",
      "Quem\n",
      "anda\n",
      "com\n",
      "porcos\n",
      "...\n",
      "Ou\n"
     ]
    }
   ],
   "source": [
    "for token in doc[:10]:\n",
    "    print(token.text)"
   ]
  },
  {
   "cell_type": "code",
   "execution_count": 12,
   "metadata": {},
   "outputs": [
    {
     "data": {
      "text/plain": [
       "Não vou gastar um minuto deste dia ensolarado para debater a interpretação rasteira, rasa mesmo, que certo jornalista fez do escravismo e da agência de mulheres escravizadas no Brasil."
      ]
     },
     "execution_count": 12,
     "metadata": {},
     "output_type": "execute_result"
    }
   ],
   "source": [
    "# vamos utilizar um token da terceira sentença \n",
    "sent5 = sents[4]\n",
    "sent5"
   ]
  },
  {
   "cell_type": "code",
   "execution_count": 14,
   "metadata": {},
   "outputs": [
    {
     "data": {
      "text/plain": [
       "32"
      ]
     },
     "execution_count": 14,
     "metadata": {},
     "output_type": "execute_result"
    }
   ],
   "source": [
    "len(sent5)"
   ]
  },
  {
   "cell_type": "code",
   "execution_count": 15,
   "metadata": {},
   "outputs": [
    {
     "data": {
      "text/plain": [
       "Brasil"
      ]
     },
     "execution_count": 15,
     "metadata": {},
     "output_type": "execute_result"
    }
   ],
   "source": [
    "token1 = sent5[30]\n",
    "token1"
   ]
  },
  {
   "cell_type": "code",
   "execution_count": 16,
   "metadata": {},
   "outputs": [
    {
     "data": {
      "text/plain": [
       "escravizadas"
      ]
     },
     "execution_count": 16,
     "metadata": {},
     "output_type": "execute_result"
    }
   ],
   "source": [
    "# head = \"pai\" sintático do token1\n",
    "token1.head"
   ]
  },
  {
   "cell_type": "code",
   "execution_count": 17,
   "metadata": {},
   "outputs": [
    {
     "data": {
      "text/plain": [
       "385"
      ]
     },
     "execution_count": 17,
     "metadata": {},
     "output_type": "execute_result"
    }
   ],
   "source": [
    "# entity type do token1\n",
    "token1.ent_type"
   ]
  },
  {
   "cell_type": "code",
   "execution_count": 18,
   "metadata": {},
   "outputs": [
    {
     "data": {
      "text/plain": [
       "'LOC'"
      ]
     },
     "execution_count": 18,
     "metadata": {},
     "output_type": "execute_result"
    }
   ],
   "source": [
    "token1.ent_type_"
   ]
  },
  {
   "cell_type": "code",
   "execution_count": 19,
   "metadata": {},
   "outputs": [
    {
     "name": "stdout",
     "output_type": "stream",
     "text": [
      "escravizadas escravizar\n"
     ]
    }
   ],
   "source": [
    "# Lemma =  base lematizada do token1 (reduzir ao radical)\n",
    "token2 = sent5[28]\n",
    "print(token2.text, token2.lemma_)"
   ]
  },
  {
   "cell_type": "code",
   "execution_count": 20,
   "metadata": {},
   "outputs": [
    {
     "name": "stdout",
     "output_type": "stream",
     "text": [
      "escravizadas Gender=Fem|Number=Plur|VerbForm=Part\n"
     ]
    }
   ],
   "source": [
    "# Análise morfológica\n",
    "print(token2.text, token2.morph)"
   ]
  },
  {
   "cell_type": "code",
   "execution_count": 21,
   "metadata": {},
   "outputs": [
    {
     "name": "stdout",
     "output_type": "stream",
     "text": [
      "Brasil obl\n",
      "escravizadas acl\n"
     ]
    }
   ],
   "source": [
    "# Relação de dependência sintática\n",
    "print(token1.text, token1.dep_)\n",
    "print(token2.text, token2.dep_)"
   ]
  },
  {
   "cell_type": "code",
   "execution_count": 22,
   "metadata": {},
   "outputs": [
    {
     "name": "stdout",
     "output_type": "stream",
     "text": [
      "Brasil PROPN\n",
      "escravizadas VERB\n"
     ]
    }
   ],
   "source": [
    "# Classe gramatical = Part of Speech\n",
    "print(token1.text, token1.pos_)\n",
    "print(token2.text, token2.pos_)\n"
   ]
  },
  {
   "cell_type": "markdown",
   "metadata": {},
   "source": [
    "### Visualizar as relações entre tokens"
   ]
  },
  {
   "cell_type": "code",
   "execution_count": 23,
   "metadata": {},
   "outputs": [],
   "source": [
    "from spacy import displacy"
   ]
  },
  {
   "cell_type": "code",
   "execution_count": 24,
   "metadata": {},
   "outputs": [
    {
     "data": {
      "text/html": [
       "<span class=\"tex2jax_ignore\"><svg xmlns=\"http://www.w3.org/2000/svg\" xmlns:xlink=\"http://www.w3.org/1999/xlink\" xml:lang=\"pt\" id=\"db018f9af71b433ca615d0917bf1a16f-0\" class=\"displacy\" width=\"3240\" height=\"467.0\" direction=\"ltr\" style=\"max-width: none; height: 467.0px; color: #000000; background: #ffffff; font-family: Arial; direction: ltr\"><text class=\"displacy-token\" fill=\"currentColor\" text-anchor=\"middle\" y=\"377.0\"><tspan class=\"displacy-word\" fill=\"currentColor\" x=\"50\">Não</tspan><tspan class=\"displacy-tag\" dy=\"2em\" fill=\"currentColor\" x=\"50\">ADV</tspan></text><text class=\"displacy-token\" fill=\"currentColor\" text-anchor=\"middle\" y=\"377.0\"><tspan class=\"displacy-word\" fill=\"currentColor\" x=\"160\">vou</tspan><tspan class=\"displacy-tag\" dy=\"2em\" fill=\"currentColor\" x=\"160\">AUX</tspan></text><text class=\"displacy-token\" fill=\"currentColor\" text-anchor=\"middle\" y=\"377.0\"><tspan class=\"displacy-word\" fill=\"currentColor\" x=\"270\">gastar</tspan><tspan class=\"displacy-tag\" dy=\"2em\" fill=\"currentColor\" x=\"270\">VERB</tspan></text><text class=\"displacy-token\" fill=\"currentColor\" text-anchor=\"middle\" y=\"377.0\"><tspan class=\"displacy-word\" fill=\"currentColor\" x=\"380\">um</tspan><tspan class=\"displacy-tag\" dy=\"2em\" fill=\"currentColor\" x=\"380\">NUM</tspan></text><text class=\"displacy-token\" fill=\"currentColor\" text-anchor=\"middle\" y=\"377.0\"><tspan class=\"displacy-word\" fill=\"currentColor\" x=\"490\">minuto</tspan><tspan class=\"displacy-tag\" dy=\"2em\" fill=\"currentColor\" x=\"490\">NOUN</tspan></text><text class=\"displacy-token\" fill=\"currentColor\" text-anchor=\"middle\" y=\"377.0\"><tspan class=\"displacy-word\" fill=\"currentColor\" x=\"600\">deste</tspan><tspan class=\"displacy-tag\" dy=\"2em\" fill=\"currentColor\" x=\"600\">ADP</tspan></text><text class=\"displacy-token\" fill=\"currentColor\" text-anchor=\"middle\" y=\"377.0\"><tspan class=\"displacy-word\" fill=\"currentColor\" x=\"710\">dia</tspan><tspan class=\"displacy-tag\" dy=\"2em\" fill=\"currentColor\" x=\"710\">NOUN</tspan></text><text class=\"displacy-token\" fill=\"currentColor\" text-anchor=\"middle\" y=\"377.0\"><tspan class=\"displacy-word\" fill=\"currentColor\" x=\"820\">ensolarado</tspan><tspan class=\"displacy-tag\" dy=\"2em\" fill=\"currentColor\" x=\"820\">VERB</tspan></text><text class=\"displacy-token\" fill=\"currentColor\" text-anchor=\"middle\" y=\"377.0\"><tspan class=\"displacy-word\" fill=\"currentColor\" x=\"930\">para</tspan><tspan class=\"displacy-tag\" dy=\"2em\" fill=\"currentColor\" x=\"930\">SCONJ</tspan></text><text class=\"displacy-token\" fill=\"currentColor\" text-anchor=\"middle\" y=\"377.0\"><tspan class=\"displacy-word\" fill=\"currentColor\" x=\"1040\">debater</tspan><tspan class=\"displacy-tag\" dy=\"2em\" fill=\"currentColor\" x=\"1040\">VERB</tspan></text><text class=\"displacy-token\" fill=\"currentColor\" text-anchor=\"middle\" y=\"377.0\"><tspan class=\"displacy-word\" fill=\"currentColor\" x=\"1150\">a</tspan><tspan class=\"displacy-tag\" dy=\"2em\" fill=\"currentColor\" x=\"1150\">DET</tspan></text><text class=\"displacy-token\" fill=\"currentColor\" text-anchor=\"middle\" y=\"377.0\"><tspan class=\"displacy-word\" fill=\"currentColor\" x=\"1260\">interpretação</tspan><tspan class=\"displacy-tag\" dy=\"2em\" fill=\"currentColor\" x=\"1260\">NOUN</tspan></text><text class=\"displacy-token\" fill=\"currentColor\" text-anchor=\"middle\" y=\"377.0\"><tspan class=\"displacy-word\" fill=\"currentColor\" x=\"1370\">rasteira,</tspan><tspan class=\"displacy-tag\" dy=\"2em\" fill=\"currentColor\" x=\"1370\">ADJ</tspan></text><text class=\"displacy-token\" fill=\"currentColor\" text-anchor=\"middle\" y=\"377.0\"><tspan class=\"displacy-word\" fill=\"currentColor\" x=\"1480\">rasa</tspan><tspan class=\"displacy-tag\" dy=\"2em\" fill=\"currentColor\" x=\"1480\">VERB</tspan></text><text class=\"displacy-token\" fill=\"currentColor\" text-anchor=\"middle\" y=\"377.0\"><tspan class=\"displacy-word\" fill=\"currentColor\" x=\"1590\">mesmo,</tspan><tspan class=\"displacy-tag\" dy=\"2em\" fill=\"currentColor\" x=\"1590\">ADV</tspan></text><text class=\"displacy-token\" fill=\"currentColor\" text-anchor=\"middle\" y=\"377.0\"><tspan class=\"displacy-word\" fill=\"currentColor\" x=\"1700\">que</tspan><tspan class=\"displacy-tag\" dy=\"2em\" fill=\"currentColor\" x=\"1700\">SCONJ</tspan></text><text class=\"displacy-token\" fill=\"currentColor\" text-anchor=\"middle\" y=\"377.0\"><tspan class=\"displacy-word\" fill=\"currentColor\" x=\"1810\">certo</tspan><tspan class=\"displacy-tag\" dy=\"2em\" fill=\"currentColor\" x=\"1810\">DET</tspan></text><text class=\"displacy-token\" fill=\"currentColor\" text-anchor=\"middle\" y=\"377.0\"><tspan class=\"displacy-word\" fill=\"currentColor\" x=\"1920\">jornalista</tspan><tspan class=\"displacy-tag\" dy=\"2em\" fill=\"currentColor\" x=\"1920\">NOUN</tspan></text><text class=\"displacy-token\" fill=\"currentColor\" text-anchor=\"middle\" y=\"377.0\"><tspan class=\"displacy-word\" fill=\"currentColor\" x=\"2030\">fez</tspan><tspan class=\"displacy-tag\" dy=\"2em\" fill=\"currentColor\" x=\"2030\">VERB</tspan></text><text class=\"displacy-token\" fill=\"currentColor\" text-anchor=\"middle\" y=\"377.0\"><tspan class=\"displacy-word\" fill=\"currentColor\" x=\"2140\">do</tspan><tspan class=\"displacy-tag\" dy=\"2em\" fill=\"currentColor\" x=\"2140\">ADP</tspan></text><text class=\"displacy-token\" fill=\"currentColor\" text-anchor=\"middle\" y=\"377.0\"><tspan class=\"displacy-word\" fill=\"currentColor\" x=\"2250\">escravismo</tspan><tspan class=\"displacy-tag\" dy=\"2em\" fill=\"currentColor\" x=\"2250\">NOUN</tspan></text><text class=\"displacy-token\" fill=\"currentColor\" text-anchor=\"middle\" y=\"377.0\"><tspan class=\"displacy-word\" fill=\"currentColor\" x=\"2360\">e</tspan><tspan class=\"displacy-tag\" dy=\"2em\" fill=\"currentColor\" x=\"2360\">CCONJ</tspan></text><text class=\"displacy-token\" fill=\"currentColor\" text-anchor=\"middle\" y=\"377.0\"><tspan class=\"displacy-word\" fill=\"currentColor\" x=\"2470\">da</tspan><tspan class=\"displacy-tag\" dy=\"2em\" fill=\"currentColor\" x=\"2470\">ADP</tspan></text><text class=\"displacy-token\" fill=\"currentColor\" text-anchor=\"middle\" y=\"377.0\"><tspan class=\"displacy-word\" fill=\"currentColor\" x=\"2580\">agência</tspan><tspan class=\"displacy-tag\" dy=\"2em\" fill=\"currentColor\" x=\"2580\">NOUN</tspan></text><text class=\"displacy-token\" fill=\"currentColor\" text-anchor=\"middle\" y=\"377.0\"><tspan class=\"displacy-word\" fill=\"currentColor\" x=\"2690\">de</tspan><tspan class=\"displacy-tag\" dy=\"2em\" fill=\"currentColor\" x=\"2690\">ADP</tspan></text><text class=\"displacy-token\" fill=\"currentColor\" text-anchor=\"middle\" y=\"377.0\"><tspan class=\"displacy-word\" fill=\"currentColor\" x=\"2800\">mulheres</tspan><tspan class=\"displacy-tag\" dy=\"2em\" fill=\"currentColor\" x=\"2800\">NOUN</tspan></text><text class=\"displacy-token\" fill=\"currentColor\" text-anchor=\"middle\" y=\"377.0\"><tspan class=\"displacy-word\" fill=\"currentColor\" x=\"2910\">escravizadas</tspan><tspan class=\"displacy-tag\" dy=\"2em\" fill=\"currentColor\" x=\"2910\">VERB</tspan></text><text class=\"displacy-token\" fill=\"currentColor\" text-anchor=\"middle\" y=\"377.0\"><tspan class=\"displacy-word\" fill=\"currentColor\" x=\"3020\">no</tspan><tspan class=\"displacy-tag\" dy=\"2em\" fill=\"currentColor\" x=\"3020\">ADP</tspan></text><text class=\"displacy-token\" fill=\"currentColor\" text-anchor=\"middle\" y=\"377.0\"><tspan class=\"displacy-word\" fill=\"currentColor\" x=\"3130\">Brasil.</tspan><tspan class=\"displacy-tag\" dy=\"2em\" fill=\"currentColor\" x=\"3130\">PROPN</tspan></text><g class=\"displacy-arrow\"><path class=\"displacy-arc\" id=\"arrow-db018f9af71b433ca615d0917bf1a16f-0-0\" stroke-width=\"2px\" d=\"M62,332.0 62,295.3333333333333 258.0,295.3333333333333 258.0,332.0\" fill=\"none\" stroke=\"currentColor\"/><text dy=\"1.25em\" style=\"font-size: 0.8em; letter-spacing: 1px\"><textPath xlink:href=\"#arrow-db018f9af71b433ca615d0917bf1a16f-0-0\" class=\"displacy-label\" startOffset=\"50%\" side=\"left\" fill=\"currentColor\" text-anchor=\"middle\">advmod</textPath></text><path class=\"displacy-arrowhead\" d=\"M62,334.0 L58,326.0 66,326.0\" fill=\"currentColor\"/></g><g class=\"displacy-arrow\"><path class=\"displacy-arc\" id=\"arrow-db018f9af71b433ca615d0917bf1a16f-0-1\" stroke-width=\"2px\" d=\"M172,332.0 172,313.6666666666667 255.0,313.6666666666667 255.0,332.0\" fill=\"none\" stroke=\"currentColor\"/><text dy=\"1.25em\" style=\"font-size: 0.8em; letter-spacing: 1px\"><textPath xlink:href=\"#arrow-db018f9af71b433ca615d0917bf1a16f-0-1\" class=\"displacy-label\" startOffset=\"50%\" side=\"left\" fill=\"currentColor\" text-anchor=\"middle\">aux</textPath></text><path class=\"displacy-arrowhead\" d=\"M172,334.0 L168,326.0 176,326.0\" fill=\"currentColor\"/></g><g class=\"displacy-arrow\"><path class=\"displacy-arc\" id=\"arrow-db018f9af71b433ca615d0917bf1a16f-0-2\" stroke-width=\"2px\" d=\"M392,332.0 392,313.6666666666667 475.0,313.6666666666667 475.0,332.0\" fill=\"none\" stroke=\"currentColor\"/><text dy=\"1.25em\" style=\"font-size: 0.8em; letter-spacing: 1px\"><textPath xlink:href=\"#arrow-db018f9af71b433ca615d0917bf1a16f-0-2\" class=\"displacy-label\" startOffset=\"50%\" side=\"left\" fill=\"currentColor\" text-anchor=\"middle\">nummod</textPath></text><path class=\"displacy-arrowhead\" d=\"M392,334.0 L388,326.0 396,326.0\" fill=\"currentColor\"/></g><g class=\"displacy-arrow\"><path class=\"displacy-arc\" id=\"arrow-db018f9af71b433ca615d0917bf1a16f-0-3\" stroke-width=\"2px\" d=\"M282,332.0 282,295.3333333333333 478.0,295.3333333333333 478.0,332.0\" fill=\"none\" stroke=\"currentColor\"/><text dy=\"1.25em\" style=\"font-size: 0.8em; letter-spacing: 1px\"><textPath xlink:href=\"#arrow-db018f9af71b433ca615d0917bf1a16f-0-3\" class=\"displacy-label\" startOffset=\"50%\" side=\"left\" fill=\"currentColor\" text-anchor=\"middle\">obj</textPath></text><path class=\"displacy-arrowhead\" d=\"M478.0,334.0 L482.0,326.0 474.0,326.0\" fill=\"currentColor\"/></g><g class=\"displacy-arrow\"><path class=\"displacy-arc\" id=\"arrow-db018f9af71b433ca615d0917bf1a16f-0-4\" stroke-width=\"2px\" d=\"M612,332.0 612,313.6666666666667 695.0,313.6666666666667 695.0,332.0\" fill=\"none\" stroke=\"currentColor\"/><text dy=\"1.25em\" style=\"font-size: 0.8em; letter-spacing: 1px\"><textPath xlink:href=\"#arrow-db018f9af71b433ca615d0917bf1a16f-0-4\" class=\"displacy-label\" startOffset=\"50%\" side=\"left\" fill=\"currentColor\" text-anchor=\"middle\">case</textPath></text><path class=\"displacy-arrowhead\" d=\"M612,334.0 L608,326.0 616,326.0\" fill=\"currentColor\"/></g><g class=\"displacy-arrow\"><path class=\"displacy-arc\" id=\"arrow-db018f9af71b433ca615d0917bf1a16f-0-5\" stroke-width=\"2px\" d=\"M502,332.0 502,295.3333333333333 698.0,295.3333333333333 698.0,332.0\" fill=\"none\" stroke=\"currentColor\"/><text dy=\"1.25em\" style=\"font-size: 0.8em; letter-spacing: 1px\"><textPath xlink:href=\"#arrow-db018f9af71b433ca615d0917bf1a16f-0-5\" class=\"displacy-label\" startOffset=\"50%\" side=\"left\" fill=\"currentColor\" text-anchor=\"middle\">nmod</textPath></text><path class=\"displacy-arrowhead\" d=\"M698.0,334.0 L702.0,326.0 694.0,326.0\" fill=\"currentColor\"/></g><g class=\"displacy-arrow\"><path class=\"displacy-arc\" id=\"arrow-db018f9af71b433ca615d0917bf1a16f-0-6\" stroke-width=\"2px\" d=\"M722,332.0 722,313.6666666666667 805.0,313.6666666666667 805.0,332.0\" fill=\"none\" stroke=\"currentColor\"/><text dy=\"1.25em\" style=\"font-size: 0.8em; letter-spacing: 1px\"><textPath xlink:href=\"#arrow-db018f9af71b433ca615d0917bf1a16f-0-6\" class=\"displacy-label\" startOffset=\"50%\" side=\"left\" fill=\"currentColor\" text-anchor=\"middle\">acl</textPath></text><path class=\"displacy-arrowhead\" d=\"M805.0,334.0 L809.0,326.0 801.0,326.0\" fill=\"currentColor\"/></g><g class=\"displacy-arrow\"><path class=\"displacy-arc\" id=\"arrow-db018f9af71b433ca615d0917bf1a16f-0-7\" stroke-width=\"2px\" d=\"M942,332.0 942,313.6666666666667 1025.0,313.6666666666667 1025.0,332.0\" fill=\"none\" stroke=\"currentColor\"/><text dy=\"1.25em\" style=\"font-size: 0.8em; letter-spacing: 1px\"><textPath xlink:href=\"#arrow-db018f9af71b433ca615d0917bf1a16f-0-7\" class=\"displacy-label\" startOffset=\"50%\" side=\"left\" fill=\"currentColor\" text-anchor=\"middle\">mark</textPath></text><path class=\"displacy-arrowhead\" d=\"M942,334.0 L938,326.0 946,326.0\" fill=\"currentColor\"/></g><g class=\"displacy-arrow\"><path class=\"displacy-arc\" id=\"arrow-db018f9af71b433ca615d0917bf1a16f-0-8\" stroke-width=\"2px\" d=\"M282,332.0 282,258.6666666666667 1034.0,258.6666666666667 1034.0,332.0\" fill=\"none\" stroke=\"currentColor\"/><text dy=\"1.25em\" style=\"font-size: 0.8em; letter-spacing: 1px\"><textPath xlink:href=\"#arrow-db018f9af71b433ca615d0917bf1a16f-0-8\" class=\"displacy-label\" startOffset=\"50%\" side=\"left\" fill=\"currentColor\" text-anchor=\"middle\">advcl</textPath></text><path class=\"displacy-arrowhead\" d=\"M1034.0,334.0 L1038.0,326.0 1030.0,326.0\" fill=\"currentColor\"/></g><g class=\"displacy-arrow\"><path class=\"displacy-arc\" id=\"arrow-db018f9af71b433ca615d0917bf1a16f-0-9\" stroke-width=\"2px\" d=\"M1162,332.0 1162,313.6666666666667 1245.0,313.6666666666667 1245.0,332.0\" fill=\"none\" stroke=\"currentColor\"/><text dy=\"1.25em\" style=\"font-size: 0.8em; letter-spacing: 1px\"><textPath xlink:href=\"#arrow-db018f9af71b433ca615d0917bf1a16f-0-9\" class=\"displacy-label\" startOffset=\"50%\" side=\"left\" fill=\"currentColor\" text-anchor=\"middle\">det</textPath></text><path class=\"displacy-arrowhead\" d=\"M1162,334.0 L1158,326.0 1166,326.0\" fill=\"currentColor\"/></g><g class=\"displacy-arrow\"><path class=\"displacy-arc\" id=\"arrow-db018f9af71b433ca615d0917bf1a16f-0-10\" stroke-width=\"2px\" d=\"M1052,332.0 1052,295.3333333333333 1248.0,295.3333333333333 1248.0,332.0\" fill=\"none\" stroke=\"currentColor\"/><text dy=\"1.25em\" style=\"font-size: 0.8em; letter-spacing: 1px\"><textPath xlink:href=\"#arrow-db018f9af71b433ca615d0917bf1a16f-0-10\" class=\"displacy-label\" startOffset=\"50%\" side=\"left\" fill=\"currentColor\" text-anchor=\"middle\">obj</textPath></text><path class=\"displacy-arrowhead\" d=\"M1248.0,334.0 L1252.0,326.0 1244.0,326.0\" fill=\"currentColor\"/></g><g class=\"displacy-arrow\"><path class=\"displacy-arc\" id=\"arrow-db018f9af71b433ca615d0917bf1a16f-0-11\" stroke-width=\"2px\" d=\"M1272,332.0 1272,313.6666666666667 1355.0,313.6666666666667 1355.0,332.0\" fill=\"none\" stroke=\"currentColor\"/><text dy=\"1.25em\" style=\"font-size: 0.8em; letter-spacing: 1px\"><textPath xlink:href=\"#arrow-db018f9af71b433ca615d0917bf1a16f-0-11\" class=\"displacy-label\" startOffset=\"50%\" side=\"left\" fill=\"currentColor\" text-anchor=\"middle\">amod</textPath></text><path class=\"displacy-arrowhead\" d=\"M1355.0,334.0 L1359.0,326.0 1351.0,326.0\" fill=\"currentColor\"/></g><g class=\"displacy-arrow\"><path class=\"displacy-arc\" id=\"arrow-db018f9af71b433ca615d0917bf1a16f-0-12\" stroke-width=\"2px\" d=\"M282,332.0 282,240.33333333333331 1477.0,240.33333333333331 1477.0,332.0\" fill=\"none\" stroke=\"currentColor\"/><text dy=\"1.25em\" style=\"font-size: 0.8em; letter-spacing: 1px\"><textPath xlink:href=\"#arrow-db018f9af71b433ca615d0917bf1a16f-0-12\" class=\"displacy-label\" startOffset=\"50%\" side=\"left\" fill=\"currentColor\" text-anchor=\"middle\">dep</textPath></text><path class=\"displacy-arrowhead\" d=\"M1477.0,334.0 L1481.0,326.0 1473.0,326.0\" fill=\"currentColor\"/></g><g class=\"displacy-arrow\"><path class=\"displacy-arc\" id=\"arrow-db018f9af71b433ca615d0917bf1a16f-0-13\" stroke-width=\"2px\" d=\"M1492,332.0 1492,313.6666666666667 1575.0,313.6666666666667 1575.0,332.0\" fill=\"none\" stroke=\"currentColor\"/><text dy=\"1.25em\" style=\"font-size: 0.8em; letter-spacing: 1px\"><textPath xlink:href=\"#arrow-db018f9af71b433ca615d0917bf1a16f-0-13\" class=\"displacy-label\" startOffset=\"50%\" side=\"left\" fill=\"currentColor\" text-anchor=\"middle\">amod</textPath></text><path class=\"displacy-arrowhead\" d=\"M1575.0,334.0 L1579.0,326.0 1571.0,326.0\" fill=\"currentColor\"/></g><g class=\"displacy-arrow\"><path class=\"displacy-arc\" id=\"arrow-db018f9af71b433ca615d0917bf1a16f-0-14\" stroke-width=\"2px\" d=\"M1712,332.0 1712,277.0 2021.0,277.0 2021.0,332.0\" fill=\"none\" stroke=\"currentColor\"/><text dy=\"1.25em\" style=\"font-size: 0.8em; letter-spacing: 1px\"><textPath xlink:href=\"#arrow-db018f9af71b433ca615d0917bf1a16f-0-14\" class=\"displacy-label\" startOffset=\"50%\" side=\"left\" fill=\"currentColor\" text-anchor=\"middle\">obj</textPath></text><path class=\"displacy-arrowhead\" d=\"M1712,334.0 L1708,326.0 1716,326.0\" fill=\"currentColor\"/></g><g class=\"displacy-arrow\"><path class=\"displacy-arc\" id=\"arrow-db018f9af71b433ca615d0917bf1a16f-0-15\" stroke-width=\"2px\" d=\"M1822,332.0 1822,313.6666666666667 1905.0,313.6666666666667 1905.0,332.0\" fill=\"none\" stroke=\"currentColor\"/><text dy=\"1.25em\" style=\"font-size: 0.8em; letter-spacing: 1px\"><textPath xlink:href=\"#arrow-db018f9af71b433ca615d0917bf1a16f-0-15\" class=\"displacy-label\" startOffset=\"50%\" side=\"left\" fill=\"currentColor\" text-anchor=\"middle\">det</textPath></text><path class=\"displacy-arrowhead\" d=\"M1822,334.0 L1818,326.0 1826,326.0\" fill=\"currentColor\"/></g><g class=\"displacy-arrow\"><path class=\"displacy-arc\" id=\"arrow-db018f9af71b433ca615d0917bf1a16f-0-16\" stroke-width=\"2px\" d=\"M1932,332.0 1932,313.6666666666667 2015.0,313.6666666666667 2015.0,332.0\" fill=\"none\" stroke=\"currentColor\"/><text dy=\"1.25em\" style=\"font-size: 0.8em; letter-spacing: 1px\"><textPath xlink:href=\"#arrow-db018f9af71b433ca615d0917bf1a16f-0-16\" class=\"displacy-label\" startOffset=\"50%\" side=\"left\" fill=\"currentColor\" text-anchor=\"middle\">nsubj</textPath></text><path class=\"displacy-arrowhead\" d=\"M1932,334.0 L1928,326.0 1936,326.0\" fill=\"currentColor\"/></g><g class=\"displacy-arrow\"><path class=\"displacy-arc\" id=\"arrow-db018f9af71b433ca615d0917bf1a16f-0-17\" stroke-width=\"2px\" d=\"M502,332.0 502,222.0 2030.0,222.0 2030.0,332.0\" fill=\"none\" stroke=\"currentColor\"/><text dy=\"1.25em\" style=\"font-size: 0.8em; letter-spacing: 1px\"><textPath xlink:href=\"#arrow-db018f9af71b433ca615d0917bf1a16f-0-17\" class=\"displacy-label\" startOffset=\"50%\" side=\"left\" fill=\"currentColor\" text-anchor=\"middle\">acl:relcl</textPath></text><path class=\"displacy-arrowhead\" d=\"M2030.0,334.0 L2034.0,326.0 2026.0,326.0\" fill=\"currentColor\"/></g><g class=\"displacy-arrow\"><path class=\"displacy-arc\" id=\"arrow-db018f9af71b433ca615d0917bf1a16f-0-18\" stroke-width=\"2px\" d=\"M2152,332.0 2152,313.6666666666667 2235.0,313.6666666666667 2235.0,332.0\" fill=\"none\" stroke=\"currentColor\"/><text dy=\"1.25em\" style=\"font-size: 0.8em; letter-spacing: 1px\"><textPath xlink:href=\"#arrow-db018f9af71b433ca615d0917bf1a16f-0-18\" class=\"displacy-label\" startOffset=\"50%\" side=\"left\" fill=\"currentColor\" text-anchor=\"middle\">case</textPath></text><path class=\"displacy-arrowhead\" d=\"M2152,334.0 L2148,326.0 2156,326.0\" fill=\"currentColor\"/></g><g class=\"displacy-arrow\"><path class=\"displacy-arc\" id=\"arrow-db018f9af71b433ca615d0917bf1a16f-0-19\" stroke-width=\"2px\" d=\"M2042,332.0 2042,295.3333333333333 2238.0,295.3333333333333 2238.0,332.0\" fill=\"none\" stroke=\"currentColor\"/><text dy=\"1.25em\" style=\"font-size: 0.8em; letter-spacing: 1px\"><textPath xlink:href=\"#arrow-db018f9af71b433ca615d0917bf1a16f-0-19\" class=\"displacy-label\" startOffset=\"50%\" side=\"left\" fill=\"currentColor\" text-anchor=\"middle\">obj</textPath></text><path class=\"displacy-arrowhead\" d=\"M2238.0,334.0 L2242.0,326.0 2234.0,326.0\" fill=\"currentColor\"/></g><g class=\"displacy-arrow\"><path class=\"displacy-arc\" id=\"arrow-db018f9af71b433ca615d0917bf1a16f-0-20\" stroke-width=\"2px\" d=\"M2372,332.0 2372,295.3333333333333 2568.0,295.3333333333333 2568.0,332.0\" fill=\"none\" stroke=\"currentColor\"/><text dy=\"1.25em\" style=\"font-size: 0.8em; letter-spacing: 1px\"><textPath xlink:href=\"#arrow-db018f9af71b433ca615d0917bf1a16f-0-20\" class=\"displacy-label\" startOffset=\"50%\" side=\"left\" fill=\"currentColor\" text-anchor=\"middle\">cc</textPath></text><path class=\"displacy-arrowhead\" d=\"M2372,334.0 L2368,326.0 2376,326.0\" fill=\"currentColor\"/></g><g class=\"displacy-arrow\"><path class=\"displacy-arc\" id=\"arrow-db018f9af71b433ca615d0917bf1a16f-0-21\" stroke-width=\"2px\" d=\"M2482,332.0 2482,313.6666666666667 2565.0,313.6666666666667 2565.0,332.0\" fill=\"none\" stroke=\"currentColor\"/><text dy=\"1.25em\" style=\"font-size: 0.8em; letter-spacing: 1px\"><textPath xlink:href=\"#arrow-db018f9af71b433ca615d0917bf1a16f-0-21\" class=\"displacy-label\" startOffset=\"50%\" side=\"left\" fill=\"currentColor\" text-anchor=\"middle\">case</textPath></text><path class=\"displacy-arrowhead\" d=\"M2482,334.0 L2478,326.0 2486,326.0\" fill=\"currentColor\"/></g><g class=\"displacy-arrow\"><path class=\"displacy-arc\" id=\"arrow-db018f9af71b433ca615d0917bf1a16f-0-22\" stroke-width=\"2px\" d=\"M2262,332.0 2262,277.0 2571.0,277.0 2571.0,332.0\" fill=\"none\" stroke=\"currentColor\"/><text dy=\"1.25em\" style=\"font-size: 0.8em; letter-spacing: 1px\"><textPath xlink:href=\"#arrow-db018f9af71b433ca615d0917bf1a16f-0-22\" class=\"displacy-label\" startOffset=\"50%\" side=\"left\" fill=\"currentColor\" text-anchor=\"middle\">conj</textPath></text><path class=\"displacy-arrowhead\" d=\"M2571.0,334.0 L2575.0,326.0 2567.0,326.0\" fill=\"currentColor\"/></g><g class=\"displacy-arrow\"><path class=\"displacy-arc\" id=\"arrow-db018f9af71b433ca615d0917bf1a16f-0-23\" stroke-width=\"2px\" d=\"M2702,332.0 2702,313.6666666666667 2785.0,313.6666666666667 2785.0,332.0\" fill=\"none\" stroke=\"currentColor\"/><text dy=\"1.25em\" style=\"font-size: 0.8em; letter-spacing: 1px\"><textPath xlink:href=\"#arrow-db018f9af71b433ca615d0917bf1a16f-0-23\" class=\"displacy-label\" startOffset=\"50%\" side=\"left\" fill=\"currentColor\" text-anchor=\"middle\">case</textPath></text><path class=\"displacy-arrowhead\" d=\"M2702,334.0 L2698,326.0 2706,326.0\" fill=\"currentColor\"/></g><g class=\"displacy-arrow\"><path class=\"displacy-arc\" id=\"arrow-db018f9af71b433ca615d0917bf1a16f-0-24\" stroke-width=\"2px\" d=\"M2592,332.0 2592,295.3333333333333 2788.0,295.3333333333333 2788.0,332.0\" fill=\"none\" stroke=\"currentColor\"/><text dy=\"1.25em\" style=\"font-size: 0.8em; letter-spacing: 1px\"><textPath xlink:href=\"#arrow-db018f9af71b433ca615d0917bf1a16f-0-24\" class=\"displacy-label\" startOffset=\"50%\" side=\"left\" fill=\"currentColor\" text-anchor=\"middle\">nmod</textPath></text><path class=\"displacy-arrowhead\" d=\"M2788.0,334.0 L2792.0,326.0 2784.0,326.0\" fill=\"currentColor\"/></g><g class=\"displacy-arrow\"><path class=\"displacy-arc\" id=\"arrow-db018f9af71b433ca615d0917bf1a16f-0-25\" stroke-width=\"2px\" d=\"M2592,332.0 2592,277.0 2901.0,277.0 2901.0,332.0\" fill=\"none\" stroke=\"currentColor\"/><text dy=\"1.25em\" style=\"font-size: 0.8em; letter-spacing: 1px\"><textPath xlink:href=\"#arrow-db018f9af71b433ca615d0917bf1a16f-0-25\" class=\"displacy-label\" startOffset=\"50%\" side=\"left\" fill=\"currentColor\" text-anchor=\"middle\">acl</textPath></text><path class=\"displacy-arrowhead\" d=\"M2901.0,334.0 L2905.0,326.0 2897.0,326.0\" fill=\"currentColor\"/></g><g class=\"displacy-arrow\"><path class=\"displacy-arc\" id=\"arrow-db018f9af71b433ca615d0917bf1a16f-0-26\" stroke-width=\"2px\" d=\"M3032,332.0 3032,313.6666666666667 3115.0,313.6666666666667 3115.0,332.0\" fill=\"none\" stroke=\"currentColor\"/><text dy=\"1.25em\" style=\"font-size: 0.8em; letter-spacing: 1px\"><textPath xlink:href=\"#arrow-db018f9af71b433ca615d0917bf1a16f-0-26\" class=\"displacy-label\" startOffset=\"50%\" side=\"left\" fill=\"currentColor\" text-anchor=\"middle\">case</textPath></text><path class=\"displacy-arrowhead\" d=\"M3032,334.0 L3028,326.0 3036,326.0\" fill=\"currentColor\"/></g><g class=\"displacy-arrow\"><path class=\"displacy-arc\" id=\"arrow-db018f9af71b433ca615d0917bf1a16f-0-27\" stroke-width=\"2px\" d=\"M2922,332.0 2922,295.3333333333333 3118.0,295.3333333333333 3118.0,332.0\" fill=\"none\" stroke=\"currentColor\"/><text dy=\"1.25em\" style=\"font-size: 0.8em; letter-spacing: 1px\"><textPath xlink:href=\"#arrow-db018f9af71b433ca615d0917bf1a16f-0-27\" class=\"displacy-label\" startOffset=\"50%\" side=\"left\" fill=\"currentColor\" text-anchor=\"middle\">obl</textPath></text><path class=\"displacy-arrowhead\" d=\"M3118.0,334.0 L3122.0,326.0 3114.0,326.0\" fill=\"currentColor\"/></g></svg></span>"
      ],
      "text/plain": [
       "<IPython.core.display.HTML object>"
      ]
     },
     "metadata": {},
     "output_type": "display_data"
    }
   ],
   "source": [
    "displacy.render(sent5, style=\"dep\", minify=True, options={'distance': 110, 'compact': True})"
   ]
  },
  {
   "cell_type": "markdown",
   "metadata": {},
   "source": [
    "## Entidades (Named Entities Recognition)"
   ]
  },
  {
   "cell_type": "code",
   "execution_count": 25,
   "metadata": {},
   "outputs": [
    {
     "name": "stdout",
     "output_type": "stream",
     "text": [
      "Wlamyra Albuquerque PER\n",
      "Folha textos MISC\n",
      "Brasil LOC\n",
      "Historiadoras LOC\n",
      "Leandro Narloch PER\n",
      "Luxo MISC\n",
      "Folha PER\n",
      "Machado de Assis PER\n",
      "Luiz Gama PER\n",
      "Carolina de Jesus PER\n",
      "Lima Barreto PER\n",
      "Folha PER\n",
      "likes ORG\n",
      "José do Patrocínio PER\n",
      "Luiz Gama PER\n",
      "desinformam LOC\n",
      "terra LOC\n",
      "Américas LOC\n",
      "Brasil LOC\n",
      "Amazônia LOC\n",
      "Covid PER\n",
      "Brasil LOC\n"
     ]
    }
   ],
   "source": [
    "# imprimir as entidades do texto\n",
    "for ent in doc.ents:\n",
    "    print(ent.text, ent.label_)"
   ]
  },
  {
   "cell_type": "code",
   "execution_count": 26,
   "metadata": {},
   "outputs": [
    {
     "data": {
      "text/html": [
       "<span class=\"tex2jax_ignore\"><div class=\"entities\" style=\"line-height: 2.5; direction: ltr\"></br>\n",
       "<mark class=\"entity\" style=\"background: #ddd; padding: 0.45em 0.6em; margin: 0 0.25em; line-height: 1; border-radius: 0.35em;\">\n",
       "    Wlamyra Albuquerque\n",
       "    <span style=\"font-size: 0.8em; font-weight: bold; line-height: 1; border-radius: 0.35em; vertical-align: middle; margin-left: 0.5rem\">PER</span>\n",
       "</mark>\n",
       "</br></br>Quem anda com porcos... Ou negacionismo vende anúncio?</br>30 de setembro de 2021</br></br>Quem anda com porcos, farelo come. Este é um velho dito popular ainda útil para quem lê na \n",
       "<mark class=\"entity\" style=\"background: #ddd; padding: 0.45em 0.6em; margin: 0 0.25em; line-height: 1; border-radius: 0.35em;\">\n",
       "    Folha textos\n",
       "    <span style=\"font-size: 0.8em; font-weight: bold; line-height: 1; border-radius: 0.35em; vertical-align: middle; margin-left: 0.5rem\">MISC</span>\n",
       "</mark>\n",
       " que disparam paisagens negacionistas e ideias racistas e, ainda assim, têm espaço no jornal de maior circulação no país. Não vou gastar um minuto deste dia ensolarado para debater a interpretação rasteira, rasa mesmo, que certo jornalista fez do escravismo e da agência de mulheres escravizadas no \n",
       "<mark class=\"entity\" style=\"background: #ff9561; padding: 0.45em 0.6em; margin: 0 0.25em; line-height: 1; border-radius: 0.35em;\">\n",
       "    Brasil\n",
       "    <span style=\"font-size: 0.8em; font-weight: bold; line-height: 1; border-radius: 0.35em; vertical-align: middle; margin-left: 0.5rem\">LOC</span>\n",
       "</mark>\n",
       ".</br></br>É &quot;texto-farelo&quot;. \n",
       "<mark class=\"entity\" style=\"background: #ff9561; padding: 0.45em 0.6em; margin: 0 0.25em; line-height: 1; border-radius: 0.35em;\">\n",
       "    Historiadoras\n",
       "    <span style=\"font-size: 0.8em; font-weight: bold; line-height: 1; border-radius: 0.35em; vertical-align: middle; margin-left: 0.5rem\">LOC</span>\n",
       "</mark>\n",
       " estão acostumadas a sentar-se à mesa dos debates marcados por divergências bem articuladas e fundamentadas. É banquete para nós que temos discordâncias fundadas em pesquisas científicas e em leituras honestas dos textos alheios.</br></br>O artigo do colunista \n",
       "<mark class=\"entity\" style=\"background: #ddd; padding: 0.45em 0.6em; margin: 0 0.25em; line-height: 1; border-radius: 0.35em;\">\n",
       "    Leandro Narloch\n",
       "    <span style=\"font-size: 0.8em; font-weight: bold; line-height: 1; border-radius: 0.35em; vertical-align: middle; margin-left: 0.5rem\">PER</span>\n",
       "</mark>\n",
       " (&quot;\n",
       "<mark class=\"entity\" style=\"background: #ddd; padding: 0.45em 0.6em; margin: 0 0.25em; line-height: 1; border-radius: 0.35em;\">\n",
       "    Luxo\n",
       "    <span style=\"font-size: 0.8em; font-weight: bold; line-height: 1; border-radius: 0.35em; vertical-align: middle; margin-left: 0.5rem\">MISC</span>\n",
       "</mark>\n",
       " e riqueza das 'sinhás pretas' precisam inspirar o movimento negro&quot;, 29/9) não passa de farelo à mesa para leitores que merecem algo melhor. Deixemos de lado a fragilidade intelectual de quem não alcança a complexidade das sociedades escravistas. As relações de poder e as estratégias de luta de homens, crianças e mulheres escravizadas eram sofisticadas e, por isso, inatingíveis para quem enxerga o mundo por lentes embaçadas pelo negacionismo.</br></br>Aos leitores da \n",
       "<mark class=\"entity\" style=\"background: #ddd; padding: 0.45em 0.6em; margin: 0 0.25em; line-height: 1; border-radius: 0.35em;\">\n",
       "    Folha\n",
       "    <span style=\"font-size: 0.8em; font-weight: bold; line-height: 1; border-radius: 0.35em; vertical-align: middle; margin-left: 0.5rem\">PER</span>\n",
       "</mark>\n",
       " peço licença para uma sugestão: informem-se sobre o passado escravista e o racismo estrutural em fontes confiáveis, científicas. Aqui mesmo, volta e meia, são publicadas excelentes análises, em geral resultado de investimento público, produzida por historiadores e jornalistas negros e negras. Muitos deles são militantes —nem por isso abandonam os critérios da ciência em nome das suas causas. Basta que o leitor corra os dedos sobre a tela e poderá ler trabalhos, por exemplo, sobre a lei de 28 de setembro de 1871 (ventre livre) e intelectuais negros, como \n",
       "<mark class=\"entity\" style=\"background: #ddd; padding: 0.45em 0.6em; margin: 0 0.25em; line-height: 1; border-radius: 0.35em;\">\n",
       "    Machado de Assis\n",
       "    <span style=\"font-size: 0.8em; font-weight: bold; line-height: 1; border-radius: 0.35em; vertical-align: middle; margin-left: 0.5rem\">PER</span>\n",
       "</mark>\n",
       ", \n",
       "<mark class=\"entity\" style=\"background: #ddd; padding: 0.45em 0.6em; margin: 0 0.25em; line-height: 1; border-radius: 0.35em;\">\n",
       "    Luiz Gama\n",
       "    <span style=\"font-size: 0.8em; font-weight: bold; line-height: 1; border-radius: 0.35em; vertical-align: middle; margin-left: 0.5rem\">PER</span>\n",
       "</mark>\n",
       ", \n",
       "<mark class=\"entity\" style=\"background: #ddd; padding: 0.45em 0.6em; margin: 0 0.25em; line-height: 1; border-radius: 0.35em;\">\n",
       "    Carolina de Jesus\n",
       "    <span style=\"font-size: 0.8em; font-weight: bold; line-height: 1; border-radius: 0.35em; vertical-align: middle; margin-left: 0.5rem\">PER</span>\n",
       "</mark>\n",
       " e \n",
       "<mark class=\"entity\" style=\"background: #ddd; padding: 0.45em 0.6em; margin: 0 0.25em; line-height: 1; border-radius: 0.35em;\">\n",
       "    Lima Barreto\n",
       "    <span style=\"font-size: 0.8em; font-weight: bold; line-height: 1; border-radius: 0.35em; vertical-align: middle; margin-left: 0.5rem\">PER</span>\n",
       "</mark>\n",
       ".</br></br>E como a história é dada a bons debates e banquetes de ideias, o que vale a pena é perguntar para os leitores da \n",
       "<mark class=\"entity\" style=\"background: #ddd; padding: 0.45em 0.6em; margin: 0 0.25em; line-height: 1; border-radius: 0.35em;\">\n",
       "    Folha\n",
       "    <span style=\"font-size: 0.8em; font-weight: bold; line-height: 1; border-radius: 0.35em; vertical-align: middle; margin-left: 0.5rem\">PER</span>\n",
       "</mark>\n",
       " se a estratégia, tão antiga quanto o papel impresso, de abrir espaço para &quot;texto-farelo&quot; na tentativa de atiçar debates rasteiros ainda vende anúncio. A questão é saber se abrir espaço para teorias negacionistas que sustentam exclusões e genocídio num país enlutado por trás das máscaras arriadas até o queixo ainda é negócio que rende \n",
       "<mark class=\"entity\" style=\"background: #7aecec; padding: 0.45em 0.6em; margin: 0 0.25em; line-height: 1; border-radius: 0.35em;\">\n",
       "    likes\n",
       "    <span style=\"font-size: 0.8em; font-weight: bold; line-height: 1; border-radius: 0.35em; vertical-align: middle; margin-left: 0.5rem\">ORG</span>\n",
       "</mark>\n",
       ".</br></br>Quando a escravidão já não podia ser sustentada pelos grandes senhores e a monarquia estava moribunda, \n",
       "<mark class=\"entity\" style=\"background: #ddd; padding: 0.45em 0.6em; margin: 0 0.25em; line-height: 1; border-radius: 0.35em;\">\n",
       "    José do Patrocínio\n",
       "    <span style=\"font-size: 0.8em; font-weight: bold; line-height: 1; border-radius: 0.35em; vertical-align: middle; margin-left: 0.5rem\">PER</span>\n",
       "</mark>\n",
       ", este sim jornalista talentoso, se recusou a sentar à mesa dos fazendeiros rendidos aos ideais republicanos, mas relutantes a aderir à defesa da abolição. Já \n",
       "<mark class=\"entity\" style=\"background: #ddd; padding: 0.45em 0.6em; margin: 0 0.25em; line-height: 1; border-radius: 0.35em;\">\n",
       "    Luiz Gama\n",
       "    <span style=\"font-size: 0.8em; font-weight: bold; line-height: 1; border-radius: 0.35em; vertical-align: middle; margin-left: 0.5rem\">PER</span>\n",
       "</mark>\n",
       " foi mestre ao questionar os jornais que diziam defender o fim do escravismo, enquanto publicavam anúncios de recompensas por captura de escravos. &quot;Hipócritas&quot;, dizia ele.</br></br>Eu sei, já deve haver alguém aí prestes a reivindicar a liberdade de opinião. Certamente não estão entre estes os leitores sensatos o suficiente para desconfiar de lunáticos terraplanistas, jornalistas que negam a violência inerente ao escravismo e ao holocausto. Quem defende essas aberrações só se arrisca ao sol porque a imprensa lhes oferece água fresca na sombra das suas opiniões toscas.</br></br>A historiografia é feita de muito debates acalorados. Não pensem os leitores que há consenso entre nós sobre o que foi o passado do escravismo, tampouco sobre a importância das ações dos escravizados para falência do escravismo, nem mesmo sobre as razões que levaram à abolição, em 1888.</br></br>Sim, a ciência também se alimenta de opiniões divergentes e diversos pontos de vistas. Mas aqui estou falando sobre gente que, mesmo discordando, pactua em torno de critérios razoáveis de análise do passado. Por isso, o que vale a pena é que a gente gaste o tempo avaliando porque os jornais ainda oferecem &quot;textos-farelo&quot; que \n",
       "<mark class=\"entity\" style=\"background: #ff9561; padding: 0.45em 0.6em; margin: 0 0.25em; line-height: 1; border-radius: 0.35em;\">\n",
       "    desinformam\n",
       "    <span style=\"font-size: 0.8em; font-weight: bold; line-height: 1; border-radius: 0.35em; vertical-align: middle; margin-left: 0.5rem\">LOC</span>\n",
       "</mark>\n",
       ", que divulgam falsas teorias, que pintam cenários distorcidos.</br></br>Já sabemos, não é opinião: a \n",
       "<mark class=\"entity\" style=\"background: #ff9561; padding: 0.45em 0.6em; margin: 0 0.25em; line-height: 1; border-radius: 0.35em;\">\n",
       "    terra\n",
       "    <span style=\"font-size: 0.8em; font-weight: bold; line-height: 1; border-radius: 0.35em; vertical-align: middle; margin-left: 0.5rem\">LOC</span>\n",
       "</mark>\n",
       " é redonda, milhões de africanos foram escravizados nas \n",
       "<mark class=\"entity\" style=\"background: #ff9561; padding: 0.45em 0.6em; margin: 0 0.25em; line-height: 1; border-radius: 0.35em;\">\n",
       "    Américas\n",
       "    <span style=\"font-size: 0.8em; font-weight: bold; line-height: 1; border-radius: 0.35em; vertical-align: middle; margin-left: 0.5rem\">LOC</span>\n",
       "</mark>\n",
       ", milhões de judeus foram massacrados pelos nazistas, houve ditadura no \n",
       "<mark class=\"entity\" style=\"background: #ff9561; padding: 0.45em 0.6em; margin: 0 0.25em; line-height: 1; border-radius: 0.35em;\">\n",
       "    Brasil\n",
       "    <span style=\"font-size: 0.8em; font-weight: bold; line-height: 1; border-radius: 0.35em; vertical-align: middle; margin-left: 0.5rem\">LOC</span>\n",
       "</mark>\n",
       ", as populações indígenas seguem sendo dizimadas, a \n",
       "<mark class=\"entity\" style=\"background: #ff9561; padding: 0.45em 0.6em; margin: 0 0.25em; line-height: 1; border-radius: 0.35em;\">\n",
       "    Amazônia\n",
       "    <span style=\"font-size: 0.8em; font-weight: bold; line-height: 1; border-radius: 0.35em; vertical-align: middle; margin-left: 0.5rem\">LOC</span>\n",
       "</mark>\n",
       " está devastada, a cloroquina não previne a \n",
       "<mark class=\"entity\" style=\"background: #ddd; padding: 0.45em 0.6em; margin: 0 0.25em; line-height: 1; border-radius: 0.35em;\">\n",
       "    Covid\n",
       "    <span style=\"font-size: 0.8em; font-weight: bold; line-height: 1; border-radius: 0.35em; vertical-align: middle; margin-left: 0.5rem\">PER</span>\n",
       "</mark>\n",
       ", o \n",
       "<mark class=\"entity\" style=\"background: #ff9561; padding: 0.45em 0.6em; margin: 0 0.25em; line-height: 1; border-radius: 0.35em;\">\n",
       "    Brasil\n",
       "    <span style=\"font-size: 0.8em; font-weight: bold; line-height: 1; border-radius: 0.35em; vertical-align: middle; margin-left: 0.5rem\">LOC</span>\n",
       "</mark>\n",
       " é um país racista e leituras rasas da história não provocam debates que valham a pena.</br></br>Decidam-se os leitores sobre a coerência e o compromisso com a ciência do maior jornal em circulação no país. Não dá para defender a democracia e continuar publicando versões falseadas da escravidão apenas para adocicar o racismo e colecionar likes. Decidam-se: quem anda com porcos, farelo come.</div></span>"
      ],
      "text/plain": [
       "<IPython.core.display.HTML object>"
      ]
     },
     "metadata": {},
     "output_type": "display_data"
    }
   ],
   "source": [
    "displacy.render(doc, style=\"ent\")"
   ]
  },
  {
   "cell_type": "code",
   "execution_count": 27,
   "metadata": {},
   "outputs": [
    {
     "name": "stdout",
     "output_type": "stream",
     "text": [
      "Wlamyra Albuquerque\n",
      "Leandro Narloch\n",
      "Folha\n",
      "Machado de Assis\n",
      "Luiz Gama\n",
      "Carolina de Jesus\n",
      "Lima Barreto\n",
      "Folha\n",
      "José do Patrocínio\n",
      "Luiz Gama\n",
      "Covid\n"
     ]
    }
   ],
   "source": [
    "# imprimiar apenas as entidades do tipo PERSON\n",
    "for named_entity in doc.ents:\n",
    "    if named_entity.label_ == \"PER\":\n",
    "        print(named_entity)"
   ]
  },
  {
   "cell_type": "code",
   "execution_count": 28,
   "metadata": {},
   "outputs": [
    {
     "name": "stdout",
     "output_type": "stream",
     "text": [
      "anda andar\n",
      "vende vender\n",
      "anda andar\n",
      "come comer\n",
      "dito dizer\n",
      "lê ler\n",
      "disparam disparar\n",
      "têm ter\n",
      "gastar gastar\n",
      "ensolarado ensolarado\n",
      "debater debater\n",
      "rasa raso\n",
      "fez fazer\n",
      "escravizadas escravizar\n",
      "sentar-se sentar-se\n",
      "marcados marcar\n",
      "articuladas articular\n",
      "fundamentadas fundamentar\n",
      "temos ter\n",
      "fundadas fundar\n",
      "precisam precisar\n",
      "inspirar inspirar\n",
      "passa passar\n",
      "merecem merecer\n",
      "Deixemos Deixemos\n",
      "alcança alcançar\n",
      "escravizadas escravizar\n",
      "enxerga enxergar\n",
      "embaçadas embaçar\n",
      "peço pedir\n",
      "informem-se informem-se\n",
      "publicadas publicar\n",
      "produzida produzir\n",
      "abandonam abandonar\n",
      "Basta Basta\n",
      "corra correr\n",
      "poderá poder\n",
      "ler ler\n",
      "dada dar\n",
      "vale valer\n",
      "perguntar perguntar\n",
      "impresso impresso\n",
      "abrir abrir\n",
      "atiçar atiçar\n",
      "vende vender\n",
      "saber saber\n",
      "abrir abrir\n",
      "sustentam sustentar\n",
      "enlutado enlutar\n",
      "arriadas arriar\n",
      "rende render\n",
      "podia poder\n",
      "sustentada sustentar\n",
      "recusou recusar\n",
      "sentar sentar\n",
      "rendidos rendido\n",
      "aderir aderir\n",
      "questionar questionar\n",
      "diziam dizer\n",
      "defender defender\n",
      "publicavam publicar\n",
      "dizia dizer\n",
      "sei saber\n",
      "deve dever\n",
      "haver haver\n",
      "reivindicar reivindicar\n",
      "desconfiar desconfiar\n",
      "negam negar\n",
      "defende defender\n",
      "arrisca arriscar\n",
      "oferece oferecer\n",
      "feita feito\n",
      "pensem pensar\n",
      "há haver\n",
      "levaram levar\n",
      "alimenta alimentar\n",
      "vistas visto\n",
      "falando falar\n",
      "discordando discordar\n",
      "pactua pactuar\n",
      "vale valer\n",
      "é ser\n",
      "gaste gastar\n",
      "avaliando avaliar\n",
      "oferecem oferecer\n",
      "desinformam desinformar\n",
      "divulgam divulgar\n",
      "pintam pintar\n",
      "distorcidos distorcido\n",
      "sabemos saber\n",
      "escravizados escravizar\n",
      "massacrados massacrar\n",
      "houve haver\n",
      "seguem seguir\n",
      "dizimadas dizimar\n",
      "previne prevenir\n",
      "provocam provocar\n",
      "valham valer\n",
      "Decidam-se Decidam-se\n",
      "dá dar\n",
      "defender defender\n",
      "continuar continuar\n",
      "publicando publicar\n",
      "falseadas falsear\n",
      "adocicar adocicar\n",
      "colecionar colecionar\n",
      "Decidam-se Decidam-se\n",
      "anda andar\n",
      "come comer\n"
     ]
    }
   ],
   "source": [
    "# imprimir apenas as entidades do tipo VERB e seu lemma\n",
    "for token in doc:\n",
    "    if token.pos_ == 'VERB':\n",
    "        print(token, token.lemma_)"
   ]
  },
  {
   "cell_type": "markdown",
   "metadata": {},
   "source": [
    "## Vamos ver como funciona em inglês?"
   ]
  },
  {
   "cell_type": "code",
   "execution_count": null,
   "metadata": {},
   "outputs": [],
   "source": [
    "corpus = open('pos_1900.txt', 'r').read()"
   ]
  },
  {
   "cell_type": "code",
   "execution_count": null,
   "metadata": {},
   "outputs": [],
   "source": [
    "!python -m spacy download en_core_web_sm"
   ]
  },
  {
   "cell_type": "code",
   "execution_count": null,
   "metadata": {},
   "outputs": [],
   "source": [
    "nlp_en = spacy.load('en_core_web_sm')"
   ]
  },
  {
   "cell_type": "code",
   "execution_count": null,
   "metadata": {},
   "outputs": [],
   "source": [
    "doc_en = nlp_en(corpus)"
   ]
  },
  {
   "cell_type": "code",
   "execution_count": null,
   "metadata": {},
   "outputs": [],
   "source": [
    "displacy.render(doc_en, style=\"ent\")"
   ]
  }
 ],
 "metadata": {
  "interpreter": {
   "hash": "916dbcbb3f70747c44a77c7bcd40155683ae19c65e1c03b4aa3499c5328201f1"
  },
  "kernelspec": {
   "display_name": "Python 3.9.5 64-bit",
   "name": "python3"
  },
  "language_info": {
   "codemirror_mode": {
    "name": "ipython",
    "version": 3
   },
   "file_extension": ".py",
   "mimetype": "text/x-python",
   "name": "python",
   "nbconvert_exporter": "python",
   "pygments_lexer": "ipython3",
   "version": "3.9.5"
  },
  "orig_nbformat": 4
 },
 "nbformat": 4,
 "nbformat_minor": 2
}
